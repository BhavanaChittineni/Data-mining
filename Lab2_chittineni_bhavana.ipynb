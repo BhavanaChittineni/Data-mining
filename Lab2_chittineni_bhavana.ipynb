{
 "cells": [
  {
   "cell_type": "code",
   "execution_count": 1,
   "id": "0f4b9d4b-17eb-4fdd-a411-871ce1d4be9e",
   "metadata": {},
   "outputs": [
    {
     "name": "stdout",
     "output_type": "stream",
     "text": [
      "<class 'pandas.core.frame.DataFrame'>\n",
      "RangeIndex: 1338 entries, 0 to 1337\n",
      "Data columns (total 18 columns):\n",
      " #   Column               Non-Null Count  Dtype  \n",
      "---  ------               --------------  -----  \n",
      " 0   age                  1338 non-null   float64\n",
      " 1   sex                  1338 non-null   int64  \n",
      " 2   bmi                  1338 non-null   float64\n",
      " 3   children             1338 non-null   float64\n",
      " 4   smoker               1338 non-null   int64  \n",
      " 5   charges              1338 non-null   float64\n",
      " 6   avg_steps_per_day    1338 non-null   float64\n",
      " 7   gym_frequency        1338 non-null   int64  \n",
      " 8   time_spent_in_gym    1338 non-null   int64  \n",
      " 9   region_northeast     1338 non-null   bool   \n",
      " 10  region_northwest     1338 non-null   bool   \n",
      " 11  region_southeast     1338 non-null   bool   \n",
      " 12  region_southwest     1338 non-null   bool   \n",
      " 13  occupation_Artist    1338 non-null   bool   \n",
      " 14  occupation_Doctor    1338 non-null   bool   \n",
      " 15  occupation_Engineer  1338 non-null   bool   \n",
      " 16  occupation_Other     1338 non-null   bool   \n",
      " 17  occupation_Teacher   1338 non-null   bool   \n",
      "dtypes: bool(9), float64(5), int64(4)\n",
      "memory usage: 106.0 KB\n"
     ]
    },
    {
     "name": "stderr",
     "output_type": "stream",
     "text": [
      "C:\\Users\\lokna\\AppData\\Local\\Temp\\ipykernel_19680\\269876784.py:1: DeprecationWarning: \n",
      "Pyarrow will become a required dependency of pandas in the next major release of pandas (pandas 3.0),\n",
      "(to allow more performant data types, such as the Arrow string type, and better interoperability with other libraries)\n",
      "but was not found to be installed on your system.\n",
      "If this would cause problems for you,\n",
      "please provide us feedback at https://github.com/pandas-dev/pandas/issues/54466\n",
      "        \n",
      "  import pandas as pd\n"
     ]
    }
   ],
   "source": [
    "import pandas as pd \n",
    "df = pd.read_csv('C:\\\\Users\\\\lokna\\\\updated_insurance.csv') \n",
    "df.info()"
   ]
  },
  {
   "cell_type": "code",
   "execution_count": 2,
   "id": "4413e2de-5059-4d36-ab8f-9aaf8965aadf",
   "metadata": {},
   "outputs": [
    {
     "name": "stdout",
     "output_type": "stream",
     "text": [
      "<class 'pandas.core.frame.DataFrame'>\n",
      "RangeIndex: 1338 entries, 0 to 1337\n",
      "Data columns (total 17 columns):\n",
      " #   Column               Non-Null Count  Dtype  \n",
      "---  ------               --------------  -----  \n",
      " 0   age                  1338 non-null   float64\n",
      " 1   sex                  1338 non-null   int64  \n",
      " 2   bmi                  1338 non-null   float64\n",
      " 3   children             1338 non-null   float64\n",
      " 4   smoker               1338 non-null   int64  \n",
      " 5   avg_steps_per_day    1338 non-null   float64\n",
      " 6   gym_frequency        1338 non-null   int64  \n",
      " 7   time_spent_in_gym    1338 non-null   int64  \n",
      " 8   region_northeast     1338 non-null   bool   \n",
      " 9   region_northwest     1338 non-null   bool   \n",
      " 10  region_southeast     1338 non-null   bool   \n",
      " 11  region_southwest     1338 non-null   bool   \n",
      " 12  occupation_Artist    1338 non-null   bool   \n",
      " 13  occupation_Doctor    1338 non-null   bool   \n",
      " 14  occupation_Engineer  1338 non-null   bool   \n",
      " 15  occupation_Other     1338 non-null   bool   \n",
      " 16  occupation_Teacher   1338 non-null   bool   \n",
      "dtypes: bool(9), float64(4), int64(4)\n",
      "memory usage: 95.5 KB\n",
      "None\n",
      "<class 'pandas.core.series.Series'>\n",
      "RangeIndex: 1338 entries, 0 to 1337\n",
      "Series name: charges\n",
      "Non-Null Count  Dtype  \n",
      "--------------  -----  \n",
      "1338 non-null   float64\n",
      "dtypes: float64(1)\n",
      "memory usage: 10.6 KB\n",
      "None\n"
     ]
    }
   ],
   "source": [
    "X = df.drop('charges', axis=1)\n",
    "y = df['charges']\n",
    "print(X.info())\n",
    "print(y.info())\n"
   ]
  },
  {
   "cell_type": "markdown",
   "id": "7c26c491-91fd-4e5b-8e79-5f42dddd0050",
   "metadata": {},
   "source": [
    "1st question"
   ]
  },
  {
   "cell_type": "code",
   "execution_count": 3,
   "id": "3cf686eb-74b9-43f8-8b43-ea310ea2e10b",
   "metadata": {},
   "outputs": [
    {
     "name": "stdout",
     "output_type": "stream",
     "text": [
      "39.0\n"
     ]
    }
   ],
   "source": [
    "import numpy as np\n",
    "median_age = np.median(X['age'])\n",
    "print(median_age)"
   ]
  },
  {
   "cell_type": "markdown",
   "id": "ab7f50db-ee4d-4cd4-b239-c564893d0902",
   "metadata": {},
   "source": [
    "2nd question"
   ]
  },
  {
   "cell_type": "code",
   "execution_count": 4,
   "id": "f01c5eba-117b-42fb-91c9-bc8b92d127cd",
   "metadata": {},
   "outputs": [
    {
     "name": "stdout",
     "output_type": "stream",
     "text": [
      "           age  sex       bmi  children  smoker  avg_steps_per_day  \\\n",
      "0     0.021739  0.0  0.321227       0.0     0.0           0.678161   \n",
      "1     0.000000  1.0  0.391041       0.2     1.0           0.678161   \n",
      "2     0.217391  1.0  0.458434       0.6     1.0           0.678161   \n",
      "3     0.326087  1.0  0.181464       0.0     1.0           0.563218   \n",
      "4     0.304348  1.0  0.347592       0.0     1.0           0.632184   \n",
      "...        ...  ...       ...       ...     ...                ...   \n",
      "1333  0.695652  1.0  0.403820       0.6     1.0           0.505747   \n",
      "1334  0.000000  0.0  0.429379       0.0     1.0           0.632184   \n",
      "1335  0.456522  0.0  0.562012       0.0     1.0           0.632184   \n",
      "1336  0.065217  0.0  0.264730       0.0     1.0           0.919540   \n",
      "1337  0.934783  0.0  0.352704       0.0     1.0           0.206897   \n",
      "\n",
      "      gym_frequency  time_spent_in_gym  region_northeast  region_northwest  \\\n",
      "0          0.333333               0.75               0.0               0.0   \n",
      "1          0.666667               0.50               0.0               0.0   \n",
      "2          1.000000               0.75               0.0               1.0   \n",
      "3          0.333333               1.00               0.0               1.0   \n",
      "4          0.666667               1.00               0.0               1.0   \n",
      "...             ...                ...               ...               ...   \n",
      "1333       0.666667               0.50               0.0               1.0   \n",
      "1334       1.000000               0.75               1.0               0.0   \n",
      "1335       0.666667               0.75               0.0               0.0   \n",
      "1336       0.333333               0.50               0.0               0.0   \n",
      "1337       0.666667               0.00               0.0               1.0   \n",
      "\n",
      "      region_southeast  region_southwest  occupation_Artist  \\\n",
      "0                  0.0               1.0                0.0   \n",
      "1                  1.0               0.0                0.0   \n",
      "2                  0.0               0.0                1.0   \n",
      "3                  0.0               0.0                1.0   \n",
      "4                  0.0               0.0                1.0   \n",
      "...                ...               ...                ...   \n",
      "1333               0.0               0.0                0.0   \n",
      "1334               0.0               0.0                1.0   \n",
      "1335               0.0               1.0                0.0   \n",
      "1336               0.0               1.0                0.0   \n",
      "1337               0.0               0.0                0.0   \n",
      "\n",
      "      occupation_Doctor  occupation_Engineer  occupation_Other  \\\n",
      "0                   0.0                  0.0               1.0   \n",
      "1                   0.0                  1.0               0.0   \n",
      "2                   0.0                  0.0               0.0   \n",
      "3                   0.0                  0.0               0.0   \n",
      "4                   0.0                  0.0               0.0   \n",
      "...                 ...                  ...               ...   \n",
      "1333                1.0                  0.0               0.0   \n",
      "1334                0.0                  0.0               0.0   \n",
      "1335                0.0                  1.0               0.0   \n",
      "1336                0.0                  0.0               0.0   \n",
      "1337                0.0                  1.0               0.0   \n",
      "\n",
      "      occupation_Teacher  \n",
      "0                    0.0  \n",
      "1                    0.0  \n",
      "2                    0.0  \n",
      "3                    0.0  \n",
      "4                    0.0  \n",
      "...                  ...  \n",
      "1333                 0.0  \n",
      "1334                 0.0  \n",
      "1335                 0.0  \n",
      "1336                 1.0  \n",
      "1337                 0.0  \n",
      "\n",
      "[1338 rows x 17 columns]\n",
      "Median of column age in X_scaled: 0.46\n"
     ]
    }
   ],
   "source": [
    "from sklearn.preprocessing import MinMaxScaler #importing minmaxscaler from sklearn \n",
    "\n",
    "# scale the feature set\n",
    "scaler = MinMaxScaler() # creating object for minmaxscaler intially the range is between (0,1)\n",
    "X_scaled = pd.DataFrame(scaler.fit_transform(X), columns=X.columns) # the fit transformed is used and assign to new varoable X_scaled\n",
    "print(X_scaled)\n",
    "# calculate the median of column age in X_scaled\n",
    "median_age = X_scaled['age'].median()\n",
    "print(f\"Median of column age in X_scaled: {median_age:.2f}\")"
   ]
  },
  {
   "cell_type": "markdown",
   "id": "7783d47a-c944-43d3-9e97-ed4f2fec9d7d",
   "metadata": {},
   "source": [
    "3rd question"
   ]
  },
  {
   "cell_type": "code",
   "execution_count": 5,
   "id": "c4aa9513-3cfe-49bc-8d68-e85ec5c53674",
   "metadata": {},
   "outputs": [
    {
     "name": "stdout",
     "output_type": "stream",
     "text": [
      "Distance threshold value that results in 4 clusters: 22\n"
     ]
    }
   ],
   "source": [
    "from sklearn.cluster import AgglomerativeClustering\n",
    "\n",
    "# create an AgglomerativeClustering object with n_clusters=None\n",
    "clusterer = AgglomerativeClustering(n_clusters=None, linkage = 'ward')\n",
    "\n",
    "# loop over a range of distance_threshold values from 1 to 35\n",
    "for distance_threshold in range(1, 35):\n",
    "    # set the distance_threshold value for this iteration\n",
    "    clusterer.set_params(distance_threshold=distance_threshold) #set_params() method is used to set the distance_threshold parameter of agglomerativeclustering to the current distance_threshold \n",
    "\n",
    "# for every iteration the distance threshold value changes that the agglomerativeclustering algorithm is fitted to the data with updated threshold value\n",
    "    # fit the clusterer to the data and get the number of clusters\n",
    "    cluster_labels = clusterer.fit_predict(X_scaled) #the clusterer fits to the scaled data and simultaneously predicts the cluster lables at each point using fit-predict method\n",
    "    num_clusters = len(set(cluster_labels)) # number of unique clusted labels assigned to sample is counted.this is done by converting cluster_labels array into set \n",
    "\n",
    "    # check if the number of clusters is 4\n",
    "    if num_clusters == 4:\n",
    "        print(f\"Distance threshold value that results in 4 clusters: {distance_threshold}\")\n",
    "        break"
   ]
  },
  {
   "cell_type": "markdown",
   "id": "b31c08c0-0241-4cf7-b93a-7e97e399b6ba",
   "metadata": {},
   "source": [
    "4th question"
   ]
  },
  {
   "cell_type": "code",
   "execution_count": 6,
   "id": "99c1541b-8400-4be7-bb42-1a919bdf596a",
   "metadata": {},
   "outputs": [
    {
     "name": "stdout",
     "output_type": "stream",
     "text": [
      "Cluster Sizes:\n",
      "{0: 466, 1: 359, 2: 257, 3: 256}\n",
      "\n",
      "Cluster Characteristics:\n",
      "Cluster 0: [Characteristics for Cluster 0]\n",
      "Cluster 1: [Characteristics for Cluster 1]\n",
      "Cluster 2: [Characteristics for Cluster 2]\n",
      "Cluster 3: [Characteristics for Cluster 3]\n"
     ]
    }
   ],
   "source": [
    "from sklearn.cluster import AgglomerativeClustering\n",
    "\n",
    "# Create an AgglomerativeClustering object with n_clusters=None and linkage='ward'\n",
    "clusterer = AgglomerativeClustering(n_clusters=None, linkage='ward', distance_threshold=22)\n",
    "\n",
    "# Fit the model and get cluster labels\n",
    "cluster_labels = clusterer.fit_predict(X_scaled)\n",
    "\n",
    "# Compute the size of each cluster\n",
    "cluster_sizes = {cluster_label: sum(cluster_labels == cluster_label) for cluster_label in set(cluster_labels)}\n",
    "\n",
    "# Compute the characteristics/features of each cluster\n",
    "# You can compute statistics or describe the characteristics based on your data and context\n",
    "# Replace the placeholders with the actual characteristics of each cluster\n",
    "cluster_characteristics = {\n",
    "    'Cluster 0': '[Characteristics for Cluster 0]',\n",
    "    'Cluster 1': '[Characteristics for Cluster 1]',\n",
    "    'Cluster 2': '[Characteristics for Cluster 2]',\n",
    "    'Cluster 3': '[Characteristics for Cluster 3]'\n",
    "}\n",
    "\n",
    "# Print cluster sizes and characteristics\n",
    "print(\"Cluster Sizes:\")\n",
    "print(cluster_sizes)\n",
    "print(\"\\nCluster Characteristics:\")\n",
    "for cluster, characteristics in cluster_characteristics.items():\n",
    "    print(f\"{cluster}: {characteristics}\")\n",
    "\n",
    "\n"
   ]
  },
  {
   "cell_type": "markdown",
   "id": "f1bb6e09-4d5f-49f7-abd1-3270fa6380d7",
   "metadata": {},
   "source": [
    "2nd model for 4th question"
   ]
  },
  {
   "cell_type": "code",
   "execution_count": 7,
   "id": "bd1949c5-6495-4103-a3d3-685f9977f8e9",
   "metadata": {},
   "outputs": [
    {
     "name": "stdout",
     "output_type": "stream",
     "text": [
      "Size\n",
      "Cluster 0: 466\n",
      "Cluster 1: 359\n",
      "Cluster 2: 257\n",
      "Cluster 3: 256\n"
     ]
    }
   ],
   "source": [
    "from sklearn.cluster import AgglomerativeClustering\n",
    "import numpy as np\n",
    "\n",
    "# Train an Agglomerative clustering model with all default parameters and distance_threshold=22\n",
    "clusterer = AgglomerativeClustering(n_clusters=None, distance_threshold=22)\n",
    "cluster_labels = clusterer.fit_predict(X_scaled)\n",
    "\n",
    "# Compute the size of each cluster\n",
    "cluster_sizes = np.bincount(cluster_labels)\n",
    "\n",
    "# Print the size of each cluster in the table\n",
    "print(\"Size\")\n",
    "print(\"Cluster 0: \" + str(cluster_sizes[0]))\n",
    "print(\"Cluster 1: \" + str(cluster_sizes[1]))\n",
    "print(\"Cluster 2: \" + str(cluster_sizes[2]))\n",
    "print(\"Cluster 3: \" + str(cluster_sizes[3]))"
   ]
  },
  {
   "cell_type": "code",
   "execution_count": 8,
   "id": "42916ca8-3900-449c-977a-4fe41fa245df",
   "metadata": {},
   "outputs": [
    {
     "name": "stdout",
     "output_type": "stream",
     "text": [
      "[1 3 2 ... 3 0 3]\n"
     ]
    }
   ],
   "source": [
    "print(cluster_labels)"
   ]
  },
  {
   "cell_type": "code",
   "execution_count": 9,
   "id": "50197221-3f92-44d8-87b5-4464bc9350bc",
   "metadata": {},
   "outputs": [
    {
     "data": {
      "text/html": [
       "<div>\n",
       "<style scoped>\n",
       "    .dataframe tbody tr th:only-of-type {\n",
       "        vertical-align: middle;\n",
       "    }\n",
       "\n",
       "    .dataframe tbody tr th {\n",
       "        vertical-align: top;\n",
       "    }\n",
       "\n",
       "    .dataframe thead th {\n",
       "        text-align: right;\n",
       "    }\n",
       "</style>\n",
       "<table border=\"1\" class=\"dataframe\">\n",
       "  <thead>\n",
       "    <tr style=\"text-align: right;\">\n",
       "      <th></th>\n",
       "      <th>age</th>\n",
       "      <th>sex</th>\n",
       "      <th>bmi</th>\n",
       "      <th>children</th>\n",
       "      <th>smoker</th>\n",
       "      <th>avg_steps_per_day</th>\n",
       "      <th>gym_frequency</th>\n",
       "      <th>time_spent_in_gym</th>\n",
       "      <th>region_northeast</th>\n",
       "      <th>region_northwest</th>\n",
       "      <th>region_southeast</th>\n",
       "      <th>region_southwest</th>\n",
       "      <th>occupation_Artist</th>\n",
       "      <th>occupation_Doctor</th>\n",
       "      <th>occupation_Engineer</th>\n",
       "      <th>occupation_Other</th>\n",
       "      <th>occupation_Teacher</th>\n",
       "      <th>cluster_label</th>\n",
       "    </tr>\n",
       "  </thead>\n",
       "  <tbody>\n",
       "    <tr>\n",
       "      <th>0</th>\n",
       "      <td>19.0</td>\n",
       "      <td>0.0</td>\n",
       "      <td>27.900</td>\n",
       "      <td>0.0</td>\n",
       "      <td>0.0</td>\n",
       "      <td>8900.0</td>\n",
       "      <td>1.0</td>\n",
       "      <td>45.0</td>\n",
       "      <td>0.0</td>\n",
       "      <td>0.0</td>\n",
       "      <td>0.0</td>\n",
       "      <td>1.0</td>\n",
       "      <td>0.0</td>\n",
       "      <td>0.0</td>\n",
       "      <td>0.0</td>\n",
       "      <td>1.0</td>\n",
       "      <td>0.0</td>\n",
       "      <td>1</td>\n",
       "    </tr>\n",
       "    <tr>\n",
       "      <th>1</th>\n",
       "      <td>18.0</td>\n",
       "      <td>1.0</td>\n",
       "      <td>30.495</td>\n",
       "      <td>1.0</td>\n",
       "      <td>1.0</td>\n",
       "      <td>8900.0</td>\n",
       "      <td>2.0</td>\n",
       "      <td>30.0</td>\n",
       "      <td>0.0</td>\n",
       "      <td>0.0</td>\n",
       "      <td>1.0</td>\n",
       "      <td>0.0</td>\n",
       "      <td>0.0</td>\n",
       "      <td>0.0</td>\n",
       "      <td>1.0</td>\n",
       "      <td>0.0</td>\n",
       "      <td>0.0</td>\n",
       "      <td>3</td>\n",
       "    </tr>\n",
       "    <tr>\n",
       "      <th>2</th>\n",
       "      <td>28.0</td>\n",
       "      <td>1.0</td>\n",
       "      <td>33.000</td>\n",
       "      <td>3.0</td>\n",
       "      <td>1.0</td>\n",
       "      <td>8900.0</td>\n",
       "      <td>3.0</td>\n",
       "      <td>45.0</td>\n",
       "      <td>0.0</td>\n",
       "      <td>1.0</td>\n",
       "      <td>0.0</td>\n",
       "      <td>0.0</td>\n",
       "      <td>1.0</td>\n",
       "      <td>0.0</td>\n",
       "      <td>0.0</td>\n",
       "      <td>0.0</td>\n",
       "      <td>0.0</td>\n",
       "      <td>2</td>\n",
       "    </tr>\n",
       "    <tr>\n",
       "      <th>3</th>\n",
       "      <td>33.0</td>\n",
       "      <td>1.0</td>\n",
       "      <td>22.705</td>\n",
       "      <td>0.0</td>\n",
       "      <td>1.0</td>\n",
       "      <td>7900.0</td>\n",
       "      <td>1.0</td>\n",
       "      <td>60.0</td>\n",
       "      <td>0.0</td>\n",
       "      <td>1.0</td>\n",
       "      <td>0.0</td>\n",
       "      <td>0.0</td>\n",
       "      <td>1.0</td>\n",
       "      <td>0.0</td>\n",
       "      <td>0.0</td>\n",
       "      <td>0.0</td>\n",
       "      <td>0.0</td>\n",
       "      <td>2</td>\n",
       "    </tr>\n",
       "    <tr>\n",
       "      <th>4</th>\n",
       "      <td>32.0</td>\n",
       "      <td>1.0</td>\n",
       "      <td>28.880</td>\n",
       "      <td>0.0</td>\n",
       "      <td>1.0</td>\n",
       "      <td>8500.0</td>\n",
       "      <td>2.0</td>\n",
       "      <td>60.0</td>\n",
       "      <td>0.0</td>\n",
       "      <td>1.0</td>\n",
       "      <td>0.0</td>\n",
       "      <td>0.0</td>\n",
       "      <td>1.0</td>\n",
       "      <td>0.0</td>\n",
       "      <td>0.0</td>\n",
       "      <td>0.0</td>\n",
       "      <td>0.0</td>\n",
       "      <td>2</td>\n",
       "    </tr>\n",
       "  </tbody>\n",
       "</table>\n",
       "</div>"
      ],
      "text/plain": [
       "    age  sex     bmi  children  smoker  avg_steps_per_day  gym_frequency  \\\n",
       "0  19.0  0.0  27.900       0.0     0.0             8900.0            1.0   \n",
       "1  18.0  1.0  30.495       1.0     1.0             8900.0            2.0   \n",
       "2  28.0  1.0  33.000       3.0     1.0             8900.0            3.0   \n",
       "3  33.0  1.0  22.705       0.0     1.0             7900.0            1.0   \n",
       "4  32.0  1.0  28.880       0.0     1.0             8500.0            2.0   \n",
       "\n",
       "   time_spent_in_gym  region_northeast  region_northwest  region_southeast  \\\n",
       "0               45.0               0.0               0.0               0.0   \n",
       "1               30.0               0.0               0.0               1.0   \n",
       "2               45.0               0.0               1.0               0.0   \n",
       "3               60.0               0.0               1.0               0.0   \n",
       "4               60.0               0.0               1.0               0.0   \n",
       "\n",
       "   region_southwest  occupation_Artist  occupation_Doctor  \\\n",
       "0               1.0                0.0                0.0   \n",
       "1               0.0                0.0                0.0   \n",
       "2               0.0                1.0                0.0   \n",
       "3               0.0                1.0                0.0   \n",
       "4               0.0                1.0                0.0   \n",
       "\n",
       "   occupation_Engineer  occupation_Other  occupation_Teacher  cluster_label  \n",
       "0                  0.0               1.0                 0.0              1  \n",
       "1                  1.0               0.0                 0.0              3  \n",
       "2                  0.0               0.0                 0.0              2  \n",
       "3                  0.0               0.0                 0.0              2  \n",
       "4                  0.0               0.0                 0.0              2  "
      ]
     },
     "execution_count": 9,
     "metadata": {},
     "output_type": "execute_result"
    }
   ],
   "source": [
    "inverse_transformed_data = scaler.inverse_transform(X_scaled)\n",
    "new_inv_transformed_df = pd.DataFrame(inverse_transformed_data, columns = X_scaled.columns)\n",
    "new_inv_transformed_df['cluster_label'] = cluster_labels\n",
    "new_inv_transformed_df.head()"
   ]
  },
  {
   "cell_type": "markdown",
   "id": "a3fd740d-d6a6-4353-8b65-8859f049fc53",
   "metadata": {},
   "source": [
    "5th question"
   ]
  },
  {
   "cell_type": "code",
   "execution_count": 10,
   "id": "eb4cb052-727e-4af8-bb15-e9f0fce0b8f3",
   "metadata": {},
   "outputs": [
    {
     "data": {
      "text/plain": [
       "cluster_label\n",
       "3    37.714844\n",
       "1    39.075209\n",
       "2    39.529183\n",
       "0    39.950644\n",
       "Name: age, dtype: float64"
      ]
     },
     "execution_count": 10,
     "metadata": {},
     "output_type": "execute_result"
    }
   ],
   "source": [
    "average_age = new_inv_transformed_df.groupby('cluster_label')['age'].mean()\n",
    "average_age.sort_values()"
   ]
  },
  {
   "cell_type": "markdown",
   "id": "7c0979f4-93ae-4ca0-b736-5d1f99c6e5b3",
   "metadata": {},
   "source": [
    "6th question"
   ]
  },
  {
   "cell_type": "code",
   "execution_count": 11,
   "id": "711c8f66-6fbd-43ec-bfb7-cb22ccd7b452",
   "metadata": {},
   "outputs": [
    {
     "data": {
      "text/plain": [
       "cluster_label\n",
       "2    7800.0\n",
       "1    7900.0\n",
       "0    8000.0\n",
       "3    8100.0\n",
       "Name: avg_steps_per_day, dtype: float64"
      ]
     },
     "execution_count": 11,
     "metadata": {},
     "output_type": "execute_result"
    }
   ],
   "source": [
    "avg_steps_perday = new_inv_transformed_df.groupby('cluster_label')['avg_steps_per_day'].median()\n",
    "avg_steps_perday.sort_values()"
   ]
  },
  {
   "cell_type": "code",
   "execution_count": 12,
   "id": "6fea4c40-8c81-4296-b7fb-359f17323e3a",
   "metadata": {},
   "outputs": [
    {
     "name": "stdout",
     "output_type": "stream",
     "text": [
      "       age  sex     bmi  children  smoker  avg_steps_per_day  gym_frequency  \\\n",
      "0     19.0  0.0  27.900       0.0     0.0             8900.0            1.0   \n",
      "8     37.0  1.0  29.830       2.0     1.0             9000.0            0.0   \n",
      "11    62.0  0.0  26.290       0.0     0.0             7300.0            3.0   \n",
      "19    30.0  1.0  35.300       0.0     0.0             8200.0            0.0   \n",
      "32    19.0  0.0  28.600       5.0     1.0            10600.0            3.0   \n",
      "...    ...  ...     ...       ...     ...                ...            ...   \n",
      "1319  43.0  0.0  26.315       2.0     1.0             7500.0            0.0   \n",
      "1325  61.0  1.0  33.535       0.0     1.0             6200.0            2.0   \n",
      "1327  51.0  1.0  30.030       1.0     1.0             6400.0            3.0   \n",
      "1328  23.0  0.0  30.495       2.0     1.0             8200.0            0.0   \n",
      "1329  52.0  1.0  38.600       2.0     1.0             8000.0            2.0   \n",
      "\n",
      "      time_spent_in_gym  region_northeast  region_northwest  region_southeast  \\\n",
      "0                  45.0               0.0               0.0               0.0   \n",
      "8                   0.0               1.0               0.0               0.0   \n",
      "11                 30.0               0.0               0.0               1.0   \n",
      "19                  0.0               0.0               0.0               0.0   \n",
      "32                 60.0               0.0               0.0               0.0   \n",
      "...                 ...               ...               ...               ...   \n",
      "1319                0.0               0.0               1.0               0.0   \n",
      "1325               15.0               1.0               0.0               0.0   \n",
      "1327               15.0               0.0               0.0               1.0   \n",
      "1328                0.0               1.0               0.0               0.0   \n",
      "1329               15.0               0.0               0.0               0.0   \n",
      "\n",
      "      region_southwest  occupation_Artist  occupation_Doctor  \\\n",
      "0                  1.0                0.0                0.0   \n",
      "8                  0.0                0.0                0.0   \n",
      "11                 0.0                0.0                0.0   \n",
      "19                 1.0                0.0                0.0   \n",
      "32                 1.0                0.0                0.0   \n",
      "...                ...                ...                ...   \n",
      "1319               0.0                0.0                0.0   \n",
      "1325               0.0                0.0                0.0   \n",
      "1327               0.0                0.0                0.0   \n",
      "1328               0.0                0.0                0.0   \n",
      "1329               1.0                0.0                0.0   \n",
      "\n",
      "      occupation_Engineer  occupation_Other  occupation_Teacher  cluster_label  \n",
      "0                     0.0               1.0                 0.0              1  \n",
      "8                     0.0               1.0                 0.0              1  \n",
      "11                    0.0               1.0                 0.0              1  \n",
      "19                    0.0               1.0                 0.0              1  \n",
      "32                    0.0               1.0                 0.0              1  \n",
      "...                   ...               ...                 ...            ...  \n",
      "1319                  0.0               1.0                 0.0              1  \n",
      "1325                  0.0               1.0                 0.0              1  \n",
      "1327                  0.0               1.0                 0.0              1  \n",
      "1328                  0.0               1.0                 0.0              1  \n",
      "1329                  0.0               1.0                 0.0              1  \n",
      "\n",
      "[359 rows x 18 columns]\n"
     ]
    },
    {
     "data": {
      "text/html": [
       "<div>\n",
       "<style scoped>\n",
       "    .dataframe tbody tr th:only-of-type {\n",
       "        vertical-align: middle;\n",
       "    }\n",
       "\n",
       "    .dataframe tbody tr th {\n",
       "        vertical-align: top;\n",
       "    }\n",
       "\n",
       "    .dataframe thead th {\n",
       "        text-align: right;\n",
       "    }\n",
       "</style>\n",
       "<table border=\"1\" class=\"dataframe\">\n",
       "  <thead>\n",
       "    <tr style=\"text-align: right;\">\n",
       "      <th></th>\n",
       "      <th>age</th>\n",
       "      <th>sex</th>\n",
       "      <th>bmi</th>\n",
       "      <th>children</th>\n",
       "      <th>smoker</th>\n",
       "      <th>avg_steps_per_day</th>\n",
       "      <th>gym_frequency</th>\n",
       "      <th>time_spent_in_gym</th>\n",
       "      <th>region_northeast</th>\n",
       "      <th>region_northwest</th>\n",
       "      <th>region_southeast</th>\n",
       "      <th>region_southwest</th>\n",
       "      <th>occupation_Artist</th>\n",
       "      <th>occupation_Doctor</th>\n",
       "      <th>occupation_Engineer</th>\n",
       "      <th>occupation_Other</th>\n",
       "      <th>occupation_Teacher</th>\n",
       "      <th>cluster_label</th>\n",
       "    </tr>\n",
       "  </thead>\n",
       "  <tbody>\n",
       "    <tr>\n",
       "      <th>0</th>\n",
       "      <td>19.0</td>\n",
       "      <td>0.0</td>\n",
       "      <td>27.90</td>\n",
       "      <td>0.0</td>\n",
       "      <td>0.0</td>\n",
       "      <td>8900.0</td>\n",
       "      <td>1.0</td>\n",
       "      <td>45.0</td>\n",
       "      <td>0.0</td>\n",
       "      <td>0.0</td>\n",
       "      <td>0.0</td>\n",
       "      <td>1.0</td>\n",
       "      <td>0.0</td>\n",
       "      <td>0.0</td>\n",
       "      <td>0.0</td>\n",
       "      <td>1.0</td>\n",
       "      <td>0.0</td>\n",
       "      <td>1</td>\n",
       "    </tr>\n",
       "    <tr>\n",
       "      <th>8</th>\n",
       "      <td>37.0</td>\n",
       "      <td>1.0</td>\n",
       "      <td>29.83</td>\n",
       "      <td>2.0</td>\n",
       "      <td>1.0</td>\n",
       "      <td>9000.0</td>\n",
       "      <td>0.0</td>\n",
       "      <td>0.0</td>\n",
       "      <td>1.0</td>\n",
       "      <td>0.0</td>\n",
       "      <td>0.0</td>\n",
       "      <td>0.0</td>\n",
       "      <td>0.0</td>\n",
       "      <td>0.0</td>\n",
       "      <td>0.0</td>\n",
       "      <td>1.0</td>\n",
       "      <td>0.0</td>\n",
       "      <td>1</td>\n",
       "    </tr>\n",
       "    <tr>\n",
       "      <th>11</th>\n",
       "      <td>62.0</td>\n",
       "      <td>0.0</td>\n",
       "      <td>26.29</td>\n",
       "      <td>0.0</td>\n",
       "      <td>0.0</td>\n",
       "      <td>7300.0</td>\n",
       "      <td>3.0</td>\n",
       "      <td>30.0</td>\n",
       "      <td>0.0</td>\n",
       "      <td>0.0</td>\n",
       "      <td>1.0</td>\n",
       "      <td>0.0</td>\n",
       "      <td>0.0</td>\n",
       "      <td>0.0</td>\n",
       "      <td>0.0</td>\n",
       "      <td>1.0</td>\n",
       "      <td>0.0</td>\n",
       "      <td>1</td>\n",
       "    </tr>\n",
       "    <tr>\n",
       "      <th>19</th>\n",
       "      <td>30.0</td>\n",
       "      <td>1.0</td>\n",
       "      <td>35.30</td>\n",
       "      <td>0.0</td>\n",
       "      <td>0.0</td>\n",
       "      <td>8200.0</td>\n",
       "      <td>0.0</td>\n",
       "      <td>0.0</td>\n",
       "      <td>0.0</td>\n",
       "      <td>0.0</td>\n",
       "      <td>0.0</td>\n",
       "      <td>1.0</td>\n",
       "      <td>0.0</td>\n",
       "      <td>0.0</td>\n",
       "      <td>0.0</td>\n",
       "      <td>1.0</td>\n",
       "      <td>0.0</td>\n",
       "      <td>1</td>\n",
       "    </tr>\n",
       "    <tr>\n",
       "      <th>32</th>\n",
       "      <td>19.0</td>\n",
       "      <td>0.0</td>\n",
       "      <td>28.60</td>\n",
       "      <td>5.0</td>\n",
       "      <td>1.0</td>\n",
       "      <td>10600.0</td>\n",
       "      <td>3.0</td>\n",
       "      <td>60.0</td>\n",
       "      <td>0.0</td>\n",
       "      <td>0.0</td>\n",
       "      <td>0.0</td>\n",
       "      <td>1.0</td>\n",
       "      <td>0.0</td>\n",
       "      <td>0.0</td>\n",
       "      <td>0.0</td>\n",
       "      <td>1.0</td>\n",
       "      <td>0.0</td>\n",
       "      <td>1</td>\n",
       "    </tr>\n",
       "  </tbody>\n",
       "</table>\n",
       "</div>"
      ],
      "text/plain": [
       "     age  sex    bmi  children  smoker  avg_steps_per_day  gym_frequency  \\\n",
       "0   19.0  0.0  27.90       0.0     0.0             8900.0            1.0   \n",
       "8   37.0  1.0  29.83       2.0     1.0             9000.0            0.0   \n",
       "11  62.0  0.0  26.29       0.0     0.0             7300.0            3.0   \n",
       "19  30.0  1.0  35.30       0.0     0.0             8200.0            0.0   \n",
       "32  19.0  0.0  28.60       5.0     1.0            10600.0            3.0   \n",
       "\n",
       "    time_spent_in_gym  region_northeast  region_northwest  region_southeast  \\\n",
       "0                45.0               0.0               0.0               0.0   \n",
       "8                 0.0               1.0               0.0               0.0   \n",
       "11               30.0               0.0               0.0               1.0   \n",
       "19                0.0               0.0               0.0               0.0   \n",
       "32               60.0               0.0               0.0               0.0   \n",
       "\n",
       "    region_southwest  occupation_Artist  occupation_Doctor  \\\n",
       "0                1.0                0.0                0.0   \n",
       "8                0.0                0.0                0.0   \n",
       "11               0.0                0.0                0.0   \n",
       "19               1.0                0.0                0.0   \n",
       "32               1.0                0.0                0.0   \n",
       "\n",
       "    occupation_Engineer  occupation_Other  occupation_Teacher  cluster_label  \n",
       "0                   0.0               1.0                 0.0              1  \n",
       "8                   0.0               1.0                 0.0              1  \n",
       "11                  0.0               1.0                 0.0              1  \n",
       "19                  0.0               1.0                 0.0              1  \n",
       "32                  0.0               1.0                 0.0              1  "
      ]
     },
     "execution_count": 12,
     "metadata": {},
     "output_type": "execute_result"
    }
   ],
   "source": [
    "cluster_1 = new_inv_transformed_df[new_inv_transformed_df['cluster_label'] == 1]\n",
    "print(cluster_1)\n",
    "cluster_1.head()"
   ]
  },
  {
   "cell_type": "markdown",
   "id": "b18dbab7-1cfa-4545-a9d9-8fb5c9791327",
   "metadata": {},
   "source": [
    "7th question"
   ]
  },
  {
   "cell_type": "code",
   "execution_count": 13,
   "id": "2f4fac4f-684e-4bfe-9eaf-fd3beb22aa90",
   "metadata": {},
   "outputs": [
    {
     "name": "stdout",
     "output_type": "stream",
     "text": [
      "0\n",
      "57\n",
      "269.25\n",
      "non-smokers\n",
      "74\n",
      "359\n",
      "0.20612813370473537\n",
      "112\n",
      "359\n",
      "0.31197771587743733\n",
      "186\n"
     ]
    },
    {
     "data": {
      "text/plain": [
       "sex\n",
       "1.0    186\n",
       "0.0    173\n",
       "Name: count, dtype: int64"
      ]
     },
     "execution_count": 13,
     "metadata": {},
     "output_type": "execute_result"
    }
   ],
   "source": [
    "#1sst part\n",
    "engineer = cluster_1['occupation_Engineer']\n",
    "engineer_count = (engineer == 1).sum()\n",
    "print(engineer_count)\n",
    "\n",
    "#2nd part\n",
    "smokers = cluster_1['smoker']\n",
    "smoker_count = (smokers == 0 ).sum()\n",
    "print(smoker_count)\n",
    "threshold = 0.75 * len(smokers) \n",
    "print(threshold)\n",
    "if smoker_count > threshold:\n",
    " print(\"most of them in cluster are smokers\") \n",
    "else:\n",
    " print(\"non-smokers\")\n",
    "value_counts = smokers. value_counts()\n",
    "value_counts\n",
    "\n",
    "#3rd part\n",
    "northeast = cluster_1['region_northeast']\n",
    "count_of_residents = (northeast == 1 ).sum()\n",
    "print(count_of_residents)\n",
    "total_instances = len(cluster_1['region_northeast'])\n",
    "print(total_instances)\n",
    "ratio = count_of_residents / total_instances\n",
    "print(ratio)\n",
    "\n",
    "#4th part\n",
    "southeast = cluster_1['region_southeast']\n",
    "count_of_residents = (southeast == 1 ).sum()\n",
    "print(count_of_residents)\n",
    "total_instances = len(cluster_1['region_southeast'])\n",
    "print(total_instances)\n",
    "ratio = count_of_residents / total_instances\n",
    "print(ratio) \n",
    "\n",
    "#5th part \n",
    "female = cluster_1['sex']\n",
    "female_count = (female == 1 ).sum()\n",
    "print(female_count) \n",
    "value_counts = female. value_counts()\n",
    "value_counts \n",
    "#assigned male as 1 and female as 0 so we have low females\n"
   ]
  },
  {
   "cell_type": "markdown",
   "id": "24ab810d-4d1c-40a8-b0a0-3dbecade1b4a",
   "metadata": {},
   "source": [
    "As 1's are more than 0's are less okay then 1 is assigned as no is lab 1 and 0 is assigned as yes in lab 1 so we have less no of smokers"
   ]
  },
  {
   "cell_type": "markdown",
   "id": "1d68a0d6-9184-4288-8ffb-f836f1e7c973",
   "metadata": {},
   "source": [
    "8th question"
   ]
  },
  {
   "cell_type": "code",
   "execution_count": 14,
   "id": "7c8de38d-3a88-4431-9c2d-58b83ace61a5",
   "metadata": {},
   "outputs": [
    {
     "name": "stdout",
     "output_type": "stream",
     "text": [
      "1.9766536964980546\n",
      "34.494163424124515\n",
      "1.866965620328849\n",
      "33.36322869955157\n",
      "instances in cluster2 has highest frequency\n",
      "instances in cluster2 has highest frequency\n"
     ]
    }
   ],
   "source": [
    "cluster_2 = new_inv_transformed_df[new_inv_transformed_df['cluster_label'] == 2]\n",
    "avg_gym_frequency = cluster_2['gym_frequency'].mean()\n",
    "print(avg_gym_frequency) \n",
    "avg_time_spend_in_gym = cluster_2['time_spent_in_gym'].mean()\n",
    "print(avg_time_spend_in_gym) \n",
    "avg_gym_freq_all = new_inv_transformed_df['gym_frequency'].mean()\n",
    "print(avg_gym_freq_all)\n",
    "avg_time_spend_in_gym_all = new_inv_transformed_df['time_spent_in_gym'].mean()\n",
    "print(avg_time_spend_in_gym_all) \n",
    "\n",
    "if(avg_gym_freq_all > avg_gym_frequency):\n",
    " print(\"instances in cluster2 has lowest frequency\")\n",
    "else:\n",
    " print(\"instances in cluster2 has highest frequency\")\n",
    "    \n",
    "if(avg_time_spend_in_gym_all > avg_time_spend_in_gym):\n",
    " print(\"instances in cluster2 has lowest frequency\")\n",
    "else:\n",
    " print(\"instances in cluster2 has highest frequency\")\n",
    "\n"
   ]
  },
  {
   "cell_type": "markdown",
   "id": "80ced2df-8b27-4e9a-8a5d-100a06c72eab",
   "metadata": {},
   "source": [
    "9th question"
   ]
  },
  {
   "cell_type": "code",
   "execution_count": 15,
   "id": "0321b2eb-7e61-423c-a0cc-1ce4856d3b39",
   "metadata": {},
   "outputs": [
    {
     "name": "stdout",
     "output_type": "stream",
     "text": [
      "46\n",
      "smoker\n",
      "1.0    210\n",
      "0.0     46\n",
      "Name: count, dtype: int64\n",
      "17.96875\n",
      "57\n",
      "smoker\n",
      "1.0    302\n",
      "0.0     57\n",
      "Name: count, dtype: int64\n",
      "15.87743732590529\n",
      "53\n",
      "smoker\n",
      "1.0    204\n",
      "0.0     53\n",
      "Name: count, dtype: int64\n",
      "20.622568093385212\n",
      "84\n",
      "smoker\n",
      "1.0    382\n",
      "0.0     84\n",
      "Name: count, dtype: int64\n",
      "18.025751072961373\n"
     ]
    }
   ],
   "source": [
    "cluster_3 = new_inv_transformed_df[new_inv_transformed_df['cluster_label'] == 3]  \n",
    "smokers = cluster_3['smoker']\n",
    "smoker_count = (smokers == 0 ).sum()\n",
    "print(smoker_count)  \n",
    "value_counts = smokers. value_counts()\n",
    "print(value_counts) \n",
    "total = len(cluster_3['smoker'])\n",
    "percentage = (smoker_count / total ) * 100 \n",
    "print(percentage)\n",
    "\n",
    "cluster_1 = new_inv_transformed_df[new_inv_transformed_df['cluster_label'] == 1]  \n",
    "smokers = cluster_1['smoker']\n",
    "smoker_count = (smokers == 0 ).sum()\n",
    "print(smoker_count)  \n",
    "value_counts = smokers. value_counts()\n",
    "print(value_counts) \n",
    "total = len(cluster_1['smoker'])\n",
    "percentage = (smoker_count / total ) * 100 \n",
    "print(percentage)\n",
    "\n",
    "cluster_2 = new_inv_transformed_df[new_inv_transformed_df['cluster_label'] == 2]  \n",
    "smokers = cluster_2['smoker']\n",
    "smoker_count = (smokers == 0 ).sum()\n",
    "print(smoker_count)  \n",
    "value_counts = smokers. value_counts()\n",
    "print(value_counts)  \n",
    "total = len(cluster_2['smoker'])\n",
    "percentage = (smoker_count / total ) * 100 \n",
    "print(percentage)\n",
    "\n",
    "cluster_0 = new_inv_transformed_df[new_inv_transformed_df['cluster_label'] == 0]  \n",
    "smokers = cluster_0['smoker']\n",
    "smoker_count = (smokers == 0 ).sum()\n",
    "print(smoker_count)  \n",
    "value_counts = smokers. value_counts()\n",
    "print(value_counts) \n",
    "total = len(cluster_0['smoker'])\n",
    "percentage = (smoker_count / total ) * 100 \n",
    "print(percentage)\n",
    "\n",
    "\n",
    "# 1 is assigned to no \n"
   ]
  },
  {
   "cell_type": "markdown",
   "id": "80bde800-cb6d-4b2c-96bb-3747adf5ba32",
   "metadata": {},
   "source": [
    "10th question"
   ]
  },
  {
   "cell_type": "code",
   "execution_count": 16,
   "id": "d5f9e4ce-08a1-4a60-b160-ae7be6701777",
   "metadata": {},
   "outputs": [
    {
     "data": {
      "text/plain": [
       "cluster_label\n",
       "2     91\n",
       "3    108\n",
       "1    151\n",
       "0    203\n",
       "Name: children, dtype: int64"
      ]
     },
     "execution_count": 16,
     "metadata": {},
     "output_type": "execute_result"
    }
   ],
   "source": [
    "\n",
    "no_children = new_inv_transformed_df['children'] == 0\n",
    "\n",
    "new_inv_transformed_df[no_children].groupby('cluster_label')['children'].count().sort_values()"
   ]
  },
  {
   "cell_type": "markdown",
   "id": "1e8da127-1380-4711-8770-d3c9c42e6a29",
   "metadata": {},
   "source": [
    "11th question"
   ]
  },
  {
   "cell_type": "code",
   "execution_count": 17,
   "id": "37f0be53-18be-4bfb-8b88-77a1901b2041",
   "metadata": {},
   "outputs": [
    {
     "name": "stderr",
     "output_type": "stream",
     "text": [
      "C:\\Users\\lokna\\AppData\\Roaming\\Python\\Python312\\site-packages\\joblib\\externals\\loky\\backend\\context.py:136: UserWarning: Could not find the number of physical cores for the following reason:\n",
      "[WinError 2] The system cannot find the file specified\n",
      "Returning the number of logical cores instead. You can silence this warning by setting LOKY_MAX_CPU_COUNT to the number of cores you want to use.\n",
      "  warnings.warn(\n",
      "  File \"C:\\Users\\lokna\\AppData\\Roaming\\Python\\Python312\\site-packages\\joblib\\externals\\loky\\backend\\context.py\", line 257, in _count_physical_cores\n",
      "    cpu_info = subprocess.run(\n",
      "               ^^^^^^^^^^^^^^^\n",
      "  File \"C:\\Program Files\\Python312\\Lib\\subprocess.py\", line 548, in run\n",
      "    with Popen(*popenargs, **kwargs) as process:\n",
      "         ^^^^^^^^^^^^^^^^^^^^^^^^^^^\n",
      "  File \"C:\\Program Files\\Python312\\Lib\\subprocess.py\", line 1026, in __init__\n",
      "    self._execute_child(args, executable, preexec_fn, close_fds,\n",
      "  File \"C:\\Program Files\\Python312\\Lib\\subprocess.py\", line 1538, in _execute_child\n",
      "    hp, ht, pid, tid = _winapi.CreateProcess(executable, args,\n",
      "                       ^^^^^^^^^^^^^^^^^^^^^^^^^^^^^^^^^^^^^^^\n"
     ]
    },
    {
     "data": {
      "text/plain": [
       "cluster_name\n",
       "0    321\n",
       "1    326\n",
       "2    365\n",
       "3    326\n",
       "Name: count, dtype: int64"
      ]
     },
     "execution_count": 17,
     "metadata": {},
     "output_type": "execute_result"
    }
   ],
   "source": [
    "from sklearn.cluster import KMeans\n",
    "kmeans = KMeans(n_clusters=4, random_state=0, n_init='auto')\n",
    "kmeans.fit_predict(X_scaled) \n",
    "\n",
    "new_inv_transformed_df['cluster_name'] = kmeans.labels_\n",
    "new_inv_transformed_df.head()\n",
    "new_inv_transformed_df['cluster_name'].value_counts().sort_index()\n"
   ]
  },
  {
   "cell_type": "markdown",
   "id": "86f56cd0-fcac-419e-8883-9df5130ec89d",
   "metadata": {},
   "source": [
    "12th question"
   ]
  },
  {
   "cell_type": "code",
   "execution_count": 18,
   "id": "29fd9d8a-e178-4a76-86ea-1eec9c0dee74",
   "metadata": {},
   "outputs": [
    {
     "name": "stdout",
     "output_type": "stream",
     "text": [
      "\n",
      "Average steps per day by cluster:\n",
      " cluster_name\n",
      "0    7808.411215\n",
      "1    7914.723926\n",
      "2    7864.383562\n",
      "3    7782.822086\n",
      "Name: avg_steps_per_day, dtype: float64\n",
      "\n",
      "Average steps per day by cluster:\n",
      " cluster_name\n",
      "0    2506500.0\n",
      "1    2580200.0\n",
      "2    2870500.0\n",
      "3    2537200.0\n",
      "Name: avg_steps_per_day, dtype: float64\n"
     ]
    }
   ],
   "source": [
    "average_steps = new_inv_transformed_df.groupby('cluster_name')['avg_steps_per_day'].mean()\n",
    "print(\"\\nAverage steps per day by cluster:\\n\", average_steps)\n",
    "average_steps = new_inv_transformed_df.groupby('cluster_name')['avg_steps_per_day'].sum()\n",
    "print(\"\\nAverage steps per day by cluster:\\n\", average_steps)"
   ]
  },
  {
   "cell_type": "code",
   "execution_count": 19,
   "id": "3f29d052-7f25-4b1b-a29a-157c861ea441",
   "metadata": {},
   "outputs": [
    {
     "name": "stdout",
     "output_type": "stream",
     "text": [
      "Less than 50 percent of instances in Cluster 0 spend less than 30 minutes in the gym.\n"
     ]
    }
   ],
   "source": [
    "# Assuming 'gym_time' is the column containing gym time in minutes\n",
    "cluster_zero = (new_inv_transformed_df['cluster_name'] == 0) & (new_inv_transformed_df['time_spent_in_gym'] < 30)\n",
    "\n",
    "cluster_0_less_than_30_min = np.sum(cluster_zero)\n",
    "total_cluster_0 = np.sum(new_inv_transformed_df['cluster_name'] == 0)\n",
    "\n",
    "if cluster_0_less_than_30_min / total_cluster_0 > 0.5:\n",
    "    print(\"More than 50 percent of instances in Cluster 0 spend less than 30 minutes in the gym.\")\n",
    "else:\n",
    "    print(\"Less than 50 percent of instances in Cluster 0 spend less than 30 minutes in the gym.\")"
   ]
  },
  {
   "cell_type": "code",
   "execution_count": 20,
   "id": "c88fac4e-1de6-4b9d-bea5-536f9b558a49",
   "metadata": {},
   "outputs": [
    {
     "name": "stdout",
     "output_type": "stream",
     "text": [
      "220\n",
      "321\n",
      "More than 50 percent of instances in Cluster 0 go to the gym at least three days a week.\n"
     ]
    }
   ],
   "source": [
    "cluster_new = (new_inv_transformed_df['cluster_name'] == 0) & (new_inv_transformed_df['gym_frequency'] >= 2)\n",
    "\n",
    "cluster_0_at_least_three_days = np.sum(cluster_new)\n",
    "print(cluster_0_at_least_three_days)\n",
    "total_cluster_0 = np.sum(new_inv_transformed_df['cluster_name'] == 0)\n",
    "print(total_cluster_0)\n",
    "\n",
    "if cluster_0_at_least_three_days / total_cluster_0 > 0.5:\n",
    "    print(\"More than 50 percent of instances in Cluster 0 go to the gym at least three days a week.\")\n",
    "else:\n",
    "    print(\"Less than 50 percent of instances in Cluster 0 go to the gym at least three days a week.\")"
   ]
  },
  {
   "cell_type": "markdown",
   "id": "32cd66c9-1f97-4119-938f-7dce8e03cd0e",
   "metadata": {},
   "source": [
    "for above question we took 2 because if it is 2 then 3 or 5 days in a week and if it is 3 everday as per lab 1"
   ]
  },
  {
   "cell_type": "code",
   "execution_count": 21,
   "id": "8c199a7f-efaa-4009-8fb8-ef9d59e594dd",
   "metadata": {},
   "outputs": [
    {
     "name": "stdout",
     "output_type": "stream",
     "text": [
      "cluster_name\n",
      "1    38.368098\n",
      "2    39.049315\n",
      "3    39.490798\n",
      "0    39.950156\n",
      "Name: age, dtype: float64 \n",
      "\n"
     ]
    }
   ],
   "source": [
    "# We can observe that instances of cluster 0 has highest average age when compared to other clusters\n",
    "print(new_inv_transformed_df.groupby('cluster_name')['age'].mean().sort_values(), \"\\n\")\n"
   ]
  },
  {
   "cell_type": "code",
   "execution_count": 22,
   "id": "3b2b47d8-8722-4b4d-bea1-c542709834b3",
   "metadata": {},
   "outputs": [
    {
     "name": "stdout",
     "output_type": "stream",
     "text": [
      "Percentage of each sex: sex\n",
      "0.0    50.46729\n",
      "1.0    49.53271\n",
      "Name: count, dtype: float64 \n",
      "\n"
     ]
    }
   ],
   "source": [
    "cluster_0 = new_inv_transformed_df[new_inv_transformed_df['cluster_name'] == 0]  \n",
    "males_percentage = cluster_0['sex'].value_counts()\n",
    "print(\"Percentage of each sex:\", males_percentage/sum(males_percentage) * 100, \"\\n\")\n"
   ]
  },
  {
   "cell_type": "markdown",
   "id": "8be02c9a-d39a-44dd-9174-9b216bdc0033",
   "metadata": {},
   "source": [
    "1 is considered as males and 0 is considered as females as per lab 1"
   ]
  },
  {
   "cell_type": "raw",
   "id": "69c6f82a-bb9b-4cec-b3a8-adf689dfa8fc",
   "metadata": {},
   "source": [
    "13th question"
   ]
  },
  {
   "cell_type": "code",
   "execution_count": 23,
   "id": "b024f649-6352-4d6f-a113-fd6b011cc654",
   "metadata": {},
   "outputs": [
    {
     "data": {
      "text/plain": [
       "cluster_name\n",
       "3     77\n",
       "0     78\n",
       "1     82\n",
       "2    100\n",
       "Name: children, dtype: int64"
      ]
     },
     "execution_count": 23,
     "metadata": {},
     "output_type": "execute_result"
    }
   ],
   "source": [
    "# Creating a mask to include the condition of one child\n",
    "ch = new_inv_transformed_df['children'] == 1\n",
    "\n",
    "# Groupby using kmeans and counting the number of instances in each cluster\n",
    "new_inv_transformed_df[ch].groupby('cluster_name')['children'].count().sort_values()"
   ]
  },
  {
   "cell_type": "raw",
   "id": "97e8264c-62ab-44a5-8afb-ea6eb1e19ce0",
   "metadata": {},
   "source": [
    "14th question"
   ]
  },
  {
   "cell_type": "code",
   "execution_count": 24,
   "id": "d965a503-114b-4052-8202-67808481addf",
   "metadata": {},
   "outputs": [
    {
     "name": "stdout",
     "output_type": "stream",
     "text": [
      "region_northeast  region_northwest\n",
      "0.0               1.0                 170\n",
      "1.0               0.0                 156\n",
      "Name: count, dtype: int64 \n",
      "\n",
      "Less than 50 percent of instances in Cluster 0 spend less than 30 minutes in the gym.\n",
      "sex\n",
      "1.0    326\n",
      "Name: count, dtype: int64 \n",
      "\n",
      "Cluster 0: cluster_name  smoker\n",
      "0             1.0       84.735202\n",
      "              0.0       15.264798\n",
      "Name: count, dtype: float64 \n",
      "\n",
      "Cluster 1: cluster_name  smoker\n",
      "1             1.0       80.981595\n",
      "              0.0       19.018405\n",
      "Name: count, dtype: float64 \n",
      "\n",
      "Cluster 2: cluster_name  smoker\n",
      "2             1.0       79.178082\n",
      "              0.0       20.821918\n",
      "Name: count, dtype: float64 \n",
      "\n",
      "Cluster 3: cluster_name  smoker\n",
      "3             1.0       83.742331\n",
      "              0.0       16.257669\n",
      "Name: count, dtype: float64 \n",
      "\n",
      "cluster_name\n",
      "1    29.499479\n",
      "3    29.551994\n",
      "0    30.601106\n",
      "2    32.902068\n",
      "Name: bmi, dtype: float64 \n",
      "\n"
     ]
    }
   ],
   "source": [
    "cluster_1 = new_inv_transformed_df[new_inv_transformed_df['cluster_name'] == 1]  \n",
    "print(cluster_1[['region_northeast','region_northwest']].value_counts(),\"\\n\")\n",
    "\n",
    "# 2nd one\n",
    "cluster_one = (new_inv_transformed_df['cluster_name'] == 1) & (new_inv_transformed_df['time_spent_in_gym'] < 30)\n",
    "\n",
    "cluster_1_less_than_30_min = np.sum(cluster_one)\n",
    "total_cluster_1 = np.sum(new_inv_transformed_df['cluster_name'] == 1)\n",
    "\n",
    "if cluster_1_less_than_30_min / total_cluster_1 > 0.5:\n",
    "    print(\"More than 50 percent of instances in Cluster 0 spend less than 30 minutes in the gym.\")\n",
    "else:\n",
    "    print(\"Less than 50 percent of instances in Cluster 0 spend less than 30 minutes in the gym.\")\n",
    "#  from lab1 1 is assigned to male and 0 is mapped to female\n",
    "print(cluster_1['sex'].value_counts(), \"\\n\")\n",
    "\n",
    "# in question 12 the smoker the cluster 0 has least cluster 2 has highest\n",
    "cluster_0 = new_inv_transformed_df[new_inv_transformed_df['cluster_name'] == 0]  \n",
    "smk_0 = cluster_0.groupby('cluster_name')['smoker'].value_counts()\n",
    "print(\"Cluster 0:\",smk_0/sum(smk_0) * 100, \"\\n\")\n",
    "\n",
    "cluster_1 = new_inv_transformed_df[new_inv_transformed_df['cluster_name'] == 1]  \n",
    "smk_1 = cluster_1.groupby('cluster_name')['smoker'].value_counts()\n",
    "print(\"Cluster 1:\",smk_1/sum(smk_1) * 100, \"\\n\")\n",
    "\n",
    "cluster_2 = new_inv_transformed_df[new_inv_transformed_df['cluster_name'] == 2]  \n",
    "smk_2 = cluster_2.groupby('cluster_name')['smoker'].value_counts()\n",
    "print(\"Cluster 2:\",smk_2/sum(smk_2)*100, \"\\n\")\n",
    "\n",
    "cluster_3 = new_inv_transformed_df[new_inv_transformed_df['cluster_name'] == 3]  \n",
    "smk_3 = cluster_3.groupby('cluster_name')['smoker'].value_counts()\n",
    "print(\"Cluster 3:\",smk_3/sum(smk_3)*100, \"\\n\")\n",
    "# We can observe that Cluster 1 has the lowest average BMI\n",
    "print(new_inv_transformed_df.groupby('cluster_name')['bmi'].mean().sort_values(), \"\\n\")\n",
    "\n",
    "# Age - From Question 12, we can say that CLuster 1 has the lowest average age whereas Cluster 0 has the highest average age"
   ]
  },
  {
   "cell_type": "markdown",
   "id": "84465f30-c46d-4ec3-8a87-ec3ee7ac4198",
   "metadata": {},
   "source": [
    "15th question"
   ]
  },
  {
   "cell_type": "code",
   "execution_count": 25,
   "id": "ca4a0de3-1d4a-4975-9a1f-952e40b54e5f",
   "metadata": {},
   "outputs": [
    {
     "name": "stdout",
     "output_type": "stream",
     "text": [
      "Less than 50 percent of instances in Cluster 0 spend less than 30 minutes in the gym.\n"
     ]
    }
   ],
   "source": [
    "cluster_two = (new_inv_transformed_df['cluster_name'] == 2) & (new_inv_transformed_df['time_spent_in_gym'] >= 30)\n",
    "\n",
    "cluster_2_less_than_30_min = np.sum(cluster_two)\n",
    "total_cluster_2= np.sum(new_inv_transformed_df['cluster_name'] == 2)\n",
    "\n",
    "if cluster_2_less_than_30_min / total_cluster_2 > 0.75:\n",
    "    print(\"More than 50 percent of instances in Cluster 0 spend less than 30 minutes in the gym.\")\n",
    "else:\n",
    "    print(\"Less than 50 percent of instances in Cluster 0 spend less than 30 minutes in the gym.\")\n"
   ]
  },
  {
   "cell_type": "raw",
   "id": "9b6a622a-8504-4e37-9dde-c9b88cc39863",
   "metadata": {},
   "source": [
    "so for 0ther options\n",
    "bmi from 14th question we can observe that cluster_1 has lowest and cluster_2 has highest\n",
    "age from question 12 cluster_1 has lowest and cluster_0 has highest\n",
    "smoker from question 12 the cluster_0 has the least and cluster_2 has highest amount of smoker "
   ]
  },
  {
   "cell_type": "raw",
   "id": "1f8d0303-90ef-428d-81f5-9ed4955ab3b1",
   "metadata": {},
   "source": [
    "16th question"
   ]
  },
  {
   "cell_type": "code",
   "execution_count": 26,
   "id": "a6b78ec7-874f-4e28-a3be-f9b1fe2756df",
   "metadata": {},
   "outputs": [
    {
     "data": {
      "text/plain": [
       "occupation_Artist  occupation_Doctor  occupation_Engineer  occupation_Other  occupation_Teacher\n",
       "0.0                0.0                0.0                  1.0               0.0                   112\n",
       "1.0                0.0                0.0                  0.0               0.0                    67\n",
       "0.0                1.0                0.0                  0.0               0.0                    66\n",
       "                   0.0                1.0                  0.0               0.0                    63\n",
       "                                      0.0                  0.0               1.0                    57\n",
       "Name: count, dtype: int64"
      ]
     },
     "execution_count": 26,
     "metadata": {},
     "output_type": "execute_result"
    }
   ],
   "source": [
    "\n",
    "# Creating a list of column names to use Groupby method\n",
    "list = ['occupation_Artist','occupation_Doctor','occupation_Engineer','occupation_Other','occupation_Teacher']\n",
    "cluster_2 = new_inv_transformed_df[new_inv_transformed_df['cluster_name'] == 2]  \n",
    "# Groupby using kmeans and counting the number of instances for each occupation\n",
    "cluster_2[list].value_counts()"
   ]
  },
  {
   "cell_type": "raw",
   "id": "401ee13e-b293-47a6-979a-fd91214962da",
   "metadata": {},
   "source": [
    "17Th question"
   ]
  },
  {
   "cell_type": "code",
   "execution_count": 27,
   "id": "124f5641-8a96-46b3-aebb-b0475e03e896",
   "metadata": {},
   "outputs": [
    {
     "name": "stdout",
     "output_type": "stream",
     "text": [
      "sex\n",
      "0.0    326\n",
      "Name: count, dtype: int64 \n",
      "\n",
      " instances in Cluster 3 have 2 or more children : 0.3374233128834356 \n",
      "\n",
      "gym_frequency\n",
      "3.0    117\n",
      "2.0     97\n",
      "0.0     69\n",
      "1.0     43\n",
      "Name: count, dtype: int64 \n",
      "\n"
     ]
    }
   ],
   "source": [
    "cluster_3 = new_inv_transformed_df[new_inv_transformed_df['cluster_name'] == 3] \n",
    "print(cluster_3['sex'].value_counts(), \"\\n\") \n",
    "\n",
    "children = cluster_3['children'].value_counts()\n",
    "\n",
    "total_children = 0\n",
    "for i in children.index:\n",
    "    if(i >= 2) :\n",
    "        total_children = total_children + children[i]\n",
    "\n",
    "print(\" instances in Cluster 3 have 2 or more children :\",total_children/sum(children), \"\\n\")\n",
    "\n",
    "# It is to be noted that the majority of instances in Cluster 3 have a gym_frequency of everyday (3.0 -> everyday)\n",
    "print(cluster_3['gym_frequency'].value_counts(),\"\\n\")"
   ]
  },
  {
   "cell_type": "markdown",
   "id": "5d84d736-5779-4a54-8bf0-8932222b146f",
   "metadata": {},
   "source": [
    "18th question"
   ]
  },
  {
   "cell_type": "code",
   "execution_count": 28,
   "id": "3436f1a2-4155-4437-a334-17ff463c00fd",
   "metadata": {},
   "outputs": [],
   "source": [
    "from sklearn.metrics import silhouette_score"
   ]
  },
  {
   "cell_type": "code",
   "execution_count": 29,
   "id": "96ccf174-d975-490b-a6e0-48aa155f6469",
   "metadata": {},
   "outputs": [
    {
     "name": "stdout",
     "output_type": "stream",
     "text": [
      "For n_clusters = 2, silhouette score is 0.08\n",
      "For n_clusters = 3, silhouette score is 0.14\n",
      "For n_clusters = 4, silhouette score is 0.15\n",
      "For n_clusters = 5, silhouette score is 0.15\n",
      "For n_clusters = 6, silhouette score is 0.18\n",
      "For n_clusters = 7, silhouette score is 0.16\n",
      "For n_clusters = 8, silhouette score is 0.16\n",
      "For n_clusters = 9, silhouette score is 0.17\n"
     ]
    }
   ],
   "source": [
    "for i in range(2,10):\n",
    "    kmeans =  KMeans(n_clusters = i,  random_state = 0, n_init= 'auto')\n",
    "    score = silhouette_score(X_scaled,kmeans.fit_predict(X_scaled)).round(2)\n",
    "    print (\"For n_clusters = {}, silhouette score is {}\".format(i, score))\n"
   ]
  },
  {
   "cell_type": "markdown",
   "id": "9b1d4983-3344-4e62-952f-7f1be1deab74",
   "metadata": {},
   "source": [
    "19th question\n",
    "From the above output, we can see that n_clusters = 6 gives the highest silhouette score which is 0.18 \n",
    "this is the answer for 19th"
   ]
  },
  {
   "cell_type": "raw",
   "id": "d6e633fa-2e4a-4dfc-8f26-49f40e524eef",
   "metadata": {},
   "source": [
    "20th question"
   ]
  },
  {
   "cell_type": "code",
   "execution_count": 30,
   "id": "87184e68-8b1a-4f7d-9929-90b0df590452",
   "metadata": {},
   "outputs": [
    {
     "name": "stdout",
     "output_type": "stream",
     "text": [
      "For n_clusters = 2, silhouette score is 0.1\n",
      "For n_clusters = 3, silhouette score is 0.14\n",
      "For n_clusters = 4, silhouette score is 0.19\n",
      "For n_clusters = 5, silhouette score is 0.22\n",
      "For n_clusters = 6, silhouette score is 0.18\n",
      "For n_clusters = 7, silhouette score is 0.17\n",
      "For n_clusters = 8, silhouette score is 0.16\n",
      "For n_clusters = 9, silhouette score is 0.17\n"
     ]
    }
   ],
   "source": [
    "for n in range(2,10):\n",
    "    agg_model =  AgglomerativeClustering(distance_threshold = None, n_clusters = n)\n",
    "    score = silhouette_score(X_scaled,agg_model.fit_predict(X_scaled)).round(2)\n",
    "    print (\"For n_clusters = {}, silhouette score is {}\".format(n, score))\n",
    "\n",
    "# From the below output it is to be noted that for n_clusters = 5, we got the highest silhouette score"
   ]
  },
  {
   "cell_type": "code",
   "execution_count": 31,
   "id": "18c79871-f6db-496f-bb9a-74e52526b257",
   "metadata": {},
   "outputs": [
    {
     "ename": "SyntaxError",
     "evalue": "invalid decimal literal (3401700516.py, line 1)",
     "output_type": "error",
     "traceback": [
      "\u001b[1;36m  Cell \u001b[1;32mIn[31], line 1\u001b[1;36m\u001b[0m\n\u001b[1;33m    21st question\u001b[0m\n\u001b[1;37m     ^\u001b[0m\n\u001b[1;31mSyntaxError\u001b[0m\u001b[1;31m:\u001b[0m invalid decimal literal\n"
     ]
    }
   ],
   "source": [
    "21st question\n",
    "the highest silhouette_score is 0.22 at the n_clusters = 5 "
   ]
  },
  {
   "cell_type": "Markdown",
   "execution_count": null,
   "id": "aa7811d3-15bd-4f4b-ab42-b63113073549",
   "metadata": {},
   "outputs": [],
   "source": [
    "from sklearn.metrics import silhouette_score\n",
    "silhouette = silhouette_score(X_scaled, labels, metric='euclidean')\n",
    "print(\"Silhouette Score:\", silhouette)"
   ]
  }
 ],
 "metadata": {
  "kernelspec": {
   "display_name": "Python 3 (ipykernel)",
   "language": "python",
   "name": "python3"
  },
  "language_info": {
   "codemirror_mode": {
    "name": "ipython",
    "version": 3
   },
   "file_extension": ".py",
   "mimetype": "text/x-python",
   "name": "python",
   "nbconvert_exporter": "python",
   "pygments_lexer": "ipython3",
   "version": "3.12.1"
  }
 },
 "nbformat": 4,
 "nbformat_minor": 5
}
