{
 "cells": [
  {
   "cell_type": "code",
   "execution_count": 1,
   "id": "86492c3d-cbba-4fc6-90c4-4ce99a672d61",
   "metadata": {},
   "outputs": [
    {
     "name": "stderr",
     "output_type": "stream",
     "text": [
      "C:\\Users\\Dinnu\\AppData\\Local\\Temp\\ipykernel_26760\\2695430638.py:1: DeprecationWarning: \n",
      "Pyarrow will become a required dependency of pandas in the next major release of pandas (pandas 3.0),\n",
      "(to allow more performant data types, such as the Arrow string type, and better interoperability with other libraries)\n",
      "but was not found to be installed on your system.\n",
      "If this would cause problems for you,\n",
      "please provide us feedback at https://github.com/pandas-dev/pandas/issues/54466\n",
      "        \n",
      "  import pandas as pd\n"
     ]
    }
   ],
   "source": [
    "import pandas as pd\n",
    "import numpy as np\n",
    "import matplotlib.pyplot as plt\n",
    "from sklearn.preprocessing import MinMaxScaler, StandardScaler\n",
    "from sklearn.model_selection import train_test_split\n",
    "from sklearn.metrics import silhouette_score\n",
    "from sklearn.cluster import KMeans"
   ]
  },
  {
   "cell_type": "code",
   "execution_count": 2,
   "id": "8c286613-65b9-4fde-9555-6d8a3a0624dc",
   "metadata": {},
   "outputs": [],
   "source": [
    "df_train = pd.read_csv('Classification_train.csv')\n",
    "df_test = pd.read_csv('Classification_test.csv')"
   ]
  },
  {
   "cell_type": "code",
   "execution_count": 3,
   "id": "094d21ec-1bc5-44ce-8010-c378229114d8",
   "metadata": {},
   "outputs": [
    {
     "data": {
      "text/html": [
       "<div>\n",
       "<style scoped>\n",
       "    .dataframe tbody tr th:only-of-type {\n",
       "        vertical-align: middle;\n",
       "    }\n",
       "\n",
       "    .dataframe tbody tr th {\n",
       "        vertical-align: top;\n",
       "    }\n",
       "\n",
       "    .dataframe thead th {\n",
       "        text-align: right;\n",
       "    }\n",
       "</style>\n",
       "<table border=\"1\" class=\"dataframe\">\n",
       "  <thead>\n",
       "    <tr style=\"text-align: right;\">\n",
       "      <th></th>\n",
       "      <th>Unnamed: 0</th>\n",
       "      <th>Administrative</th>\n",
       "      <th>Administrative_Duration</th>\n",
       "      <th>Informational</th>\n",
       "      <th>Informational_Duration</th>\n",
       "      <th>ProductRelated</th>\n",
       "      <th>ProductRelated_Duration</th>\n",
       "      <th>BounceRates</th>\n",
       "      <th>ExitRates</th>\n",
       "      <th>PageValues</th>\n",
       "      <th>SpecialDay</th>\n",
       "      <th>Month</th>\n",
       "      <th>OperatingSystems</th>\n",
       "      <th>Browser</th>\n",
       "      <th>Region</th>\n",
       "      <th>TrafficType</th>\n",
       "      <th>VisitorType</th>\n",
       "      <th>Weekend</th>\n",
       "      <th>Revenue</th>\n",
       "    </tr>\n",
       "  </thead>\n",
       "  <tbody>\n",
       "    <tr>\n",
       "      <th>0</th>\n",
       "      <td>0</td>\n",
       "      <td>0</td>\n",
       "      <td>0.00</td>\n",
       "      <td>0</td>\n",
       "      <td>0.0</td>\n",
       "      <td>2</td>\n",
       "      <td>64.000000</td>\n",
       "      <td>0.000000</td>\n",
       "      <td>0.100000</td>\n",
       "      <td>0.0</td>\n",
       "      <td>0.0</td>\n",
       "      <td>Feb</td>\n",
       "      <td>2</td>\n",
       "      <td>2</td>\n",
       "      <td>1</td>\n",
       "      <td>2</td>\n",
       "      <td>Returning_Visitor</td>\n",
       "      <td>False</td>\n",
       "      <td>False</td>\n",
       "    </tr>\n",
       "    <tr>\n",
       "      <th>1</th>\n",
       "      <td>1</td>\n",
       "      <td>0</td>\n",
       "      <td>0.00</td>\n",
       "      <td>0</td>\n",
       "      <td>0.0</td>\n",
       "      <td>2</td>\n",
       "      <td>2.666667</td>\n",
       "      <td>0.050000</td>\n",
       "      <td>0.140000</td>\n",
       "      <td>0.0</td>\n",
       "      <td>0.0</td>\n",
       "      <td>Feb</td>\n",
       "      <td>3</td>\n",
       "      <td>2</td>\n",
       "      <td>2</td>\n",
       "      <td>4</td>\n",
       "      <td>Returning_Visitor</td>\n",
       "      <td>False</td>\n",
       "      <td>False</td>\n",
       "    </tr>\n",
       "    <tr>\n",
       "      <th>2</th>\n",
       "      <td>2</td>\n",
       "      <td>0</td>\n",
       "      <td>0.00</td>\n",
       "      <td>0</td>\n",
       "      <td>0.0</td>\n",
       "      <td>10</td>\n",
       "      <td>627.500000</td>\n",
       "      <td>0.020000</td>\n",
       "      <td>0.050000</td>\n",
       "      <td>0.0</td>\n",
       "      <td>0.0</td>\n",
       "      <td>Feb</td>\n",
       "      <td>3</td>\n",
       "      <td>3</td>\n",
       "      <td>1</td>\n",
       "      <td>4</td>\n",
       "      <td>Returning_Visitor</td>\n",
       "      <td>True</td>\n",
       "      <td>False</td>\n",
       "    </tr>\n",
       "    <tr>\n",
       "      <th>3</th>\n",
       "      <td>3</td>\n",
       "      <td>0</td>\n",
       "      <td>0.00</td>\n",
       "      <td>0</td>\n",
       "      <td>0.0</td>\n",
       "      <td>19</td>\n",
       "      <td>154.216667</td>\n",
       "      <td>0.015789</td>\n",
       "      <td>0.024561</td>\n",
       "      <td>0.0</td>\n",
       "      <td>0.0</td>\n",
       "      <td>Feb</td>\n",
       "      <td>2</td>\n",
       "      <td>2</td>\n",
       "      <td>1</td>\n",
       "      <td>3</td>\n",
       "      <td>Returning_Visitor</td>\n",
       "      <td>False</td>\n",
       "      <td>False</td>\n",
       "    </tr>\n",
       "    <tr>\n",
       "      <th>4</th>\n",
       "      <td>4</td>\n",
       "      <td>0</td>\n",
       "      <td>0.00</td>\n",
       "      <td>0</td>\n",
       "      <td>0.0</td>\n",
       "      <td>1</td>\n",
       "      <td>0.000000</td>\n",
       "      <td>0.200000</td>\n",
       "      <td>0.200000</td>\n",
       "      <td>0.0</td>\n",
       "      <td>0.4</td>\n",
       "      <td>Feb</td>\n",
       "      <td>2</td>\n",
       "      <td>4</td>\n",
       "      <td>3</td>\n",
       "      <td>3</td>\n",
       "      <td>Returning_Visitor</td>\n",
       "      <td>False</td>\n",
       "      <td>False</td>\n",
       "    </tr>\n",
       "    <tr>\n",
       "      <th>...</th>\n",
       "      <td>...</td>\n",
       "      <td>...</td>\n",
       "      <td>...</td>\n",
       "      <td>...</td>\n",
       "      <td>...</td>\n",
       "      <td>...</td>\n",
       "      <td>...</td>\n",
       "      <td>...</td>\n",
       "      <td>...</td>\n",
       "      <td>...</td>\n",
       "      <td>...</td>\n",
       "      <td>...</td>\n",
       "      <td>...</td>\n",
       "      <td>...</td>\n",
       "      <td>...</td>\n",
       "      <td>...</td>\n",
       "      <td>...</td>\n",
       "      <td>...</td>\n",
       "      <td>...</td>\n",
       "    </tr>\n",
       "    <tr>\n",
       "      <th>8904</th>\n",
       "      <td>8904</td>\n",
       "      <td>2</td>\n",
       "      <td>64.75</td>\n",
       "      <td>0</td>\n",
       "      <td>0.0</td>\n",
       "      <td>44</td>\n",
       "      <td>1157.976190</td>\n",
       "      <td>0.000000</td>\n",
       "      <td>0.013953</td>\n",
       "      <td>0.0</td>\n",
       "      <td>0.0</td>\n",
       "      <td>Nov</td>\n",
       "      <td>2</td>\n",
       "      <td>2</td>\n",
       "      <td>1</td>\n",
       "      <td>10</td>\n",
       "      <td>Returning_Visitor</td>\n",
       "      <td>False</td>\n",
       "      <td>False</td>\n",
       "    </tr>\n",
       "    <tr>\n",
       "      <th>8905</th>\n",
       "      <td>8905</td>\n",
       "      <td>0</td>\n",
       "      <td>0.00</td>\n",
       "      <td>1</td>\n",
       "      <td>0.0</td>\n",
       "      <td>16</td>\n",
       "      <td>503.000000</td>\n",
       "      <td>0.000000</td>\n",
       "      <td>0.037647</td>\n",
       "      <td>0.0</td>\n",
       "      <td>0.0</td>\n",
       "      <td>Nov</td>\n",
       "      <td>2</td>\n",
       "      <td>2</td>\n",
       "      <td>1</td>\n",
       "      <td>1</td>\n",
       "      <td>Returning_Visitor</td>\n",
       "      <td>False</td>\n",
       "      <td>False</td>\n",
       "    </tr>\n",
       "    <tr>\n",
       "      <th>8906</th>\n",
       "      <td>8906</td>\n",
       "      <td>0</td>\n",
       "      <td>0.00</td>\n",
       "      <td>0</td>\n",
       "      <td>0.0</td>\n",
       "      <td>5</td>\n",
       "      <td>465.750000</td>\n",
       "      <td>0.000000</td>\n",
       "      <td>0.021333</td>\n",
       "      <td>0.0</td>\n",
       "      <td>0.0</td>\n",
       "      <td>Nov</td>\n",
       "      <td>3</td>\n",
       "      <td>2</td>\n",
       "      <td>1</td>\n",
       "      <td>8</td>\n",
       "      <td>Returning_Visitor</td>\n",
       "      <td>True</td>\n",
       "      <td>False</td>\n",
       "    </tr>\n",
       "    <tr>\n",
       "      <th>8907</th>\n",
       "      <td>8907</td>\n",
       "      <td>0</td>\n",
       "      <td>0.00</td>\n",
       "      <td>0</td>\n",
       "      <td>0.0</td>\n",
       "      <td>6</td>\n",
       "      <td>184.250000</td>\n",
       "      <td>0.083333</td>\n",
       "      <td>0.086667</td>\n",
       "      <td>0.0</td>\n",
       "      <td>0.0</td>\n",
       "      <td>Nov</td>\n",
       "      <td>3</td>\n",
       "      <td>2</td>\n",
       "      <td>1</td>\n",
       "      <td>13</td>\n",
       "      <td>Returning_Visitor</td>\n",
       "      <td>True</td>\n",
       "      <td>False</td>\n",
       "    </tr>\n",
       "    <tr>\n",
       "      <th>8908</th>\n",
       "      <td>8908</td>\n",
       "      <td>4</td>\n",
       "      <td>75.00</td>\n",
       "      <td>0</td>\n",
       "      <td>0.0</td>\n",
       "      <td>15</td>\n",
       "      <td>346.000000</td>\n",
       "      <td>0.000000</td>\n",
       "      <td>0.021053</td>\n",
       "      <td>0.0</td>\n",
       "      <td>0.0</td>\n",
       "      <td>Nov</td>\n",
       "      <td>2</td>\n",
       "      <td>2</td>\n",
       "      <td>3</td>\n",
       "      <td>11</td>\n",
       "      <td>Returning_Visitor</td>\n",
       "      <td>False</td>\n",
       "      <td>False</td>\n",
       "    </tr>\n",
       "  </tbody>\n",
       "</table>\n",
       "<p>8909 rows × 19 columns</p>\n",
       "</div>"
      ],
      "text/plain": [
       "      Unnamed: 0  Administrative  Administrative_Duration  Informational  \\\n",
       "0              0               0                     0.00              0   \n",
       "1              1               0                     0.00              0   \n",
       "2              2               0                     0.00              0   \n",
       "3              3               0                     0.00              0   \n",
       "4              4               0                     0.00              0   \n",
       "...          ...             ...                      ...            ...   \n",
       "8904        8904               2                    64.75              0   \n",
       "8905        8905               0                     0.00              1   \n",
       "8906        8906               0                     0.00              0   \n",
       "8907        8907               0                     0.00              0   \n",
       "8908        8908               4                    75.00              0   \n",
       "\n",
       "      Informational_Duration  ProductRelated  ProductRelated_Duration  \\\n",
       "0                        0.0               2                64.000000   \n",
       "1                        0.0               2                 2.666667   \n",
       "2                        0.0              10               627.500000   \n",
       "3                        0.0              19               154.216667   \n",
       "4                        0.0               1                 0.000000   \n",
       "...                      ...             ...                      ...   \n",
       "8904                     0.0              44              1157.976190   \n",
       "8905                     0.0              16               503.000000   \n",
       "8906                     0.0               5               465.750000   \n",
       "8907                     0.0               6               184.250000   \n",
       "8908                     0.0              15               346.000000   \n",
       "\n",
       "      BounceRates  ExitRates  PageValues  SpecialDay Month  OperatingSystems  \\\n",
       "0        0.000000   0.100000         0.0         0.0   Feb                 2   \n",
       "1        0.050000   0.140000         0.0         0.0   Feb                 3   \n",
       "2        0.020000   0.050000         0.0         0.0   Feb                 3   \n",
       "3        0.015789   0.024561         0.0         0.0   Feb                 2   \n",
       "4        0.200000   0.200000         0.0         0.4   Feb                 2   \n",
       "...           ...        ...         ...         ...   ...               ...   \n",
       "8904     0.000000   0.013953         0.0         0.0   Nov                 2   \n",
       "8905     0.000000   0.037647         0.0         0.0   Nov                 2   \n",
       "8906     0.000000   0.021333         0.0         0.0   Nov                 3   \n",
       "8907     0.083333   0.086667         0.0         0.0   Nov                 3   \n",
       "8908     0.000000   0.021053         0.0         0.0   Nov                 2   \n",
       "\n",
       "      Browser  Region  TrafficType        VisitorType  Weekend  Revenue  \n",
       "0           2       1            2  Returning_Visitor    False    False  \n",
       "1           2       2            4  Returning_Visitor    False    False  \n",
       "2           3       1            4  Returning_Visitor     True    False  \n",
       "3           2       1            3  Returning_Visitor    False    False  \n",
       "4           4       3            3  Returning_Visitor    False    False  \n",
       "...       ...     ...          ...                ...      ...      ...  \n",
       "8904        2       1           10  Returning_Visitor    False    False  \n",
       "8905        2       1            1  Returning_Visitor    False    False  \n",
       "8906        2       1            8  Returning_Visitor     True    False  \n",
       "8907        2       1           13  Returning_Visitor     True    False  \n",
       "8908        2       3           11  Returning_Visitor    False    False  \n",
       "\n",
       "[8909 rows x 19 columns]"
      ]
     },
     "execution_count": 3,
     "metadata": {},
     "output_type": "execute_result"
    }
   ],
   "source": [
    "df_train  ## 8909 rows x 19 columns\n",
    "# df_test  ## 1572 rows x 18 columns "
   ]
  },
  {
   "cell_type": "code",
   "execution_count": 4,
   "id": "b7a07b61-f6aa-41e1-a73d-127f1a4d6302",
   "metadata": {},
   "outputs": [],
   "source": [
    "df_train.drop('Unnamed: 0', axis = 1, inplace = True)\n",
    "df_test.drop('Unnamed: 0', axis = 1, inplace = True)"
   ]
  },
  {
   "cell_type": "code",
   "execution_count": 6,
   "id": "baa56344-3fbd-497d-95a6-7ec1cc7d9013",
   "metadata": {},
   "outputs": [],
   "source": [
    "#df_train.info()\n",
    "#df_test.info()"
   ]
  },
  {
   "cell_type": "code",
   "execution_count": 5,
   "id": "627f2993-fb3e-40e5-b207-3c544e7cdc03",
   "metadata": {},
   "outputs": [
    {
     "data": {
      "image/png": "[encoded data removed]",
      "text/plain": [
       "<Figure size 1500x1000 with 16 Axes>"
      ]
     },
     "metadata": {},
     "output_type": "display_data"
    }
   ],
   "source": [
    "## Now, We wanna understand what kind of data we have at the moment - and to understand what scaling we'll decide on later\n",
    "\n",
    "def plot_histograms(data, title):\n",
    "    data.hist(bins=15, figsize=(15, 10), layout=(4,4), color='skyblue', edgecolor='black')\n",
    "    plt.tight_layout()\n",
    "    plt.suptitle(title, fontsize=16, y=1.02)\n",
    "    plt.show()\n",
    "\n",
    "\n",
    "plot_histograms(df_train.select_dtypes(include=['int64', 'float64']), 'Histograms of Numerical Features in Train Data')"
   ]
  },
  {
   "cell_type": "markdown",
   "id": "c4a7a5cf-d503-45c1-b9cc-8904fb04baa6",
   "metadata": {},
   "source": [
    "Write down the details about the dataset!! "
   ]
  },
  {
   "cell_type": "markdown",
   "id": "18e64ce0-ec94-47e0-b36d-5d09e9a9d311",
   "metadata": {},
   "source": [
    "# DATA PREPARATION"
   ]
  },
  {
   "cell_type": "code",
   "execution_count": 6,
   "id": "1b926930-679f-4435-8ec8-142d34af5b37",
   "metadata": {},
   "outputs": [],
   "source": [
    "# We're gonna map our Month column with values between 0 to 9 -- condiserding the order factor   \n",
    "\n",
    "df_train['Month'].unique()\n",
    "df_train['Month'] = df_train['Month'].map({'Feb': 0, 'Mar': 1, 'May': 2, 'June': 3, 'Jul': 4, 'Aug': 5, 'Sep': 6, 'Oct': 7, 'Nov': 8, 'Dec': 9 })"
   ]
  },
  {
   "cell_type": "code",
   "execution_count": 7,
   "id": "4dac3e2d-0055-4fc9-94ea-7476b59626d5",
   "metadata": {},
   "outputs": [],
   "source": [
    "#df_test['Month'].unique()\n",
    "df_test['Month'] = df_test['Month'].map({'Feb': 0, 'Mar': 1, 'May': 2, 'June': 3, 'Jul': 4, 'Aug': 5, 'Sep': 6, 'Oct': 7, 'Nov': 8, 'Dec': 9 })"
   ]
  },
  {
   "cell_type": "code",
   "execution_count": 8,
   "id": "e3c23cb0-055d-43e7-8545-c9575cfd07ad",
   "metadata": {},
   "outputs": [
    {
     "name": "stdout",
     "output_type": "stream",
     "text": [
      "<class 'pandas.core.frame.DataFrame'>\n",
      "RangeIndex: 8909 entries, 0 to 8908\n",
      "Data columns (total 18 columns):\n",
      " #   Column                   Non-Null Count  Dtype  \n",
      "---  ------                   --------------  -----  \n",
      " 0   Administrative           8909 non-null   int64  \n",
      " 1   Administrative_Duration  8909 non-null   float64\n",
      " 2   Informational            8909 non-null   int64  \n",
      " 3   Informational_Duration   8909 non-null   float64\n",
      " 4   ProductRelated           8909 non-null   int64  \n",
      " 5   ProductRelated_Duration  8909 non-null   float64\n",
      " 6   BounceRates              8909 non-null   float64\n",
      " 7   ExitRates                8909 non-null   float64\n",
      " 8   PageValues               8909 non-null   float64\n",
      " 9   SpecialDay               8909 non-null   float64\n",
      " 10  Month                    8909 non-null   int64  \n",
      " 11  OperatingSystems         8909 non-null   int64  \n",
      " 12  Browser                  8909 non-null   int64  \n",
      " 13  Region                   8909 non-null   int64  \n",
      " 14  TrafficType              8909 non-null   int64  \n",
      " 15  VisitorType              8909 non-null   object \n",
      " 16  Weekend                  8909 non-null   bool   \n",
      " 17  Revenue                  8909 non-null   bool   \n",
      "dtypes: bool(2), float64(7), int64(8), object(1)\n",
      "memory usage: 1.1+ MB\n"
     ]
    }
   ],
   "source": [
    "df_train.info()"
   ]
  },
  {
   "cell_type": "code",
   "execution_count": 9,
   "id": "79761bab-8e71-4768-9683-605fc16b85fa",
   "metadata": {},
   "outputs": [],
   "source": [
    "\n",
    "df_train_encoded = pd.get_dummies(df_train, columns=['VisitorType'])\n",
    "df_test_encoded = pd.get_dummies(df_test, columns=['VisitorType'])"
   ]
  },
  {
   "cell_type": "code",
   "execution_count": 10,
   "id": "fdbd03ff-8fa8-4d2c-ae34-d5beed4c48c0",
   "metadata": {},
   "outputs": [
    {
     "name": "stdout",
     "output_type": "stream",
     "text": [
      "<class 'pandas.core.frame.DataFrame'>\n",
      "RangeIndex: 8909 entries, 0 to 8908\n",
      "Data columns (total 20 columns):\n",
      " #   Column                         Non-Null Count  Dtype  \n",
      "---  ------                         --------------  -----  \n",
      " 0   Administrative                 8909 non-null   int64  \n",
      " 1   Administrative_Duration        8909 non-null   float64\n",
      " 2   Informational                  8909 non-null   int64  \n",
      " 3   Informational_Duration         8909 non-null   float64\n",
      " 4   ProductRelated                 8909 non-null   int64  \n",
      " 5   ProductRelated_Duration        8909 non-null   float64\n",
      " 6   BounceRates                    8909 non-null   float64\n",
      " 7   ExitRates                      8909 non-null   float64\n",
      " 8   PageValues                     8909 non-null   float64\n",
      " 9   SpecialDay                     8909 non-null   float64\n",
      " 10  Month                          8909 non-null   int64  \n",
      " 11  OperatingSystems               8909 non-null   int64  \n",
      " 12  Browser                        8909 non-null   int64  \n",
      " 13  Region                         8909 non-null   int64  \n",
      " 14  TrafficType                    8909 non-null   int64  \n",
      " 15  Weekend                        8909 non-null   bool   \n",
      " 16  Revenue                        8909 non-null   bool   \n",
      " 17  VisitorType_New_Visitor        8909 non-null   bool   \n",
      " 18  VisitorType_Other              8909 non-null   bool   \n",
      " 19  VisitorType_Returning_Visitor  8909 non-null   bool   \n",
      "dtypes: bool(5), float64(7), int64(8)\n",
      "memory usage: 1.1 MB\n",
      "<class 'pandas.core.frame.DataFrame'>\n",
      "RangeIndex: 1572 entries, 0 to 1571\n",
      "Data columns (total 19 columns):\n",
      " #   Column                         Non-Null Count  Dtype  \n",
      "---  ------                         --------------  -----  \n",
      " 0   Administrative                 1572 non-null   int64  \n",
      " 1   Administrative_Duration        1572 non-null   float64\n",
      " 2   Informational                  1572 non-null   int64  \n",
      " 3   Informational_Duration         1572 non-null   float64\n",
      " 4   ProductRelated                 1572 non-null   int64  \n",
      " 5   ProductRelated_Duration        1572 non-null   float64\n",
      " 6   BounceRates                    1572 non-null   float64\n",
      " 7   ExitRates                      1572 non-null   float64\n",
      " 8   PageValues                     1572 non-null   float64\n",
      " 9   SpecialDay                     1572 non-null   float64\n",
      " 10  Month                          1572 non-null   int64  \n",
      " 11  OperatingSystems               1572 non-null   int64  \n",
      " 12  Browser                        1572 non-null   int64  \n",
      " 13  Region                         1572 non-null   int64  \n",
      " 14  TrafficType                    1572 non-null   int64  \n",
      " 15  Weekend                        1572 non-null   bool   \n",
      " 16  VisitorType_New_Visitor        1572 non-null   bool   \n",
      " 17  VisitorType_Other              1572 non-null   bool   \n",
      " 18  VisitorType_Returning_Visitor  1572 non-null   bool   \n",
      "dtypes: bool(4), float64(7), int64(8)\n",
      "memory usage: 190.5 KB\n"
     ]
    }
   ],
   "source": [
    "#Prepared data set \n",
    "\n",
    "df_train_encoded.info()\n",
    "df_test_encoded.info()"
   ]
  },
  {
   "cell_type": "code",
   "execution_count": 11,
   "id": "9606ec93-22f6-4670-a8d9-a85871e2f96b",
   "metadata": {},
   "outputs": [],
   "source": [
    "# Converting all Bool to ints >> true = 1 and False = 0 >> TRAINING DATASET\n",
    "\n",
    "for column in df_train_encoded.columns:\n",
    "    if df_train_encoded[column].dtype == 'bool':\n",
    "        df_train_encoded[column] = df_train_encoded[column].astype(int)"
   ]
  },
  {
   "cell_type": "code",
   "execution_count": 12,
   "id": "d9ccee5e-a29e-4bdf-bb44-b230d4531bc0",
   "metadata": {},
   "outputs": [],
   "source": [
    "# Converting all Bool to ints >> true = 1 and False = 0 >> TEST DATASET\n",
    "\n",
    "for column in df_test_encoded.columns:\n",
    "    if df_test_encoded[column].dtype == 'bool':\n",
    "        df_test_encoded[column] = df_test_encoded[column].astype(int)"
   ]
  },
  {
   "cell_type": "code",
   "execution_count": 13,
   "id": "42574fff-5da0-4786-b39b-82d5a95ba67f",
   "metadata": {},
   "outputs": [
    {
     "name": "stdout",
     "output_type": "stream",
     "text": [
      "<class 'pandas.core.frame.DataFrame'>\n",
      "RangeIndex: 8909 entries, 0 to 8908\n",
      "Data columns (total 20 columns):\n",
      " #   Column                         Non-Null Count  Dtype  \n",
      "---  ------                         --------------  -----  \n",
      " 0   Administrative                 8909 non-null   int64  \n",
      " 1   Administrative_Duration        8909 non-null   float64\n",
      " 2   Informational                  8909 non-null   int64  \n",
      " 3   Informational_Duration         8909 non-null   float64\n",
      " 4   ProductRelated                 8909 non-null   int64  \n",
      " 5   ProductRelated_Duration        8909 non-null   float64\n",
      " 6   BounceRates                    8909 non-null   float64\n",
      " 7   ExitRates                      8909 non-null   float64\n",
      " 8   PageValues                     8909 non-null   float64\n",
      " 9   SpecialDay                     8909 non-null   float64\n",
      " 10  Month                          8909 non-null   int64  \n",
      " 11  OperatingSystems               8909 non-null   int64  \n",
      " 12  Browser                        8909 non-null   int64  \n",
      " 13  Region                         8909 non-null   int64  \n",
      " 14  TrafficType                    8909 non-null   int64  \n",
      " 15  Weekend                        8909 non-null   int32  \n",
      " 16  Revenue                        8909 non-null   int32  \n",
      " 17  VisitorType_New_Visitor        8909 non-null   int32  \n",
      " 18  VisitorType_Other              8909 non-null   int32  \n",
      " 19  VisitorType_Returning_Visitor  8909 non-null   int32  \n",
      "dtypes: float64(7), int32(5), int64(8)\n",
      "memory usage: 1.2 MB\n",
      "<class 'pandas.core.frame.DataFrame'>\n",
      "RangeIndex: 1572 entries, 0 to 1571\n",
      "Data columns (total 19 columns):\n",
      " #   Column                         Non-Null Count  Dtype  \n",
      "---  ------                         --------------  -----  \n",
      " 0   Administrative                 1572 non-null   int64  \n",
      " 1   Administrative_Duration        1572 non-null   float64\n",
      " 2   Informational                  1572 non-null   int64  \n",
      " 3   Informational_Duration         1572 non-null   float64\n",
      " 4   ProductRelated                 1572 non-null   int64  \n",
      " 5   ProductRelated_Duration        1572 non-null   float64\n",
      " 6   BounceRates                    1572 non-null   float64\n",
      " 7   ExitRates                      1572 non-null   float64\n",
      " 8   PageValues                     1572 non-null   float64\n",
      " 9   SpecialDay                     1572 non-null   float64\n",
      " 10  Month                          1572 non-null   int64  \n",
      " 11  OperatingSystems               1572 non-null   int64  \n",
      " 12  Browser                        1572 non-null   int64  \n",
      " 13  Region                         1572 non-null   int64  \n",
      " 14  TrafficType                    1572 non-null   int64  \n",
      " 15  Weekend                        1572 non-null   int32  \n",
      " 16  VisitorType_New_Visitor        1572 non-null   int32  \n",
      " 17  VisitorType_Other              1572 non-null   int32  \n",
      " 18  VisitorType_Returning_Visitor  1572 non-null   int32  \n",
      "dtypes: float64(7), int32(4), int64(8)\n",
      "memory usage: 208.9 KB\n"
     ]
    }
   ],
   "source": [
    "df_train_encoded.info()\n",
    "df_test_encoded.info()"
   ]
  },
  {
   "cell_type": "markdown",
   "id": "1d9ad9c1-b516-44ce-9769-e5abb967321c",
   "metadata": {},
   "source": [
    " Now we know our dataset is fully numeric - so it's time to split our dataset to predictors and response variables : SPLITTING OUR DATASET"
   ]
  },
  {
   "cell_type": "markdown",
   "id": "a9d874e9-d0cd-4c94-856d-121bfe08e43f",
   "metadata": {},
   "source": [
    "The most important factor here is, the test data does not have the desired response variable! \n",
    "Hence, when it comes to splitting our dataset - we only split the train data and compare the whole data set with the test data\n",
    "\n",
    "We beleive, in this case, our test data behaves as the predictor data post building our model and hence we decided to move ahead with this plan."
   ]
  },
  {
   "cell_type": "code",
   "execution_count": 14,
   "id": "ae5af15b-15c7-4c52-bc18-2b456915e63d",
   "metadata": {},
   "outputs": [],
   "source": [
    "X_data = df_train_encoded.drop('Revenue', axis=1)\n",
    "Y_data = df_train_encoded['Revenue']"
   ]
  },
  {
   "cell_type": "code",
   "execution_count": 15,
   "id": "9db9f370-ad33-4ab4-bb69-8851ed02aa95",
   "metadata": {},
   "outputs": [],
   "source": [
    "#X_data.info()\n",
    "#Y_data.info()"
   ]
  },
  {
   "cell_type": "markdown",
   "id": "e46601ef-cd37-4300-ad79-a6b6cb825739",
   "metadata": {},
   "source": [
    "# DATA SCALING : with MinMax Scaler "
   ]
  },
  {
   "cell_type": "code",
   "execution_count": 16,
   "id": "861f228c-9fcf-4a19-bd89-4c55a3901664",
   "metadata": {},
   "outputs": [],
   "source": [
    "scaler = MinMaxScaler()\n",
    "\n",
    "X_data_scaled = scaler.fit_transform(X_data)"
   ]
  },
  {
   "cell_type": "markdown",
   "id": "c5528b52-dc78-41c4-b2b9-1d58cebf721a",
   "metadata": {},
   "source": [
    "Considering the features are not normally distributed we are proceeeding with MinMax Scaler "
   ]
  },
  {
   "cell_type": "markdown",
   "id": "71b621d0-dbcc-4202-b525-39b9269449be",
   "metadata": {},
   "source": [
    "# Clustering"
   ]
  },
  {
   "cell_type": "code",
   "execution_count": 17,
   "id": "2b07d7df-70cb-4673-8051-b4d2bc242178",
   "metadata": {},
   "outputs": [
    {
     "name": "stdout",
     "output_type": "stream",
     "text": [
      "Number of clusters :  4\n",
      "Cluster labels :  [0 0 2 ... 2 2 0]\n"
     ]
    }
   ],
   "source": [
    "## Cluster type1 - Hierarchial Clustering using Agglomerative Clustering where the clustering is based of the linkage!\n",
    "\n",
    "from sklearn.cluster import AgglomerativeClustering\n",
    "\n",
    "# Assuming the model parameters as below:\n",
    "# n_clusters: The number of clusters to find >> Hence giving none \n",
    "# linkage:defualt = 'ward' >> from the same reasons we decided to go with ward in regression.\n",
    "# distance_threshold:   >> we decieded to go with a range of 1 to 50 >> to get no of clusters = 4\n",
    "# the best suited threshold distance for the same is 35\n",
    "\n",
    "AgglClust_Model = AgglomerativeClustering(distance_threshold = 35, n_clusters = None, \n",
    "                                linkage = 'ward')\n",
    "\n",
    "# Train the model\n",
    "AgglClust_Model = AgglClust_Model.fit(X_data_scaled)\n",
    "\n",
    "# The number of clusters found by the algorithm for a threshold :\n",
    "print(\"Number of clusters : \",AgglClust_Model.n_clusters_)\n",
    "\n",
    "# Cluster labels for each point.\n",
    "print(\"Cluster labels : \",AgglClust_Model.labels_)\n"
   ]
  },
  {
   "cell_type": "markdown",
   "id": "6f2bbd14-3595-43c8-954a-6136835d305e",
   "metadata": {},
   "source": [
    "Plotting the Dendogram"
   ]
  },
  {
   "cell_type": "code",
   "execution_count": 33,
   "id": "e03b8e28-df94-46cb-818a-c23cab6476c6",
   "metadata": {},
   "outputs": [
    {
     "data": {
      "image/png": "[encoded data removed]",
      "text/plain": [
       "<Figure size 2000x2000 with 1 Axes>"
      ]
     },
     "metadata": {},
     "output_type": "display_data"
    }
   ],
   "source": [
    "# Dendrograpm\n",
    "from scipy.cluster.hierarchy import dendrogram, linkage\n",
    "\n",
    "plt.subplots(figsize = (20,20))\n",
    "dendrogram(linkage(X_data_scaled, method = 'ward'))\n",
    "plt.axhline(y = 35, c = 'r', linestyle = '--')\n",
    "\n",
    "plt.show()"
   ]
  },
  {
   "cell_type": "markdown",
   "id": "8f584aae-b03d-4c7f-8be2-7a0f9d8239e9",
   "metadata": {},
   "source": [
    "Inference:\n",
    " \n",
    "The Dendogram above shows the no of clusters which can be formed which is 4. \n",
    "* No of Clusters = 4\n",
    "* Distance threshold = 35\n",
    "* Above plot gives a pictorial representation of the same and the height difference between joining the clusters is the dis-similarities in the dataset."
   ]
  },
  {
   "cell_type": "code",
   "execution_count": 18,
   "id": "4ed524ea-15f1-4956-8629-d3d1b7bd73bc",
   "metadata": {},
   "outputs": [
    {
     "name": "stdout",
     "output_type": "stream",
     "text": [
      "Counter({0: 5461, 2: 1623, 1: 1271, 3: 554})\n"
     ]
    }
   ],
   "source": [
    "# To get a value count we're gonna use collections\n",
    "import collections, numpy\n",
    "\n",
    "# To get the size of each cluster \n",
    "values = collections.Counter(AgglClust_Model.labels_)\n",
    "print(values)"
   ]
  },
  {
   "cell_type": "code",
   "execution_count": 19,
   "id": "25444816-a4df-4535-bb40-d2ed1f9c5bc2",
   "metadata": {},
   "outputs": [
    {
     "data": {
      "text/html": [
       "<div>\n",
       "<style scoped>\n",
       "    .dataframe tbody tr th:only-of-type {\n",
       "        vertical-align: middle;\n",
       "    }\n",
       "\n",
       "    .dataframe tbody tr th {\n",
       "        vertical-align: top;\n",
       "    }\n",
       "\n",
       "    .dataframe thead th {\n",
       "        text-align: right;\n",
       "    }\n",
       "</style>\n",
       "<table border=\"1\" class=\"dataframe\">\n",
       "  <thead>\n",
       "    <tr style=\"text-align: right;\">\n",
       "      <th></th>\n",
       "      <th>Administrative</th>\n",
       "      <th>Administrative_Duration</th>\n",
       "      <th>Informational</th>\n",
       "      <th>Informational_Duration</th>\n",
       "      <th>ProductRelated</th>\n",
       "      <th>ProductRelated_Duration</th>\n",
       "      <th>BounceRates</th>\n",
       "      <th>ExitRates</th>\n",
       "      <th>PageValues</th>\n",
       "      <th>SpecialDay</th>\n",
       "      <th>Month</th>\n",
       "      <th>OperatingSystems</th>\n",
       "      <th>Browser</th>\n",
       "      <th>Region</th>\n",
       "      <th>TrafficType</th>\n",
       "      <th>Weekend</th>\n",
       "      <th>VisitorType_New_Visitor</th>\n",
       "      <th>VisitorType_Other</th>\n",
       "      <th>VisitorType_Returning_Visitor</th>\n",
       "      <th>Aggl_Cluster</th>\n",
       "    </tr>\n",
       "  </thead>\n",
       "  <tbody>\n",
       "    <tr>\n",
       "      <th>0</th>\n",
       "      <td>0.0</td>\n",
       "      <td>0.0</td>\n",
       "      <td>0.0</td>\n",
       "      <td>0.0</td>\n",
       "      <td>2.0</td>\n",
       "      <td>64.000000</td>\n",
       "      <td>0.000000</td>\n",
       "      <td>0.100000</td>\n",
       "      <td>0.0</td>\n",
       "      <td>0.0</td>\n",
       "      <td>0.0</td>\n",
       "      <td>2.0</td>\n",
       "      <td>2.0</td>\n",
       "      <td>1.0</td>\n",
       "      <td>2.0</td>\n",
       "      <td>0.0</td>\n",
       "      <td>0.0</td>\n",
       "      <td>0.0</td>\n",
       "      <td>1.0</td>\n",
       "      <td>0</td>\n",
       "    </tr>\n",
       "    <tr>\n",
       "      <th>1</th>\n",
       "      <td>0.0</td>\n",
       "      <td>0.0</td>\n",
       "      <td>0.0</td>\n",
       "      <td>0.0</td>\n",
       "      <td>2.0</td>\n",
       "      <td>2.666667</td>\n",
       "      <td>0.050000</td>\n",
       "      <td>0.140000</td>\n",
       "      <td>0.0</td>\n",
       "      <td>0.0</td>\n",
       "      <td>0.0</td>\n",
       "      <td>3.0</td>\n",
       "      <td>2.0</td>\n",
       "      <td>2.0</td>\n",
       "      <td>4.0</td>\n",
       "      <td>0.0</td>\n",
       "      <td>0.0</td>\n",
       "      <td>0.0</td>\n",
       "      <td>1.0</td>\n",
       "      <td>0</td>\n",
       "    </tr>\n",
       "    <tr>\n",
       "      <th>2</th>\n",
       "      <td>0.0</td>\n",
       "      <td>0.0</td>\n",
       "      <td>0.0</td>\n",
       "      <td>0.0</td>\n",
       "      <td>10.0</td>\n",
       "      <td>627.500000</td>\n",
       "      <td>0.020000</td>\n",
       "      <td>0.050000</td>\n",
       "      <td>0.0</td>\n",
       "      <td>0.0</td>\n",
       "      <td>0.0</td>\n",
       "      <td>3.0</td>\n",
       "      <td>3.0</td>\n",
       "      <td>1.0</td>\n",
       "      <td>4.0</td>\n",
       "      <td>1.0</td>\n",
       "      <td>0.0</td>\n",
       "      <td>0.0</td>\n",
       "      <td>1.0</td>\n",
       "      <td>2</td>\n",
       "    </tr>\n",
       "    <tr>\n",
       "      <th>3</th>\n",
       "      <td>0.0</td>\n",
       "      <td>0.0</td>\n",
       "      <td>0.0</td>\n",
       "      <td>0.0</td>\n",
       "      <td>19.0</td>\n",
       "      <td>154.216667</td>\n",
       "      <td>0.015789</td>\n",
       "      <td>0.024561</td>\n",
       "      <td>0.0</td>\n",
       "      <td>0.0</td>\n",
       "      <td>0.0</td>\n",
       "      <td>2.0</td>\n",
       "      <td>2.0</td>\n",
       "      <td>1.0</td>\n",
       "      <td>3.0</td>\n",
       "      <td>0.0</td>\n",
       "      <td>0.0</td>\n",
       "      <td>0.0</td>\n",
       "      <td>1.0</td>\n",
       "      <td>0</td>\n",
       "    </tr>\n",
       "    <tr>\n",
       "      <th>4</th>\n",
       "      <td>0.0</td>\n",
       "      <td>0.0</td>\n",
       "      <td>0.0</td>\n",
       "      <td>0.0</td>\n",
       "      <td>1.0</td>\n",
       "      <td>0.000000</td>\n",
       "      <td>0.200000</td>\n",
       "      <td>0.200000</td>\n",
       "      <td>0.0</td>\n",
       "      <td>0.4</td>\n",
       "      <td>0.0</td>\n",
       "      <td>2.0</td>\n",
       "      <td>4.0</td>\n",
       "      <td>3.0</td>\n",
       "      <td>3.0</td>\n",
       "      <td>0.0</td>\n",
       "      <td>0.0</td>\n",
       "      <td>0.0</td>\n",
       "      <td>1.0</td>\n",
       "      <td>3</td>\n",
       "    </tr>\n",
       "  </tbody>\n",
       "</table>\n",
       "</div>"
      ],
      "text/plain": [
       "   Administrative  Administrative_Duration  Informational  \\\n",
       "0             0.0                      0.0            0.0   \n",
       "1             0.0                      0.0            0.0   \n",
       "2             0.0                      0.0            0.0   \n",
       "3             0.0                      0.0            0.0   \n",
       "4             0.0                      0.0            0.0   \n",
       "\n",
       "   Informational_Duration  ProductRelated  ProductRelated_Duration  \\\n",
       "0                     0.0             2.0                64.000000   \n",
       "1                     0.0             2.0                 2.666667   \n",
       "2                     0.0            10.0               627.500000   \n",
       "3                     0.0            19.0               154.216667   \n",
       "4                     0.0             1.0                 0.000000   \n",
       "\n",
       "   BounceRates  ExitRates  PageValues  SpecialDay  Month  OperatingSystems  \\\n",
       "0     0.000000   0.100000         0.0         0.0    0.0               2.0   \n",
       "1     0.050000   0.140000         0.0         0.0    0.0               3.0   \n",
       "2     0.020000   0.050000         0.0         0.0    0.0               3.0   \n",
       "3     0.015789   0.024561         0.0         0.0    0.0               2.0   \n",
       "4     0.200000   0.200000         0.0         0.4    0.0               2.0   \n",
       "\n",
       "   Browser  Region  TrafficType  Weekend  VisitorType_New_Visitor  \\\n",
       "0      2.0     1.0          2.0      0.0                      0.0   \n",
       "1      2.0     2.0          4.0      0.0                      0.0   \n",
       "2      3.0     1.0          4.0      1.0                      0.0   \n",
       "3      2.0     1.0          3.0      0.0                      0.0   \n",
       "4      4.0     3.0          3.0      0.0                      0.0   \n",
       "\n",
       "   VisitorType_Other  VisitorType_Returning_Visitor  Aggl_Cluster  \n",
       "0                0.0                            1.0             0  \n",
       "1                0.0                            1.0             0  \n",
       "2                0.0                            1.0             2  \n",
       "3                0.0                            1.0             0  \n",
       "4                0.0                            1.0             3  "
      ]
     },
     "execution_count": 19,
     "metadata": {},
     "output_type": "execute_result"
    }
   ],
   "source": [
    "# Now, inversing our scaled data back to it's original form so it's easier for analysis:\n",
    "X_data_inversed = scaler.inverse_transform(X_data_scaled)\n",
    "df_X_data_inversed = pd.DataFrame(X_data_inversed, columns = X_data.columns)\n",
    "\n",
    "# Add a new colum tp our dataset\n",
    "df_X_data_inversed['Aggl_Cluster'] = AgglClust_Model.labels_\n",
    "df_X_data_inversed.head()"
   ]
  },
  {
   "cell_type": "markdown",
   "id": "78978696-618c-4cc8-8338-ff31b00678a0",
   "metadata": {},
   "source": [
    "# Analaysing our dataset from Agglomerative Clustering"
   ]
  },
  {
   "cell_type": "code",
   "execution_count": 20,
   "id": "b9d5ca6a-dc62-492b-bd8b-dcd92539a2a4",
   "metadata": {},
   "outputs": [
    {
     "name": "stdout",
     "output_type": "stream",
     "text": [
      "Aggl_Cluster\n",
      "3     554\n",
      "1    1271\n",
      "2    1623\n",
      "0    5461\n",
      "Name: Administrative, dtype: int64\n",
      "Aggl_Cluster\n",
      "3     1.892840\n",
      "0    83.026898\n",
      "1    89.892528\n",
      "2    91.004545\n",
      "Name: Administrative_Duration, dtype: float64\n"
     ]
    }
   ],
   "source": [
    "## Websites within the e-comerce platform   \n",
    "\n",
    "#  Administrative Websites :  -- Pages visited\n",
    "Admin_Frq_count = df_X_data_inversed.groupby('Aggl_Cluster')['Administrative'].count().sort_values()\n",
    "print(Admin_Frq_count)\n",
    "\n",
    "#  Administrative Websites :  -- time spent \n",
    "Admin_Duration_Average = df_X_data_inversed.groupby('Aggl_Cluster')['Administrative_Duration'].mean().sort_values()\n",
    "print(Admin_Duration_Average)"
   ]
  },
  {
   "cell_type": "markdown",
   "id": "d43a72f4-d609-44f6-a2cd-9c6188857a78",
   "metadata": {},
   "source": [
    "Administrative Websites analysis:  - based on the pages visited:\n",
    "  \n",
    "* Cluster 0 has the most pages opened.\n",
    "* Cluster 3 has the least pages opened.\n",
    "\n",
    "Time spent on average:\n",
    "\n",
    "* Cluster 2 has users who spend the most amount of time in Admin websites on an average.\n",
    "* Cluster 3 has users who spend least amount of time in Admin websites on an average."
   ]
  },
  {
   "cell_type": "code",
   "execution_count": 21,
   "id": "1fe18987-13be-43c3-abb0-eb0c936223fc",
   "metadata": {},
   "outputs": [
    {
     "name": "stdout",
     "output_type": "stream",
     "text": [
      "Aggl_Cluster\n",
      "3     554\n",
      "1    1271\n",
      "2    1623\n",
      "0    5461\n",
      "Name: Informational, dtype: int64\n",
      "Aggl_Cluster\n",
      "3     0.077617\n",
      "1    19.953324\n",
      "0    35.890329\n",
      "2    46.592840\n",
      "Name: Informational_Duration, dtype: float64\n"
     ]
    }
   ],
   "source": [
    "#  Informative Websites : -- Pages Visted\n",
    "Informational_Frq_count = df_X_data_inversed.groupby('Aggl_Cluster')['Informational'].count().sort_values()\n",
    "print(Informational_Frq_count)\n",
    "\n",
    "#  Informative Websites :  -- time spent \n",
    "Informational_Duration_Average = df_X_data_inversed.groupby('Aggl_Cluster')['Informational_Duration'].mean().sort_values()\n",
    "print(Informational_Duration_Average)"
   ]
  },
  {
   "cell_type": "markdown",
   "id": "4d8c8525-b93b-459d-9123-cc75263b519e",
   "metadata": {},
   "source": [
    "Information Websites analysis:  - based on the pages visited: \n",
    "\n",
    "* Cluster 0 has the most pages opened.\n",
    "* Cluster 3 has the least pages opened.\n",
    "\n",
    "\n",
    "Time spent on average\n",
    "\n",
    "* Cluster 2 has users who spend the most amount of time in Info websites on an average.\n",
    "* Cluster 3 has users who spend least amount of time in Info websites on an average."
   ]
  },
  {
   "cell_type": "code",
   "execution_count": 22,
   "id": "b7ab8183-82d6-490c-8f89-0f661e42c2cf",
   "metadata": {},
   "outputs": [
    {
     "name": "stdout",
     "output_type": "stream",
     "text": [
      "Aggl_Cluster\n",
      "3     554\n",
      "1    1271\n",
      "2    1623\n",
      "0    5461\n",
      "Name: ProductRelated, dtype: int64\n",
      "Aggl_Cluster\n",
      "3      28.974318\n",
      "1     640.195408\n",
      "0    1367.954743\n",
      "2    1437.125336\n",
      "Name: ProductRelated_Duration, dtype: float64\n"
     ]
    }
   ],
   "source": [
    "# ProductRelated Websites : -- Pages Visted\n",
    "ProductRelated_Frq_count = df_X_data_inversed.groupby('Aggl_Cluster')['ProductRelated'].count().sort_values()\n",
    "print(ProductRelated_Frq_count)\n",
    "\n",
    "# ProductRelated Websites :  -- time spent \n",
    "ProductRelated_Duration_Average = df_X_data_inversed.groupby('Aggl_Cluster')['ProductRelated_Duration'].mean().sort_values()\n",
    "print(ProductRelated_Duration_Average)"
   ]
  },
  {
   "cell_type": "markdown",
   "id": "db1ee885-a682-43e9-91d7-59f670e227c9",
   "metadata": {},
   "source": [
    "ProductRelated Websites analysis:  - based on the pages visited \n",
    "\n",
    "* Cluster 0 has the most pages opened.\n",
    "* Cluster 3 has the least pages opened.\n",
    "\n",
    "\n",
    "Time spent on average\n",
    "* Cluster 2 has users who spend the most amount of time in ProductRelated websites on an average.\n",
    "* Cluster 3 has users who spend least amount of time in ProductRelated websites on an average."
   ]
  },
  {
   "cell_type": "code",
   "execution_count": 23,
   "id": "212b373d-d1fc-4d8b-81f1-21c78c27735c",
   "metadata": {},
   "outputs": [
    {
     "data": {
      "text/html": [
       "<div>\n",
       "<style scoped>\n",
       "    .dataframe tbody tr th:only-of-type {\n",
       "        vertical-align: middle;\n",
       "    }\n",
       "\n",
       "    .dataframe tbody tr th {\n",
       "        vertical-align: top;\n",
       "    }\n",
       "\n",
       "    .dataframe thead th {\n",
       "        text-align: right;\n",
       "    }\n",
       "</style>\n",
       "<table border=\"1\" class=\"dataframe\">\n",
       "  <thead>\n",
       "    <tr style=\"text-align: right;\">\n",
       "      <th>SpecialDay</th>\n",
       "      <th>0.0</th>\n",
       "      <th>0.2</th>\n",
       "      <th>0.4</th>\n",
       "      <th>0.6</th>\n",
       "      <th>0.8</th>\n",
       "      <th>1.0</th>\n",
       "    </tr>\n",
       "    <tr>\n",
       "      <th>Aggl_Cluster</th>\n",
       "      <th></th>\n",
       "      <th></th>\n",
       "      <th></th>\n",
       "      <th></th>\n",
       "      <th></th>\n",
       "      <th></th>\n",
       "    </tr>\n",
       "  </thead>\n",
       "  <tbody>\n",
       "    <tr>\n",
       "      <th>0</th>\n",
       "      <td>4777</td>\n",
       "      <td>118</td>\n",
       "      <td>145</td>\n",
       "      <td>216</td>\n",
       "      <td>205</td>\n",
       "      <td>0</td>\n",
       "    </tr>\n",
       "    <tr>\n",
       "      <th>1</th>\n",
       "      <td>1225</td>\n",
       "      <td>6</td>\n",
       "      <td>9</td>\n",
       "      <td>18</td>\n",
       "      <td>7</td>\n",
       "      <td>6</td>\n",
       "    </tr>\n",
       "    <tr>\n",
       "      <th>2</th>\n",
       "      <td>1528</td>\n",
       "      <td>0</td>\n",
       "      <td>0</td>\n",
       "      <td>0</td>\n",
       "      <td>2</td>\n",
       "      <td>93</td>\n",
       "    </tr>\n",
       "    <tr>\n",
       "      <th>3</th>\n",
       "      <td>483</td>\n",
       "      <td>13</td>\n",
       "      <td>19</td>\n",
       "      <td>14</td>\n",
       "      <td>18</td>\n",
       "      <td>7</td>\n",
       "    </tr>\n",
       "  </tbody>\n",
       "</table>\n",
       "</div>"
      ],
      "text/plain": [
       "SpecialDay     0.0  0.2  0.4  0.6  0.8  1.0\n",
       "Aggl_Cluster                               \n",
       "0             4777  118  145  216  205    0\n",
       "1             1225    6    9   18    7    6\n",
       "2             1528    0    0    0    2   93\n",
       "3              483   13   19   14   18    7"
      ]
     },
     "execution_count": 23,
     "metadata": {},
     "output_type": "execute_result"
    }
   ],
   "source": [
    "# Column Name : Special Day\n",
    "pd.crosstab(df_X_data_inversed['Aggl_Cluster'], df_X_data_inversed['SpecialDay'])"
   ]
  },
  {
   "cell_type": "markdown",
   "id": "b3679b9a-f5f5-40a0-b3e3-277f6601679b",
   "metadata": {},
   "source": [
    "Special Day Analysis:\n",
    "\n",
    "* Cluster 0 : max_count = 4777 >> SpecialDay = 0.0 ; least_count = 0 >> SpecialDay = 1.0\n",
    "* Cluster 1 : max_count = 1225 >> SpecialDay = 0.0 ; least_count = 6 >> SpecialDay = 0.2 & 0.1\n",
    "* Cluster 2 : max_count = 1528 >> SpecialDay = 0.0 ; least_count = 0 >> SpecialDay = 0.2 && 0.4 && 0.6\n",
    " * Cluster 3 : max_count = 483 >> SpecialDay = 0.0 ; least_count = 7 >> SpecialDay = 1.0\n",
    "\n",
    "Overall, the max number of users who generate the revenue based of Special Days are classified as 0."
   ]
  },
  {
   "cell_type": "code",
   "execution_count": 24,
   "id": "a80dc0f5-6007-4edd-bcc3-7524c5bac263",
   "metadata": {},
   "outputs": [
    {
     "data": {
      "text/html": [
       "<div>\n",
       "<style scoped>\n",
       "    .dataframe tbody tr th:only-of-type {\n",
       "        vertical-align: middle;\n",
       "    }\n",
       "\n",
       "    .dataframe tbody tr th {\n",
       "        vertical-align: top;\n",
       "    }\n",
       "\n",
       "    .dataframe thead th {\n",
       "        text-align: right;\n",
       "    }\n",
       "</style>\n",
       "<table border=\"1\" class=\"dataframe\">\n",
       "  <thead>\n",
       "    <tr style=\"text-align: right;\">\n",
       "      <th>OperatingSystems</th>\n",
       "      <th>1.0</th>\n",
       "      <th>2.0</th>\n",
       "      <th>3.0</th>\n",
       "      <th>4.0</th>\n",
       "      <th>5.0</th>\n",
       "      <th>6.0</th>\n",
       "      <th>7.0</th>\n",
       "      <th>8.0</th>\n",
       "    </tr>\n",
       "    <tr>\n",
       "      <th>Aggl_Cluster</th>\n",
       "      <th></th>\n",
       "      <th></th>\n",
       "      <th></th>\n",
       "      <th></th>\n",
       "      <th></th>\n",
       "      <th></th>\n",
       "      <th></th>\n",
       "      <th></th>\n",
       "    </tr>\n",
       "  </thead>\n",
       "  <tbody>\n",
       "    <tr>\n",
       "      <th>0</th>\n",
       "      <td>995</td>\n",
       "      <td>3145</td>\n",
       "      <td>1038</td>\n",
       "      <td>229</td>\n",
       "      <td>4</td>\n",
       "      <td>6</td>\n",
       "      <td>1</td>\n",
       "      <td>43</td>\n",
       "    </tr>\n",
       "    <tr>\n",
       "      <th>1</th>\n",
       "      <td>308</td>\n",
       "      <td>697</td>\n",
       "      <td>208</td>\n",
       "      <td>48</td>\n",
       "      <td>0</td>\n",
       "      <td>2</td>\n",
       "      <td>0</td>\n",
       "      <td>8</td>\n",
       "    </tr>\n",
       "    <tr>\n",
       "      <th>2</th>\n",
       "      <td>410</td>\n",
       "      <td>687</td>\n",
       "      <td>443</td>\n",
       "      <td>73</td>\n",
       "      <td>1</td>\n",
       "      <td>3</td>\n",
       "      <td>1</td>\n",
       "      <td>5</td>\n",
       "    </tr>\n",
       "    <tr>\n",
       "      <th>3</th>\n",
       "      <td>148</td>\n",
       "      <td>221</td>\n",
       "      <td>168</td>\n",
       "      <td>11</td>\n",
       "      <td>0</td>\n",
       "      <td>3</td>\n",
       "      <td>0</td>\n",
       "      <td>3</td>\n",
       "    </tr>\n",
       "  </tbody>\n",
       "</table>\n",
       "</div>"
      ],
      "text/plain": [
       "OperatingSystems  1.0   2.0   3.0  4.0  5.0  6.0  7.0  8.0\n",
       "Aggl_Cluster                                              \n",
       "0                 995  3145  1038  229    4    6    1   43\n",
       "1                 308   697   208   48    0    2    0    8\n",
       "2                 410   687   443   73    1    3    1    5\n",
       "3                 148   221   168   11    0    3    0    3"
      ]
     },
     "execution_count": 24,
     "metadata": {},
     "output_type": "execute_result"
    }
   ],
   "source": [
    "# Column Name : Operating Systems \n",
    "pd.crosstab(df_X_data_inversed['Aggl_Cluster'], df_X_data_inversed['OperatingSystems'])"
   ]
  },
  {
   "cell_type": "markdown",
   "id": "4b119a13-f7b8-4646-b96d-8a2225ae8430",
   "metadata": {},
   "source": [
    " Operating Systems Analysis:\n",
    "\n",
    "* Cluster 0 : max_count= 3145 >> OS = 2.0 ; least_count = 1 >> OS = 7.0\n",
    "* Cluster 1 : max_count = 697 >> OS = 2.0 ; least_count = 0 >> OS = 5.0 && 7.0\n",
    "* Cluster 2 : max_count = 687 >> OS = 2.0 ; least_count = 1 >> OS = 5.0 && 7.0\n",
    "* Cluster 3 : max_count = 221 >> OS = 2.0 ; least_count = 0 >> OS = 5.0 and 7.0\n",
    "\n",
    "Overall, Max number of users seem to be using the OS classified in 2.0 while using this platform and OS 7.0 seem to have less users. \n",
    "This could mean a version upgrade is required."
   ]
  },
  {
   "cell_type": "code",
   "execution_count": 25,
   "id": "bace896f-5221-4aa5-bd33-801568f21916",
   "metadata": {},
   "outputs": [
    {
     "data": {
      "text/html": [
       "<div>\n",
       "<style scoped>\n",
       "    .dataframe tbody tr th:only-of-type {\n",
       "        vertical-align: middle;\n",
       "    }\n",
       "\n",
       "    .dataframe tbody tr th {\n",
       "        vertical-align: top;\n",
       "    }\n",
       "\n",
       "    .dataframe thead th {\n",
       "        text-align: right;\n",
       "    }\n",
       "</style>\n",
       "<table border=\"1\" class=\"dataframe\">\n",
       "  <thead>\n",
       "    <tr style=\"text-align: right;\">\n",
       "      <th>Browser</th>\n",
       "      <th>1.0</th>\n",
       "      <th>2.0</th>\n",
       "      <th>3.0</th>\n",
       "      <th>4.0</th>\n",
       "      <th>5.0</th>\n",
       "      <th>6.0</th>\n",
       "      <th>7.0</th>\n",
       "      <th>8.0</th>\n",
       "      <th>10.0</th>\n",
       "      <th>11.0</th>\n",
       "      <th>12.0</th>\n",
       "      <th>13.0</th>\n",
       "    </tr>\n",
       "    <tr>\n",
       "      <th>Aggl_Cluster</th>\n",
       "      <th></th>\n",
       "      <th></th>\n",
       "      <th></th>\n",
       "      <th></th>\n",
       "      <th></th>\n",
       "      <th></th>\n",
       "      <th></th>\n",
       "      <th></th>\n",
       "      <th></th>\n",
       "      <th></th>\n",
       "      <th></th>\n",
       "      <th></th>\n",
       "    </tr>\n",
       "  </thead>\n",
       "  <tbody>\n",
       "    <tr>\n",
       "      <th>0</th>\n",
       "      <td>964</td>\n",
       "      <td>3613</td>\n",
       "      <td>30</td>\n",
       "      <td>361</td>\n",
       "      <td>217</td>\n",
       "      <td>98</td>\n",
       "      <td>19</td>\n",
       "      <td>41</td>\n",
       "      <td>69</td>\n",
       "      <td>4</td>\n",
       "      <td>4</td>\n",
       "      <td>41</td>\n",
       "    </tr>\n",
       "    <tr>\n",
       "      <th>1</th>\n",
       "      <td>278</td>\n",
       "      <td>782</td>\n",
       "      <td>15</td>\n",
       "      <td>95</td>\n",
       "      <td>48</td>\n",
       "      <td>10</td>\n",
       "      <td>5</td>\n",
       "      <td>20</td>\n",
       "      <td>16</td>\n",
       "      <td>0</td>\n",
       "      <td>1</td>\n",
       "      <td>1</td>\n",
       "    </tr>\n",
       "    <tr>\n",
       "      <th>2</th>\n",
       "      <td>400</td>\n",
       "      <td>1011</td>\n",
       "      <td>18</td>\n",
       "      <td>60</td>\n",
       "      <td>57</td>\n",
       "      <td>19</td>\n",
       "      <td>8</td>\n",
       "      <td>26</td>\n",
       "      <td>23</td>\n",
       "      <td>1</td>\n",
       "      <td>0</td>\n",
       "      <td>0</td>\n",
       "    </tr>\n",
       "    <tr>\n",
       "      <th>3</th>\n",
       "      <td>137</td>\n",
       "      <td>337</td>\n",
       "      <td>10</td>\n",
       "      <td>24</td>\n",
       "      <td>19</td>\n",
       "      <td>7</td>\n",
       "      <td>4</td>\n",
       "      <td>10</td>\n",
       "      <td>4</td>\n",
       "      <td>0</td>\n",
       "      <td>0</td>\n",
       "      <td>2</td>\n",
       "    </tr>\n",
       "  </tbody>\n",
       "</table>\n",
       "</div>"
      ],
      "text/plain": [
       "Browser       1.0   2.0   3.0   4.0   5.0   6.0   7.0   8.0   10.0  11.0  \\\n",
       "Aggl_Cluster                                                               \n",
       "0              964  3613    30   361   217    98    19    41    69     4   \n",
       "1              278   782    15    95    48    10     5    20    16     0   \n",
       "2              400  1011    18    60    57    19     8    26    23     1   \n",
       "3              137   337    10    24    19     7     4    10     4     0   \n",
       "\n",
       "Browser       12.0  13.0  \n",
       "Aggl_Cluster              \n",
       "0                4    41  \n",
       "1                1     1  \n",
       "2                0     0  \n",
       "3                0     2  "
      ]
     },
     "execution_count": 25,
     "metadata": {},
     "output_type": "execute_result"
    }
   ],
   "source": [
    "# Column Name : Browser \n",
    "pd.crosstab(df_X_data_inversed['Aggl_Cluster'], df_X_data_inversed['Browser'])"
   ]
  },
  {
   "cell_type": "markdown",
   "id": "784454af-f3f5-4916-8296-17f15bdac0d9",
   "metadata": {},
   "source": [
    "Browser Analysis:\n",
    "\n",
    "* Cluster 0 : max_count= 3613 >> Browser = 2.0 ; least_count = 4 >> Browser = 11.0 & 12.0\n",
    "* Cluster 1 : max_count = 782 >> Browser = 2.0 ; least_count = 0 >> Browser = 11.0\n",
    "* Cluster 2 : max_count = 1011 >> Browser = 2.0 ; least_count = 0 >> Browser = 12.0 & 13.0\n",
    "* Cluster 3 : max_count = 337 >> Browser = 2.0 ; least_count = 0 >> Browser = 11.0 & 12.0\n",
    "\n",
    "Overall, Max number of users seem to be using the Browser classified in 2.0 while using this platform and Browser 11.0 & 12.0 & 13.0 seem to have less users. This could mean a version upgrade is required!"
   ]
  },
  {
   "cell_type": "code",
   "execution_count": 26,
   "id": "a855fefc-d442-46b5-8d8c-238146fe5529",
   "metadata": {},
   "outputs": [
    {
     "data": {
      "text/html": [
       "<div>\n",
       "<style scoped>\n",
       "    .dataframe tbody tr th:only-of-type {\n",
       "        vertical-align: middle;\n",
       "    }\n",
       "\n",
       "    .dataframe tbody tr th {\n",
       "        vertical-align: top;\n",
       "    }\n",
       "\n",
       "    .dataframe thead th {\n",
       "        text-align: right;\n",
       "    }\n",
       "</style>\n",
       "<table border=\"1\" class=\"dataframe\">\n",
       "  <thead>\n",
       "    <tr style=\"text-align: right;\">\n",
       "      <th>Region</th>\n",
       "      <th>1.0</th>\n",
       "      <th>2.0</th>\n",
       "      <th>3.0</th>\n",
       "      <th>4.0</th>\n",
       "      <th>5.0</th>\n",
       "      <th>6.0</th>\n",
       "      <th>7.0</th>\n",
       "      <th>8.0</th>\n",
       "      <th>9.0</th>\n",
       "    </tr>\n",
       "    <tr>\n",
       "      <th>Aggl_Cluster</th>\n",
       "      <th></th>\n",
       "      <th></th>\n",
       "      <th></th>\n",
       "      <th></th>\n",
       "      <th></th>\n",
       "      <th></th>\n",
       "      <th></th>\n",
       "      <th></th>\n",
       "      <th></th>\n",
       "    </tr>\n",
       "  </thead>\n",
       "  <tbody>\n",
       "    <tr>\n",
       "      <th>0</th>\n",
       "      <td>2179</td>\n",
       "      <td>512</td>\n",
       "      <td>1060</td>\n",
       "      <td>495</td>\n",
       "      <td>136</td>\n",
       "      <td>334</td>\n",
       "      <td>335</td>\n",
       "      <td>189</td>\n",
       "      <td>221</td>\n",
       "    </tr>\n",
       "    <tr>\n",
       "      <th>1</th>\n",
       "      <td>484</td>\n",
       "      <td>115</td>\n",
       "      <td>229</td>\n",
       "      <td>104</td>\n",
       "      <td>32</td>\n",
       "      <td>98</td>\n",
       "      <td>72</td>\n",
       "      <td>57</td>\n",
       "      <td>80</td>\n",
       "    </tr>\n",
       "    <tr>\n",
       "      <th>2</th>\n",
       "      <td>608</td>\n",
       "      <td>161</td>\n",
       "      <td>332</td>\n",
       "      <td>178</td>\n",
       "      <td>39</td>\n",
       "      <td>103</td>\n",
       "      <td>94</td>\n",
       "      <td>53</td>\n",
       "      <td>55</td>\n",
       "    </tr>\n",
       "    <tr>\n",
       "      <th>3</th>\n",
       "      <td>194</td>\n",
       "      <td>51</td>\n",
       "      <td>109</td>\n",
       "      <td>61</td>\n",
       "      <td>11</td>\n",
       "      <td>43</td>\n",
       "      <td>42</td>\n",
       "      <td>17</td>\n",
       "      <td>26</td>\n",
       "    </tr>\n",
       "  </tbody>\n",
       "</table>\n",
       "</div>"
      ],
      "text/plain": [
       "Region         1.0  2.0   3.0  4.0  5.0  6.0  7.0  8.0  9.0\n",
       "Aggl_Cluster                                               \n",
       "0             2179  512  1060  495  136  334  335  189  221\n",
       "1              484  115   229  104   32   98   72   57   80\n",
       "2              608  161   332  178   39  103   94   53   55\n",
       "3              194   51   109   61   11   43   42   17   26"
      ]
     },
     "execution_count": 26,
     "metadata": {},
     "output_type": "execute_result"
    }
   ],
   "source": [
    "# Column Name : Region \n",
    "pd.crosstab(df_X_data_inversed['Aggl_Cluster'], df_X_data_inversed['Region'])"
   ]
  },
  {
   "cell_type": "markdown",
   "id": "28894e2a-72bf-4d77-9f17-ac55708c5f4e",
   "metadata": {},
   "source": [
    "Region Analysis:\n",
    "\n",
    "* Cluster 0 : max_count= 2179 >> Region = 1.0 ; least_count = 136 >> Region = 5.0\n",
    "* Cluster 1 : max_count = 484 >> Region = 1.0 ; least_count = 32 >> Region = 5.0\n",
    "* Cluster 2 : max_count = 608 >> Region = 1.0 ; least_count = 39 >> Region = 5.0\n",
    "* Cluster 3 : max_count = 194 >> Region = 1.0 ; least_count = 11 >> Region = 5.0\n",
    "\n",
    "Overall, Max number of users seem to be in the Region classified in 1.0  and users in 5.0 seem to have less users."
   ]
  },
  {
   "cell_type": "code",
   "execution_count": 27,
   "id": "c77ccc00-f595-4de3-adf7-a4d7b4a9edd4",
   "metadata": {},
   "outputs": [
    {
     "data": {
      "text/html": [
       "<div>\n",
       "<style scoped>\n",
       "    .dataframe tbody tr th:only-of-type {\n",
       "        vertical-align: middle;\n",
       "    }\n",
       "\n",
       "    .dataframe tbody tr th {\n",
       "        vertical-align: top;\n",
       "    }\n",
       "\n",
       "    .dataframe thead th {\n",
       "        text-align: right;\n",
       "    }\n",
       "</style>\n",
       "<table border=\"1\" class=\"dataframe\">\n",
       "  <thead>\n",
       "    <tr style=\"text-align: right;\">\n",
       "      <th>TrafficType</th>\n",
       "      <th>1.0</th>\n",
       "      <th>2.0</th>\n",
       "      <th>3.0</th>\n",
       "      <th>4.0</th>\n",
       "      <th>5.0</th>\n",
       "      <th>6.0</th>\n",
       "      <th>7.0</th>\n",
       "      <th>8.0</th>\n",
       "      <th>9.0</th>\n",
       "      <th>10.0</th>\n",
       "      <th>11.0</th>\n",
       "      <th>13.0</th>\n",
       "      <th>14.0</th>\n",
       "      <th>15.0</th>\n",
       "      <th>16.0</th>\n",
       "      <th>17.0</th>\n",
       "      <th>18.0</th>\n",
       "      <th>19.0</th>\n",
       "      <th>20.0</th>\n",
       "    </tr>\n",
       "    <tr>\n",
       "      <th>Aggl_Cluster</th>\n",
       "      <th></th>\n",
       "      <th></th>\n",
       "      <th></th>\n",
       "      <th></th>\n",
       "      <th></th>\n",
       "      <th></th>\n",
       "      <th></th>\n",
       "      <th></th>\n",
       "      <th></th>\n",
       "      <th></th>\n",
       "      <th></th>\n",
       "      <th></th>\n",
       "      <th></th>\n",
       "      <th></th>\n",
       "      <th></th>\n",
       "      <th></th>\n",
       "      <th></th>\n",
       "      <th></th>\n",
       "      <th></th>\n",
       "    </tr>\n",
       "  </thead>\n",
       "  <tbody>\n",
       "    <tr>\n",
       "      <th>0</th>\n",
       "      <td>1222</td>\n",
       "      <td>1527</td>\n",
       "      <td>1033</td>\n",
       "      <td>487</td>\n",
       "      <td>63</td>\n",
       "      <td>203</td>\n",
       "      <td>15</td>\n",
       "      <td>82</td>\n",
       "      <td>2</td>\n",
       "      <td>231</td>\n",
       "      <td>74</td>\n",
       "      <td>388</td>\n",
       "      <td>5</td>\n",
       "      <td>9</td>\n",
       "      <td>0</td>\n",
       "      <td>0</td>\n",
       "      <td>4</td>\n",
       "      <td>9</td>\n",
       "      <td>107</td>\n",
       "    </tr>\n",
       "    <tr>\n",
       "      <th>1</th>\n",
       "      <td>33</td>\n",
       "      <td>683</td>\n",
       "      <td>103</td>\n",
       "      <td>77</td>\n",
       "      <td>107</td>\n",
       "      <td>40</td>\n",
       "      <td>5</td>\n",
       "      <td>134</td>\n",
       "      <td>6</td>\n",
       "      <td>19</td>\n",
       "      <td>43</td>\n",
       "      <td>4</td>\n",
       "      <td>0</td>\n",
       "      <td>1</td>\n",
       "      <td>1</td>\n",
       "      <td>0</td>\n",
       "      <td>1</td>\n",
       "      <td>0</td>\n",
       "      <td>14</td>\n",
       "    </tr>\n",
       "    <tr>\n",
       "      <th>2</th>\n",
       "      <td>349</td>\n",
       "      <td>516</td>\n",
       "      <td>232</td>\n",
       "      <td>163</td>\n",
       "      <td>18</td>\n",
       "      <td>56</td>\n",
       "      <td>10</td>\n",
       "      <td>31</td>\n",
       "      <td>20</td>\n",
       "      <td>70</td>\n",
       "      <td>59</td>\n",
       "      <td>63</td>\n",
       "      <td>1</td>\n",
       "      <td>13</td>\n",
       "      <td>0</td>\n",
       "      <td>1</td>\n",
       "      <td>2</td>\n",
       "      <td>1</td>\n",
       "      <td>18</td>\n",
       "    </tr>\n",
       "    <tr>\n",
       "      <th>3</th>\n",
       "      <td>174</td>\n",
       "      <td>48</td>\n",
       "      <td>149</td>\n",
       "      <td>29</td>\n",
       "      <td>4</td>\n",
       "      <td>15</td>\n",
       "      <td>0</td>\n",
       "      <td>3</td>\n",
       "      <td>3</td>\n",
       "      <td>18</td>\n",
       "      <td>15</td>\n",
       "      <td>79</td>\n",
       "      <td>0</td>\n",
       "      <td>6</td>\n",
       "      <td>0</td>\n",
       "      <td>0</td>\n",
       "      <td>1</td>\n",
       "      <td>1</td>\n",
       "      <td>9</td>\n",
       "    </tr>\n",
       "  </tbody>\n",
       "</table>\n",
       "</div>"
      ],
      "text/plain": [
       "TrafficType   1.0   2.0   3.0   4.0   5.0   6.0   7.0   8.0   9.0   10.0  \\\n",
       "Aggl_Cluster                                                               \n",
       "0             1222  1527  1033   487    63   203    15    82     2   231   \n",
       "1               33   683   103    77   107    40     5   134     6    19   \n",
       "2              349   516   232   163    18    56    10    31    20    70   \n",
       "3              174    48   149    29     4    15     0     3     3    18   \n",
       "\n",
       "TrafficType   11.0  13.0  14.0  15.0  16.0  17.0  18.0  19.0  20.0  \n",
       "Aggl_Cluster                                                        \n",
       "0               74   388     5     9     0     0     4     9   107  \n",
       "1               43     4     0     1     1     0     1     0    14  \n",
       "2               59    63     1    13     0     1     2     1    18  \n",
       "3               15    79     0     6     0     0     1     1     9  "
      ]
     },
     "execution_count": 27,
     "metadata": {},
     "output_type": "execute_result"
    }
   ],
   "source": [
    "# Column Name : Traffic Type  \n",
    "pd.crosstab(df_X_data_inversed['Aggl_Cluster'], df_X_data_inversed['TrafficType'])"
   ]
  },
  {
   "cell_type": "markdown",
   "id": "cd3cc987-6641-41f0-8042-8b4ae6972b57",
   "metadata": {},
   "source": [
    "Traffic Type Analysis:\n",
    "\n",
    "* Cluster 0 : max_count = 1527 >> Traffic_Type = 2.0 ; least_count = 0 >> Traffic_Type = 17.0 & 16.0\n",
    "* Cluster 1 : max_count =  683 >> Traffic_Type = 2.0 ; least_count = 0 >> Traffic_Type = 17.0 & 14.0\n",
    "* Cluster 2 : max_count =  516 >> Traffic_Type = 2.0 ; least_count = 0 >> Traffic_Type = 16.0\n",
    "* Cluster 3 : max_count =  174 >> Traffic_Type = 1.0 ; least_count = 0 >> Traffic_Type = 7.0 & 14.0 & 16.0 & 17.0\n",
    "\n",
    "Overall, most frequency of Traffic type seem to be classified in 2.0. "
   ]
  },
  {
   "cell_type": "code",
   "execution_count": 30,
   "id": "6f9f93db-7495-4c22-b8bd-5b51b70998db",
   "metadata": {},
   "outputs": [
    {
     "name": "stdout",
     "output_type": "stream",
     "text": [
      "Aggl_Cluster\n",
      "3     554\n",
      "1    1271\n",
      "2    1623\n",
      "0    5461\n",
      "Name: VisitorType_Other, dtype: int64\n"
     ]
    }
   ],
   "source": [
    "# Column Name : VisitorType\n",
    "\n",
    "other_Frq_count = df_X_data_inversed.groupby('Aggl_Cluster')['VisitorType_Other'].count().sort_values()\n",
    "print(other_Frq_count)"
   ]
  },
  {
   "cell_type": "markdown",
   "id": "343b3354-4aa8-4503-8e55-7686fea73d21",
   "metadata": {},
   "source": [
    "* Cluster 0 has most no of visitor type = OTHER.\n",
    "* Cluster 3 has least no of visitor type = OTHER."
   ]
  },
  {
   "cell_type": "code",
   "execution_count": 29,
   "id": "97edf2a4-d0c2-4fe8-9072-2383ce9dd941",
   "metadata": {},
   "outputs": [
    {
     "name": "stdout",
     "output_type": "stream",
     "text": [
      "Aggl_Cluster\n",
      "3     554\n",
      "1    1271\n",
      "2    1623\n",
      "0    5461\n",
      "Name: VisitorType_Other, dtype: int64\n"
     ]
    }
   ],
   "source": [
    "# Column Name : VisitorType\n",
    "\n",
    "new_Frq_count = df_X_data_inversed.groupby('Aggl_Cluster')['VisitorType_New_Visitor'].count().sort_values()\n",
    "print(Visttype_Frq_count)"
   ]
  },
  {
   "cell_type": "markdown",
   "id": "9e274639-6994-4229-872c-296f658f4ea7",
   "metadata": {},
   "source": [
    "* Cluster 0 has most no of visitor type = NEW.\n",
    "* Cluster 3 has least no of visitor type = NEW."
   ]
  },
  {
   "cell_type": "code",
   "execution_count": 31,
   "id": "2a6e7802-33c1-42c3-8dff-439cfcd7d985",
   "metadata": {},
   "outputs": [
    {
     "name": "stdout",
     "output_type": "stream",
     "text": [
      "Aggl_Cluster\n",
      "3     554\n",
      "1    1271\n",
      "2    1623\n",
      "0    5461\n",
      "Name: VisitorType_Returning_Visitor, dtype: int64\n"
     ]
    }
   ],
   "source": [
    "# Column Name : VisitorType\n",
    "\n",
    "return_Frq_count = df_X_data_inversed.groupby('Aggl_Cluster')['VisitorType_Returning_Visitor'].count().sort_values()\n",
    "print(return_Frq_count)"
   ]
  },
  {
   "cell_type": "markdown",
   "id": "9bc06aa7-d822-4326-beb2-7f8243de9184",
   "metadata": {},
   "source": [
    "* Cluster 0 has most no of visitor type = RETURNING VISITOR.\n",
    "* Cluster 3 has least no of visitor type = RETURNING VISITOR."
   ]
  },
  {
   "cell_type": "code",
   "execution_count": 32,
   "id": "187514ac-d2a8-43b8-98ab-d61c52b74ab7",
   "metadata": {},
   "outputs": [],
   "source": [
    "# Column Name : VisitorType   \n",
    "\n",
    "# Mapping dictionary:\n",
    "# Returning_Visitor: 0 \n",
    "# New_Visitor: 1 \n",
    "# Other: 2\n",
    "\n",
    "#pd.crosstab(df_X_data_inversed['Aggl_Cluster'], df_X_data_inversed['VisitorType'])"
   ]
  },
  {
   "cell_type": "code",
   "execution_count": 33,
   "id": "24a5870d-4f86-4259-8f75-932c41117e8b",
   "metadata": {},
   "outputs": [
    {
     "data": {
      "text/html": [
       "<div>\n",
       "<style scoped>\n",
       "    .dataframe tbody tr th:only-of-type {\n",
       "        vertical-align: middle;\n",
       "    }\n",
       "\n",
       "    .dataframe tbody tr th {\n",
       "        vertical-align: top;\n",
       "    }\n",
       "\n",
       "    .dataframe thead th {\n",
       "        text-align: right;\n",
       "    }\n",
       "</style>\n",
       "<table border=\"1\" class=\"dataframe\">\n",
       "  <thead>\n",
       "    <tr style=\"text-align: right;\">\n",
       "      <th>Month</th>\n",
       "      <th>0.0</th>\n",
       "      <th>1.0</th>\n",
       "      <th>2.0</th>\n",
       "      <th>3.0</th>\n",
       "      <th>4.0</th>\n",
       "      <th>5.0</th>\n",
       "      <th>6.0</th>\n",
       "      <th>7.0</th>\n",
       "      <th>8.0</th>\n",
       "      <th>9.0</th>\n",
       "    </tr>\n",
       "    <tr>\n",
       "      <th>Aggl_Cluster</th>\n",
       "      <th></th>\n",
       "      <th></th>\n",
       "      <th></th>\n",
       "      <th></th>\n",
       "      <th></th>\n",
       "      <th></th>\n",
       "      <th></th>\n",
       "      <th></th>\n",
       "      <th></th>\n",
       "      <th></th>\n",
       "    </tr>\n",
       "  </thead>\n",
       "  <tbody>\n",
       "    <tr>\n",
       "      <th>0</th>\n",
       "      <td>95</td>\n",
       "      <td>838</td>\n",
       "      <td>1598</td>\n",
       "      <td>134</td>\n",
       "      <td>194</td>\n",
       "      <td>207</td>\n",
       "      <td>191</td>\n",
       "      <td>214</td>\n",
       "      <td>1246</td>\n",
       "      <td>744</td>\n",
       "    </tr>\n",
       "    <tr>\n",
       "      <th>1</th>\n",
       "      <td>1</td>\n",
       "      <td>165</td>\n",
       "      <td>241</td>\n",
       "      <td>21</td>\n",
       "      <td>37</td>\n",
       "      <td>56</td>\n",
       "      <td>77</td>\n",
       "      <td>87</td>\n",
       "      <td>322</td>\n",
       "      <td>264</td>\n",
       "    </tr>\n",
       "    <tr>\n",
       "      <th>2</th>\n",
       "      <td>12</td>\n",
       "      <td>269</td>\n",
       "      <td>413</td>\n",
       "      <td>30</td>\n",
       "      <td>59</td>\n",
       "      <td>49</td>\n",
       "      <td>49</td>\n",
       "      <td>81</td>\n",
       "      <td>467</td>\n",
       "      <td>194</td>\n",
       "    </tr>\n",
       "    <tr>\n",
       "      <th>3</th>\n",
       "      <td>29</td>\n",
       "      <td>106</td>\n",
       "      <td>172</td>\n",
       "      <td>23</td>\n",
       "      <td>23</td>\n",
       "      <td>15</td>\n",
       "      <td>6</td>\n",
       "      <td>6</td>\n",
       "      <td>99</td>\n",
       "      <td>75</td>\n",
       "    </tr>\n",
       "  </tbody>\n",
       "</table>\n",
       "</div>"
      ],
      "text/plain": [
       "Month         0.0  1.0   2.0  3.0  4.0  5.0  6.0  7.0   8.0  9.0\n",
       "Aggl_Cluster                                                    \n",
       "0              95  838  1598  134  194  207  191  214  1246  744\n",
       "1               1  165   241   21   37   56   77   87   322  264\n",
       "2              12  269   413   30   59   49   49   81   467  194\n",
       "3              29  106   172   23   23   15    6    6    99   75"
      ]
     },
     "execution_count": 33,
     "metadata": {},
     "output_type": "execute_result"
    }
   ],
   "source": [
    "# Column Name : Month \n",
    "\n",
    "# Mapping dictionary:\n",
    "# Feb: 0, Mar: 1, May: 2, June: 3, Jul: 4 \n",
    "# Aug: 5, Sep: 6, Oct: 7, Nov: 8, Dec: 9\n",
    "\n",
    "pd.crosstab(df_X_data_inversed['Aggl_Cluster'], df_X_data_inversed['Month'])"
   ]
  },
  {
   "cell_type": "markdown",
   "id": "2a0ae130-00c0-479b-ab03-cd6004ea0c34",
   "metadata": {},
   "source": [
    "Month Analysis:\n",
    "\n",
    "* Cluster 0 : max_count = 1598 >> Month = 2.0 ; least_count = 95 >> Month = 0.0\n",
    "* Cluster 1 : max_count =  322 >> Month = 8.0 ; least_count = 1 >> Month = 0.0\n",
    "* Cluster 2 : max_count =  467 >> Month = 8.0 ; least_count =  12 >> Month = 0.0\n",
    "* Cluster 3 : max_count = 172 >> Month = 2.0 ; least_count =  6 >> Month = 6.0 & 7.0 \n",
    "\n",
    "Overall, most frequency of Months impacting the revenue seem to be classified among 2.0 and 8.0. i.e., May and November Months"
   ]
  },
  {
   "cell_type": "code",
   "execution_count": 34,
   "id": "19f256a4-1ae5-4029-ace7-07573494760a",
   "metadata": {},
   "outputs": [
    {
     "name": "stdout",
     "output_type": "stream",
     "text": [
      "Aggl_Cluster\n",
      "1    0.006781\n",
      "2    0.009712\n",
      "0    0.012750\n",
      "3    0.186913\n",
      "Name: BounceRates, dtype: float64\n"
     ]
    }
   ],
   "source": [
    "# Column Name : Bounce Rates\n",
    "\n",
    "Bounce_Duration_Average = df_X_data_inversed.groupby('Aggl_Cluster')['BounceRates'].mean().sort_values()\n",
    "print(Bounce_Duration_Average)"
   ]
  },
  {
   "cell_type": "markdown",
   "id": "5e4553cf-a8ca-4153-8072-3ef14ab3cb70",
   "metadata": {},
   "source": [
    "Bouncing Rates Analysis in my e-commerce platform:\n",
    "\n",
    "* Cluster 3 has the most users who bounce away form the pages and leave the website for reasons varied based of the user preferance.\n",
    "* Cluster 1 has the least users who bounce away from the pages."
   ]
  },
  {
   "cell_type": "code",
   "execution_count": 35,
   "id": "11d2e87b-2c84-4288-bfc8-828d1913c682",
   "metadata": {},
   "outputs": [
    {
     "name": "stdout",
     "output_type": "stream",
     "text": [
      "Aggl_Cluster\n",
      "1    0.022656\n",
      "2    0.031101\n",
      "0    0.036663\n",
      "3    0.190986\n",
      "Name: ExitRates, dtype: float64\n"
     ]
    }
   ],
   "source": [
    "# Column Name : Exit Rates\n",
    "\n",
    "Exit_Duration_Average = df_X_data_inversed.groupby('Aggl_Cluster')['ExitRates'].mean().sort_values()\n",
    "print(Exit_Duration_Average)"
   ]
  },
  {
   "cell_type": "markdown",
   "id": "203502ab-71f1-4aac-9ada-0c47075f79c7",
   "metadata": {},
   "source": [
    "Exit Rates Analysis in my e-commerce platform:\n",
    "\n",
    "* Cluster 3 has the most users who leave the website\n",
    "* Cluster 1 has the least users who leave the website"
   ]
  },
  {
   "cell_type": "code",
   "execution_count": 37,
   "id": "ff240e4f-419d-4d2f-a095-59f3d1547020",
   "metadata": {},
   "outputs": [
    {
     "name": "stdout",
     "output_type": "stream",
     "text": [
      "Aggl_Cluster\n",
      "3     0.000000\n",
      "0     5.226609\n",
      "2     6.023209\n",
      "1    10.169407\n",
      "Name: PageValues, dtype: float64\n"
     ]
    }
   ],
   "source": [
    "# Column Name : Page Value\n",
    "\n",
    "PageValues_Duration_Average = df_X_data_inversed.groupby('Aggl_Cluster')['PageValues'].mean().sort_values()\n",
    "print(PageValues_Duration_Average)"
   ]
  },
  {
   "cell_type": "markdown",
   "id": "a2e2448e-f095-42cb-bcf0-572b844704ac",
   "metadata": {},
   "source": [
    "Page value analysis - Page value tells which page is contributing to the most revenue.\n",
    "\n",
    "* Cluster 1 has the highest page value.\n",
    "* Cluster 3 has the least page value."
   ]
  },
  {
   "cell_type": "markdown",
   "id": "1a0825fe-d2ac-4a60-bfc8-17097947628d",
   "metadata": {},
   "source": [
    "---"
   ]
  },
  {
   "cell_type": "code",
   "execution_count": 38,
   "id": "44d51d59-fb0b-40a5-9015-410d343150dd",
   "metadata": {},
   "outputs": [],
   "source": [
    "#########################################################################################################"
   ]
  },
  {
   "cell_type": "code",
   "execution_count": null,
   "id": "3bc4e948-9c51-44d8-b8ca-e092e3e402e4",
   "metadata": {},
   "outputs": [],
   "source": [
    "## Cluster type2 - Partitioning Clustering using Kmeans Clustering :\n",
    "\n",
    "from sklearn.cluster import KMeans\n",
    "#from sklearn.metrics import silhouette_score"
   ]
  },
  {
   "cell_type": "code",
   "execution_count": 39,
   "id": "81fab855-ad11-42c3-969b-dfe5cf765668",
   "metadata": {},
   "outputs": [
    {
     "name": "stdout",
     "output_type": "stream",
     "text": [
      "[0 0 2 ... 2 2 1]\n",
      "[[ 6.63603042e-02  2.37469830e-02  1.59896603e-02  1.12402736e-02\n",
      "   3.66028683e-02  2.22731391e-02  1.48343000e-01  2.67935910e-01\n",
      "   1.01491033e-02  1.20118168e-01  2.27835221e-01  1.59442920e-01\n",
      "   1.14106352e-01  2.61521418e-01  1.57163959e-01  2.08166817e-15\n",
      "  -9.99200722e-16  3.38271078e-17  1.00000000e+00]\n",
      " [ 9.88159404e-02  3.50871070e-02  2.23431716e-02  1.63618280e-02\n",
      "   5.16209259e-02  3.22482017e-02  8.53935112e-02  1.81280691e-01\n",
      "   2.10354388e-02  6.19520748e-03  8.29144750e-01  1.62645070e-01\n",
      "   1.18230080e-01  2.72172706e-01  1.73321234e-01  1.72084569e-15\n",
      "   2.64465225e-01  1.49035652e-02  7.20631210e-01]\n",
      " [ 9.29802305e-02  3.28963553e-02  2.47581668e-02  1.78716663e-02\n",
      "   4.72828984e-02  2.88016050e-02  9.20214555e-02  1.89906251e-01\n",
      "   1.67987998e-02  5.19505233e-02  5.53916905e-01  1.62294413e-01\n",
      "   1.02640343e-01  2.71646051e-01  1.56142020e-01  1.00000000e+00\n",
      "   1.65556613e-01  1.90294957e-03  8.32540438e-01]]\n"
     ]
    }
   ],
   "source": [
    "#Now, with my optimal no. of cluster value:\n",
    "\n",
    "kmeansClust_Model = KMeans(n_clusters = 3,  random_state = 42, n_init= 'auto')\n",
    "# Train the clustering model on the feature set\n",
    "kmeansClust_Model.fit(X_data_scaled)\n",
    "# labels_ : Labels of each data point\n",
    "print(kmeansClust_Model.labels_)\n",
    "# Coordinates of cluster centers. \n",
    "print(kmeansClust_Model.cluster_centers_)"
   ]
  },
  {
   "cell_type": "code",
   "execution_count": 40,
   "id": "0366c3d1-c85a-4345-b162-bc7c71e182d9",
   "metadata": {},
   "outputs": [
    {
     "data": {
      "text/html": [
       "<div>\n",
       "<style scoped>\n",
       "    .dataframe tbody tr th:only-of-type {\n",
       "        vertical-align: middle;\n",
       "    }\n",
       "\n",
       "    .dataframe tbody tr th {\n",
       "        vertical-align: top;\n",
       "    }\n",
       "\n",
       "    .dataframe thead th {\n",
       "        text-align: right;\n",
       "    }\n",
       "</style>\n",
       "<table border=\"1\" class=\"dataframe\">\n",
       "  <thead>\n",
       "    <tr style=\"text-align: right;\">\n",
       "      <th></th>\n",
       "      <th>Administrative</th>\n",
       "      <th>Administrative_Duration</th>\n",
       "      <th>Informational</th>\n",
       "      <th>Informational_Duration</th>\n",
       "      <th>ProductRelated</th>\n",
       "      <th>ProductRelated_Duration</th>\n",
       "      <th>BounceRates</th>\n",
       "      <th>ExitRates</th>\n",
       "      <th>PageValues</th>\n",
       "      <th>SpecialDay</th>\n",
       "      <th>Month</th>\n",
       "      <th>OperatingSystems</th>\n",
       "      <th>Browser</th>\n",
       "      <th>Region</th>\n",
       "      <th>TrafficType</th>\n",
       "      <th>Weekend</th>\n",
       "      <th>VisitorType_New_Visitor</th>\n",
       "      <th>VisitorType_Other</th>\n",
       "      <th>VisitorType_Returning_Visitor</th>\n",
       "      <th>kmeans_Cluster</th>\n",
       "    </tr>\n",
       "  </thead>\n",
       "  <tbody>\n",
       "    <tr>\n",
       "      <th>0</th>\n",
       "      <td>0.0</td>\n",
       "      <td>0.0</td>\n",
       "      <td>0.0</td>\n",
       "      <td>0.0</td>\n",
       "      <td>2.0</td>\n",
       "      <td>64.000000</td>\n",
       "      <td>0.000000</td>\n",
       "      <td>0.100000</td>\n",
       "      <td>0.0</td>\n",
       "      <td>0.0</td>\n",
       "      <td>0.0</td>\n",
       "      <td>2.0</td>\n",
       "      <td>2.0</td>\n",
       "      <td>1.0</td>\n",
       "      <td>2.0</td>\n",
       "      <td>0.0</td>\n",
       "      <td>0.0</td>\n",
       "      <td>0.0</td>\n",
       "      <td>1.0</td>\n",
       "      <td>0</td>\n",
       "    </tr>\n",
       "    <tr>\n",
       "      <th>1</th>\n",
       "      <td>0.0</td>\n",
       "      <td>0.0</td>\n",
       "      <td>0.0</td>\n",
       "      <td>0.0</td>\n",
       "      <td>2.0</td>\n",
       "      <td>2.666667</td>\n",
       "      <td>0.050000</td>\n",
       "      <td>0.140000</td>\n",
       "      <td>0.0</td>\n",
       "      <td>0.0</td>\n",
       "      <td>0.0</td>\n",
       "      <td>3.0</td>\n",
       "      <td>2.0</td>\n",
       "      <td>2.0</td>\n",
       "      <td>4.0</td>\n",
       "      <td>0.0</td>\n",
       "      <td>0.0</td>\n",
       "      <td>0.0</td>\n",
       "      <td>1.0</td>\n",
       "      <td>0</td>\n",
       "    </tr>\n",
       "    <tr>\n",
       "      <th>2</th>\n",
       "      <td>0.0</td>\n",
       "      <td>0.0</td>\n",
       "      <td>0.0</td>\n",
       "      <td>0.0</td>\n",
       "      <td>10.0</td>\n",
       "      <td>627.500000</td>\n",
       "      <td>0.020000</td>\n",
       "      <td>0.050000</td>\n",
       "      <td>0.0</td>\n",
       "      <td>0.0</td>\n",
       "      <td>0.0</td>\n",
       "      <td>3.0</td>\n",
       "      <td>3.0</td>\n",
       "      <td>1.0</td>\n",
       "      <td>4.0</td>\n",
       "      <td>1.0</td>\n",
       "      <td>0.0</td>\n",
       "      <td>0.0</td>\n",
       "      <td>1.0</td>\n",
       "      <td>2</td>\n",
       "    </tr>\n",
       "    <tr>\n",
       "      <th>3</th>\n",
       "      <td>0.0</td>\n",
       "      <td>0.0</td>\n",
       "      <td>0.0</td>\n",
       "      <td>0.0</td>\n",
       "      <td>19.0</td>\n",
       "      <td>154.216667</td>\n",
       "      <td>0.015789</td>\n",
       "      <td>0.024561</td>\n",
       "      <td>0.0</td>\n",
       "      <td>0.0</td>\n",
       "      <td>0.0</td>\n",
       "      <td>2.0</td>\n",
       "      <td>2.0</td>\n",
       "      <td>1.0</td>\n",
       "      <td>3.0</td>\n",
       "      <td>0.0</td>\n",
       "      <td>0.0</td>\n",
       "      <td>0.0</td>\n",
       "      <td>1.0</td>\n",
       "      <td>0</td>\n",
       "    </tr>\n",
       "    <tr>\n",
       "      <th>4</th>\n",
       "      <td>0.0</td>\n",
       "      <td>0.0</td>\n",
       "      <td>0.0</td>\n",
       "      <td>0.0</td>\n",
       "      <td>1.0</td>\n",
       "      <td>0.000000</td>\n",
       "      <td>0.200000</td>\n",
       "      <td>0.200000</td>\n",
       "      <td>0.0</td>\n",
       "      <td>0.4</td>\n",
       "      <td>0.0</td>\n",
       "      <td>2.0</td>\n",
       "      <td>4.0</td>\n",
       "      <td>3.0</td>\n",
       "      <td>3.0</td>\n",
       "      <td>0.0</td>\n",
       "      <td>0.0</td>\n",
       "      <td>0.0</td>\n",
       "      <td>1.0</td>\n",
       "      <td>0</td>\n",
       "    </tr>\n",
       "  </tbody>\n",
       "</table>\n",
       "</div>"
      ],
      "text/plain": [
       "   Administrative  Administrative_Duration  Informational  \\\n",
       "0             0.0                      0.0            0.0   \n",
       "1             0.0                      0.0            0.0   \n",
       "2             0.0                      0.0            0.0   \n",
       "3             0.0                      0.0            0.0   \n",
       "4             0.0                      0.0            0.0   \n",
       "\n",
       "   Informational_Duration  ProductRelated  ProductRelated_Duration  \\\n",
       "0                     0.0             2.0                64.000000   \n",
       "1                     0.0             2.0                 2.666667   \n",
       "2                     0.0            10.0               627.500000   \n",
       "3                     0.0            19.0               154.216667   \n",
       "4                     0.0             1.0                 0.000000   \n",
       "\n",
       "   BounceRates  ExitRates  PageValues  SpecialDay  Month  OperatingSystems  \\\n",
       "0     0.000000   0.100000         0.0         0.0    0.0               2.0   \n",
       "1     0.050000   0.140000         0.0         0.0    0.0               3.0   \n",
       "2     0.020000   0.050000         0.0         0.0    0.0               3.0   \n",
       "3     0.015789   0.024561         0.0         0.0    0.0               2.0   \n",
       "4     0.200000   0.200000         0.0         0.4    0.0               2.0   \n",
       "\n",
       "   Browser  Region  TrafficType  Weekend  VisitorType_New_Visitor  \\\n",
       "0      2.0     1.0          2.0      0.0                      0.0   \n",
       "1      2.0     2.0          4.0      0.0                      0.0   \n",
       "2      3.0     1.0          4.0      1.0                      0.0   \n",
       "3      2.0     1.0          3.0      0.0                      0.0   \n",
       "4      4.0     3.0          3.0      0.0                      0.0   \n",
       "\n",
       "   VisitorType_Other  VisitorType_Returning_Visitor  kmeans_Cluster  \n",
       "0                0.0                            1.0               0  \n",
       "1                0.0                            1.0               0  \n",
       "2                0.0                            1.0               2  \n",
       "3                0.0                            1.0               0  \n",
       "4                0.0                            1.0               0  "
      ]
     },
     "execution_count": 40,
     "metadata": {},
     "output_type": "execute_result"
    }
   ],
   "source": [
    "## dropping the earlier column with Aggl_Clusters \n",
    "df_X_data_inversed.drop('Aggl_Cluster', axis = 1, inplace = True)\n",
    "\n",
    "# Add a new colum t0 our dataset\n",
    "df_X_data_inversed['kmeans_Cluster'] = kmeansClust_Model.labels_\n",
    "df_X_data_inversed.head()"
   ]
  },
  {
   "cell_type": "code",
   "execution_count": 42,
   "id": "223f6d14-5b1b-42e1-9365-97bcd4997770",
   "metadata": {},
   "outputs": [
    {
     "name": "stdout",
     "output_type": "stream",
     "text": [
      "Counter({1: 3422, 0: 3385, 2: 2102})\n"
     ]
    }
   ],
   "source": [
    "# To get a value count we're gonna use collections\n",
    "import collections, numpy\n",
    "\n",
    "# To get the size of each cluster \n",
    "values = collections.Counter(kmeansClust_Model.labels_)\n",
    "print(values)"
   ]
  },
  {
   "cell_type": "code",
   "execution_count": 43,
   "id": "1723015c-e043-447c-a345-a8120b150c56",
   "metadata": {},
   "outputs": [
    {
     "name": "stdout",
     "output_type": "stream",
     "text": [
      "<class 'pandas.core.frame.DataFrame'>\n",
      "RangeIndex: 8909 entries, 0 to 8908\n",
      "Data columns (total 20 columns):\n",
      " #   Column                         Non-Null Count  Dtype  \n",
      "---  ------                         --------------  -----  \n",
      " 0   Administrative                 8909 non-null   float64\n",
      " 1   Administrative_Duration        8909 non-null   float64\n",
      " 2   Informational                  8909 non-null   float64\n",
      " 3   Informational_Duration         8909 non-null   float64\n",
      " 4   ProductRelated                 8909 non-null   float64\n",
      " 5   ProductRelated_Duration        8909 non-null   float64\n",
      " 6   BounceRates                    8909 non-null   float64\n",
      " 7   ExitRates                      8909 non-null   float64\n",
      " 8   PageValues                     8909 non-null   float64\n",
      " 9   SpecialDay                     8909 non-null   float64\n",
      " 10  Month                          8909 non-null   float64\n",
      " 11  OperatingSystems               8909 non-null   float64\n",
      " 12  Browser                        8909 non-null   float64\n",
      " 13  Region                         8909 non-null   float64\n",
      " 14  TrafficType                    8909 non-null   float64\n",
      " 15  Weekend                        8909 non-null   float64\n",
      " 16  VisitorType_New_Visitor        8909 non-null   float64\n",
      " 17  VisitorType_Other              8909 non-null   float64\n",
      " 18  VisitorType_Returning_Visitor  8909 non-null   float64\n",
      " 19  kmeans_Cluster                 8909 non-null   int32  \n",
      "dtypes: float64(19), int32(1)\n",
      "memory usage: 1.3 MB\n"
     ]
    }
   ],
   "source": [
    "df_X_data_inversed.info()  "
   ]
  },
  {
   "cell_type": "markdown",
   "id": "017cdc16-1bf3-435f-b348-18bf2d5a676b",
   "metadata": {},
   "source": [
    "# Analaysing our dataset from Kmeans Clustering"
   ]
  },
  {
   "cell_type": "code",
   "execution_count": null,
   "id": "297a33c1-b566-4f5c-a521-4687f5b461ae",
   "metadata": {},
   "outputs": [],
   "source": [
    "## Websites within the e-comerce platform   \n",
    "\n",
    "#  Administrative Websites :  -- Pages visited\n",
    "Admin_Frq_count = df_X_data_inversed.groupby('kmeans_Cluster')['Administrative'].count().sort_values()\n",
    "print(Admin_Frq_count)\n",
    "\n",
    "#  Administrative Websites :  -- time spent \n",
    "Admin_Duration_Average = df_X_data_inversed.groupby('kmeans_Cluster')['Administrative_Duration'].mean().sort_values()\n",
    "print(Admin_Duration_Average)"
   ]
  },
  {
   "cell_type": "markdown",
   "id": "cb9e6363-3b8f-489e-b199-1e921682f551",
   "metadata": {},
   "source": [
    "Administrative Websites analysis:  - based on the pages visited && Time spent on average\n",
    "  \n",
    "* Cluster 1 has the most pages opened.\n",
    "* Cluster 0 has the least pages opened.\n",
    "\n",
    "* Cluster 1 has users who spend the most amount of time in Admin websites on an average.\n",
    "* Cluster 0 has users who spend least amount of time in Admin websites on an average."
   ]
  },
  {
   "cell_type": "code",
   "execution_count": null,
   "id": "27025906-a380-45bb-8d8e-f3c65121ca09",
   "metadata": {},
   "outputs": [],
   "source": [
    "#  Informative Websites : -- Pages Visted\n",
    "Informational_Frq_count = df_X_data_inversed.groupby('kmeans_Cluster')['Informational'].count().sort_values()\n",
    "print(Informational_Frq_count)\n",
    "\n",
    "#  Informative Websites :  -- time spent \n",
    "Informational_Duration_Average = df_X_data_inversed.groupby('kmeans_Cluster')['Informational_Duration'].mean().sort_values()\n",
    "print(Informational_Duration_Average)"
   ]
  },
  {
   "cell_type": "markdown",
   "id": "54d65e8f-bdbf-433e-bdf3-09f35f4d8fc5",
   "metadata": {},
   "source": [
    "Information Websites analysis:  - based on the pages visited && Time spent on average\n",
    "\n",
    "* Cluster 1 has the most pages opened.\n",
    "* Cluster 0 has the least pages opened.\n",
    "\n",
    "* Cluster 1 has users who spend the most amount of time in Info websites on an average.\n",
    "* Cluster 0 has users who spend least amount of time in Info websites on an average."
   ]
  },
  {
   "cell_type": "code",
   "execution_count": null,
   "id": "09d3d362-5c3b-4373-ae05-937c1e1263d8",
   "metadata": {},
   "outputs": [],
   "source": [
    "# ProductRelated Websites : -- Pages Visted\n",
    "ProductRelated_Frq_count = df_X_data_inversed.groupby('kmeans_Cluster')['ProductRelated'].count().sort_values()\n",
    "print(ProductRelated_Frq_count)\n",
    "\n",
    "# ProductRelated Websites :  -- time spent \n",
    "ProductRelated_Duration_Average = df_X_data_inversed.groupby('kmeans_Cluster')['ProductRelated_Duration'].mean().sort_values()\n",
    "print(ProductRelated_Duration_Average)"
   ]
  },
  {
   "cell_type": "markdown",
   "id": "19a417fe-7ea3-44f3-ae26-b02649a4b7d3",
   "metadata": {},
   "source": [
    "ProductRelated Websites analysis: - based on the pages visited && Time spent on average\r\n",
    "\r\n",
    "Cluste1 0 has the most pages opened.\r\n",
    "\r\n",
    "Clus0er 2 has the least pages opened.\r\n",
    "\r\n",
    "Cl1ster 3 has users who spend the most amount of time in ProductRelated websites on an average.\r\n",
    "\r\n",
    "0luster 2 has users who spend least amount of time in ProductRelated websites on an average."
   ]
  },
  {
   "cell_type": "code",
   "execution_count": null,
   "id": "fc349ccb-1755-4e43-bb0f-ffa344cdce2d",
   "metadata": {},
   "outputs": [],
   "source": [
    "# Column Name : Special Day\n",
    "pd.crosstab(df_X_data_inversed['kmeans_Cluster'], df_X_data_inversed['SpecialDay'])"
   ]
  },
  {
   "cell_type": "markdown",
   "id": "a594a34f-554b-4757-98d3-2b79022ae8df",
   "metadata": {},
   "source": [
    "Special Day Analysis:\n",
    "\n",
    "* Cluster 0 : max_count= 558 >> SpecialDay = 0.0 ; least_count = 8 >> SpecialDay = 1.0\n",
    "* Cluster 1 : max_count = 4157 >> SpecialDay = 0.0 ; least_count = 0 >> SpecialDay = 0.2 & 0.4 & 0.6 & 0.8 & 1.0 \n",
    "* Cluster 2 : max_count = 3298 >> SpecialDay = 0.0 ; least_count = 98 >> SpecialDay = 1.0\n",
    "\n",
    "Overall, Max amount of users who impact the revenue based of Special Days are classified as 0.0. "
   ]
  },
  {
   "cell_type": "code",
   "execution_count": null,
   "id": "127c2c08-adb4-4aed-99ed-bb27ddf949f7",
   "metadata": {},
   "outputs": [],
   "source": [
    "# Column Name : Operating Systems \n",
    "pd.crosstab(df_X_data_inversed['kmeans_Cluster'], df_X_data_inversed['OperatingSystems'])"
   ]
  },
  {
   "cell_type": "markdown",
   "id": "20915bb0-edf9-42c8-a989-333522125396",
   "metadata": {},
   "source": [
    "Operating Systems Analysis:\r\n",
    "\r\n",
    "Cluster 0 : max_count25801 >> OS = 2.0 ; least_count = 0 >> OS 5.0 %% = 7.0\r\n",
    "Cluster 1 : max_count2190868 >> OS2= 2.0 ; least_count1= 0 >> OS7= 8.0\r\n",
    "Cluster 2 : max_coun2302 222 >> OS = 2.0 ; least_coun1 = 0 >> OS = 7.0 && && 8.0 \n",
    " 7.0\r\n",
    "Overall, Max amount of users seem to be using the OS classified in 2.0 while using this platform and nd 8.s0 seem to have lesss user. This could mean a version upgrade is required in the app."
   ]
  },
  {
   "cell_type": "code",
   "execution_count": null,
   "id": "403adf99-28d5-466e-9a86-2e393884ac4a",
   "metadata": {},
   "outputs": [],
   "source": [
    "# Column Name : Browser \n",
    "pd.crosstab(df_X_data_inversed['kmeans_Cluster'], df_X_data_inversed['Browser'])"
   ]
  },
  {
   "cell_type": "markdown",
   "id": "b41ba6ca-ad97-46a5-8703-145fc6abac5a",
   "metadata": {},
   "source": [
    "Browser Analysis:\r\n",
    "\r\n",
    "Cluster 0 : max_count39929 >> Browser = 2.0 ; least_count 0 1 >> Browser = 11.0 & 12.0\r\n",
    "Cluster 1 : max_count2734243 >> Browser = 2.0 ; least_count4= 0 >> Browser = 12.0 1 13.0\r\n",
    "Cluster 2 : max_coun2610 338 >> Browser = 2.0 ; least_coun1 = 0 >> Browser = 11.0 & 12.0 & 113.0\r\n",
    "Overall, Max amount of users seem to be using the Browser classified in 2.0 while using this platform and Browser 11.0 & 13.0 seem to have lesss user. This could mean a version upgrade is required in the app!"
   ]
  },
  {
   "cell_type": "code",
   "execution_count": null,
   "id": "17637b98-3643-4bd9-865d-52ae3d65d06b",
   "metadata": {},
   "outputs": [],
   "source": [
    "# Column Name : Region \n",
    "pd.crosstab(df_X_data_inversed['kmeans_Cluster'], df_X_data_inversed['Region'])"
   ]
  },
  {
   "cell_type": "code",
   "execution_count": null,
   "id": "5b1e0fb4-21c3-4703-b7aa-9fb6b5f587b0",
   "metadata": {},
   "outputs": [],
   "source": [
    "Region Analysis:\n",
    "\n",
    "Cluster 0 : max_count= 254 >> Region = 1.0 ; least_count = 12 >> Region = 5.0\n",
    "Cluster 1 : max_count = 1670 >> Region = 1.0 ; least_count = 91 >> Region = 5.0\n",
    "Cluster 2 : max_count = 1541 >> Region = 1.0 ; least_count = 115 >> Region = 5.0\n",
    "Overall, Max amount of users seem to be in the Region classified in 1.0 and users in 5.0 seem to have less users, although the data is not very distinct."
   ]
  },
  {
   "cell_type": "code",
   "execution_count": null,
   "id": "67e73849-faba-48e8-a315-9e9a5a431789",
   "metadata": {},
   "outputs": [],
   "source": [
    "# Column Name : Traffic Type  \n",
    "pd.crosstab(df_X_data_inversed['kmeans_Cluster'], df_X_data_inversed['TrafficType'])"
   ]
  },
  {
   "cell_type": "markdown",
   "id": "a4c3f686-77af-41cd-b189-70e50a807a57",
   "metadata": {},
   "source": [
    "\n",
    "\r\n",
    "\r\n",
    "\r\n",
    "Traffic Type Analysis:\r\n",
    "\r\n",
    "Cluster 0 : max201unt = 965 >> Traffi1_Type = 2.0 ; least_count = 0 >> Traffi7.0 & 14.0 & 16.0 & c_Type = 17.0\r\n",
    "Cluster 1 : ma1714ount = 710 >> Traffic_Type = 2.0 ; least_count = 0 >> Traff9.0 & 14.0 & ic_T & 17.0 & 18.0 & 19.0ype = 16.0\r\n",
    "Cluster 2 : m1005count = 167 >> Traf2ic_Type = 1.0 ; lea1t_count = 0 >> Tra.0 & 14.0 & 118.0 & 19.0\r\n",
    "Overall, most frequency of Traffic type seem to be clas.ified in 2.0."
   ]
  },
  {
   "cell_type": "code",
   "execution_count": null,
   "id": "a9619c61-cb1b-47da-854d-f18c839255a4",
   "metadata": {},
   "outputs": [],
   "source": [
    "# Column Name : VisitorType   \n",
    "\n",
    "# Mapping dictionary:\n",
    "# Returning_Visitor: 0 \n",
    "# New_Visitor: 1 \n",
    "# Other: 2\n",
    "\n",
    "pd.crosstab(df_X_data_inversed['kmeans_Cluster'], df_X_data_inversed['VisitorType'])"
   ]
  },
  {
   "cell_type": "markdown",
   "id": "811a82ce-78b3-42e5-8e9b-fbd49213e0a0",
   "metadata": {},
   "source": [
    "VisitorType Analysis:\r\n",
    "\r\n",
    "Cluster 0 : max_count 62944 >> VisitorType = 0.0 ; least_count 12 0 >> VisitorType = 2.0\r\n",
    "Cluster 1 : max_count3345645 >> VisitorType = 0.0 ; least_count42= 0 >> VisitorType = 2.0\r\n",
    "Cluster 2 : max_coun3627 525 >> VisitorType = 0.0 ; least_coun1 = 0 >> VisitorType =  2.0\r\n",
    "Overall, most frequency of VisitorType seem to be classified as 0.0 and tht lease as 2.,0 i.e)visitors areost is Ret rning_Vsisitor and least is_Other Vistor."
   ]
  },
  {
   "cell_type": "code",
   "execution_count": null,
   "id": "4e3e3050-8830-4105-8c9c-65999942c974",
   "metadata": {},
   "outputs": [],
   "source": [
    "# Column Name : Month \n",
    "\n",
    "# Mapping dictionary:\n",
    "# Feb: 0, Mar: 1, May: 2, June: 3, Jul: 4 \n",
    "# Aug: 5, Sep: 6, Oct: 7, Nov: 8, Dec: 9\n",
    "\n",
    "pd.crosstab(df_X_data_inversed['kmeans_Cluster'], df_X_data_inversed['Month'])"
   ]
  },
  {
   "cell_type": "markdown",
   "id": "674eb234-e8fc-4eb0-a229-da9dd8c14fd0",
   "metadata": {},
   "source": [
    "Month Analysis:\r\n",
    "\r\n",
    "Cluster 0 : max_count 22276 >> Month = 2.(May)0 ; least_count 760 >> Month = 7 (Oct).0\r\n",
    "Cluster 1 : max_count2005565 >> Month = 8(Nov) .0 ; least_count0 12 >> Month =  & 1.0 & 2.0 & 3.0 & 4.0 (Feb, Mar, May, June, Jul)0.0\r\n",
    "Cluster 2 : max_coun2202 175 >> Month = (May) 2.0 ; least_coun0 = 5 >> Mont6.0 & 7.0 & 8.0 & 9.0 (Sep, Oct, Nov, Dec)  1.0\r\n",
    "Overall,number of visitsMonths impacting the revenue seem to be classified among 2.0 and 8..,. i.e) May and November Months"
   ]
  },
  {
   "cell_type": "code",
   "execution_count": null,
   "id": "e4dd2370-e4e0-4889-9bf3-83aaf9525307",
   "metadata": {},
   "outputs": [],
   "source": [
    "# Column Name : Bounce Rates\n",
    "\n",
    "Bounce_Duration_Average = df_X_data_inversed.groupby('kmeans_Cluster')['BounceRates'].mean().sort_values()\n",
    "print(Bounce_Duration_Average)"
   ]
  },
  {
   "cell_type": "markdown",
   "id": "4e1b8551-00d7-4a99-8ec6-89f831b300db",
   "metadata": {},
   "source": [
    "Bouncing Rates Analysis in my e-commerce platform:\n",
    "\n",
    "Cluster 0 has the most users who leave the website after viewing only one page. This could be because they could not find what they were looking for on that page, or the page did not engage them enough to explore further.\n",
    "Cluster 1 has the least users who bounce from the page, representing a segment of highly engaged visitors who likely navigate deeper into the website."
   ]
  },
  {
   "cell_type": "code",
   "execution_count": null,
   "id": "96df4685-738d-48fa-8c1e-381a4a00fad3",
   "metadata": {},
   "outputs": [],
   "source": [
    "# Column Name : Exit Rates\n",
    "\n",
    "Exit_Duration_Average = df_X_data_inversed.groupby('kmeans_Cluster')['ExitRates'].mean().sort_values()\n",
    "print(Exit_Duration_Average)"
   ]
  },
  {
   "cell_type": "markdown",
   "id": "a85eb367-0ed4-4196-996d-38b9ffad728d",
   "metadata": {},
   "source": [
    "Exit Rates Analysis in my e-commerce platform:\r\n",
    "\r\n",
    "Cluste0 2 has the most users wce leave thwebsitepp\r\n",
    "Cluster 1 has the least users who leave twebsiteapp."
   ]
  },
  {
   "cell_type": "code",
   "execution_count": null,
   "id": "3543d97b-bbe0-499a-93e0-42e15e4a0acb",
   "metadata": {},
   "outputs": [],
   "source": [
    "# Column Name : Page Value\n",
    "\n",
    "PageValues_Duration_Average = df_X_data_inversed.groupby('kmeans_Cluster')['PageValues'].mean().sort_values()\n",
    "print(PageValues_Duration_Average)"
   ]
  },
  {
   "cell_type": "markdown",
   "id": "f68cfac7-6393-4a41-8435-a6ad5d9dbef5",
   "metadata": {},
   "source": [
    "Page value analysis - Page value tells which page is contributing to the most revenue.\n",
    "\n",
    "Cluster 1 has the highest page value. Visitors from this cluster are more likely to contribute to revenue generation. This cluster thus represent highly valuable customers in terms of their browsing behavior.\n",
    "Cluster 0 has the least page value. The visitors in this cluster are not taking actions leading to revenue generation."
   ]
  },
  {
   "cell_type": "markdown",
   "id": "1a62c923-2cc8-44c0-bc2d-ac8597e25d8d",
   "metadata": {},
   "source": [
    "# Data Splitting:"
   ]
  },
  {
   "cell_type": "code",
   "execution_count": 45,
   "id": "5e0a634a-2b95-4586-950c-10b529a89552",
   "metadata": {},
   "outputs": [],
   "source": [
    "X_train, X_val, Y_train, Y_val = train_test_split(X_data, Y_data, test_size=0.2, random_state=42)"
   ]
  },
  {
   "cell_type": "markdown",
   "id": "a0f16d95-e0fc-4087-afbc-3e18c2a8784c",
   "metadata": {},
   "source": [
    "Also remember, i'm just splitting my train data to build my model and test it. "
   ]
  },
  {
   "cell_type": "code",
   "execution_count": null,
   "id": "877c36d7-4375-4f5e-aeeb-3a74e0c1bfd1",
   "metadata": {},
   "outputs": [],
   "source": [
    "#X_train.shape  ### 7127 x 28 \n",
    "#Y_train.shape  ### 7127\n",
    "\n",
    "#X_val.shape  ## 1782 x 28 \n",
    "#Y_val.shape  ## 1782 "
   ]
  },
  {
   "cell_type": "markdown",
   "id": "8c9b6176-8ff7-4264-92bc-0817a8b71bb0",
   "metadata": {},
   "source": [
    "Now that i have my x and y variables - i can train my supervised model\n",
    "\n",
    "Before building my model, i should scale my  training dataset\n",
    "Post bulding my model, i should run it with my test dataset"
   ]
  },
  {
   "cell_type": "markdown",
   "id": "daffc6cd-7727-4258-ad1e-08caba7c6158",
   "metadata": {},
   "source": [
    "# Data Scaling:\n",
    "\n",
    "Not scaling my revenue data - as it's 0 and 1 data "
   ]
  },
  {
   "cell_type": "code",
   "execution_count": 47,
   "id": "d25e6d24-a62c-43ea-a0bc-c0fefccc1ac9",
   "metadata": {},
   "outputs": [],
   "source": [
    "## Scaling my dataset >> \n",
    "scaler = MinMaxScaler()\n",
    "\n",
    "X_train_scaled = scaler.fit_transform(X_train)\n",
    "X_val_scaled = scaler.fit_transform(X_val)\n",
    "Test_data_scaled = scaler.fit_transform(df_test_encoded)\n",
    "\n",
    "## Note i'm not scaling my Y_train and Y_val  - coz it has only 0 and 1 - and i read that's to leave them as such.\n",
    "\n",
    "#X_train_scaled.shape  ## numpy : 7127 x 28\n",
    "#X_val_scaled.shape ## numpy : 1782 x 28 \n",
    "\n",
    "#Test_data_scaled.shape ## numoy : 1572 x 28 >> to be used only when predict my Revenue values.\n",
    "\n",
    "## Convert it into DF \n",
    "#df_x_scaled = pd.DataFrame(X_data_scaled, columns= X_data.columns )\n",
    "#df_test_scaled = pd.DataFrame(Test_data_scaled, columns= test_encoded.columns )"
   ]
  },
  {
   "cell_type": "markdown",
   "id": "a0fe90f0-5896-4641-9c25-7307ae2d06a6",
   "metadata": {},
   "source": [
    "CLASSIFICATION:"
   ]
  },
  {
   "cell_type": "code",
   "execution_count": 48,
   "id": "edb3b7d8-538b-476d-911c-f0f7f73f1ffc",
   "metadata": {},
   "outputs": [],
   "source": [
    "from sklearn.model_selection import train_test_split, GridSearchCV\n",
    "from sklearn.linear_model import LogisticRegression\n",
    "from sklearn.tree import DecisionTreeClassifier\n",
    "from sklearn.ensemble import RandomForestClassifier, BaggingClassifier\n",
    "from sklearn.metrics import accuracy_score"
   ]
  },
  {
   "cell_type": "markdown",
   "id": "9f8fd279-e141-4cbf-b9bf-460508b6b976",
   "metadata": {},
   "source": [
    "BULDING MY MODEL PHASE:"
   ]
  },
  {
   "cell_type": "code",
   "execution_count": 49,
   "id": "3193420e-8861-4e93-b861-a2f1e9de963d",
   "metadata": {},
   "outputs": [
    {
     "name": "stdout",
     "output_type": "stream",
     "text": [
      "Accuracy on training set for fitting analysis: 0.847\n",
      "Accuracy on test set for fitting analysis: 0.846\n",
      " Accuracy for this model = 84.6240179573513\n",
      " Error for this model = 15.375982042648706\n"
     ]
    }
   ],
   "source": [
    "#Model 1: Tree Model\n",
    "\n",
    "from sklearn.tree import DecisionTreeClassifier\n",
    "\n",
    "DecisionTree_Model = DecisionTreeClassifier(random_state = 42, criterion= 'entropy', min_impurity_decrease = 0.5)\n",
    "DecisionTree_Model.fit(X_train_scaled, Y_train)\n",
    "\n",
    "## I also, need to see if my model is overfitting or underfitting or good fitting!! \n",
    "print(\"Accuracy on training set for fitting analysis: {:.3f}\".format(DecisionTree_Model.score(X_train_scaled, Y_train)))\n",
    "print(\"Accuracy on test set for fitting analysis: {:.3f}\".format(DecisionTree_Model.score(X_val_scaled, Y_val)))\n",
    "\n",
    "#Trying to predict along with it's accuracy factor \n",
    "y_pred = DecisionTree_Model.predict(X_val_scaled)\n",
    "#print(\"Predicted values :\", y_pred)\n",
    "#print(\"Actual values :\", Y_val.values)\n",
    "\n",
    "#checking the accuracy of the model:\n",
    "result = accuracy_score(y_pred, Y_val)\n",
    "error = 1 - (result)\n",
    "print(\" Accuracy for this model =\" , result*100) \n",
    "print(\" Error for this model =\" , error*100)\n"
   ]
  },
  {
   "cell_type": "markdown",
   "id": "10c53295-4759-41bc-a031-8bd6dc5f4df7",
   "metadata": {},
   "source": [
    "* When min_impurity_decrease = 0.5 : Accuracy is 84.7% and Error is 15.37%\n",
    "* When min_impurity_decrease = 0.3 : Accuracy is 84.62% and Error is 15% >> Accuracy on training set : 0.847 && Accuracy on test set : 0.846 [Perfecto!!] \n",
    "* When min_impurity_decrease = 0.2 : Accuracy is 87.87% and Error is 12% >> Accuracy on training set : 0.879 && Accuracy on test set : 0.875 [Perfecto!!]\n",
    "* When min_impurity_decrease = 0.1 : Accuracy is 87.87% and Error is 12%"
   ]
  },
  {
   "cell_type": "code",
   "execution_count": 50,
   "id": "fc9bf705-d7c2-4362-a06c-bfc97781a576",
   "metadata": {},
   "outputs": [
    {
     "name": "stdout",
     "output_type": "stream",
     "text": [
      "Train score:  1.0\n",
      "Test score:  0.9034792368125701\n",
      " Accuracy for this model = 90.34792368125702\n",
      " Error for this model = 9.652076318742985\n"
     ]
    }
   ],
   "source": [
    "#Model 2: Random Forest Classifier Model\n",
    "\n",
    "from sklearn.ensemble import RandomForestClassifier\n",
    "\n",
    "RandForest_Model = RandomForestClassifier(random_state= 42)\n",
    "RandForest_Model.fit(X_train_scaled, Y_train)\n",
    "\n",
    "#Model Fitting Analysis\n",
    "print('Train score: ', RandForest_Model.score(X_train_scaled, Y_train))\n",
    "print('Test score: ', RandForest_Model.score(X_val_scaled, Y_val))\n",
    "\n",
    "#Trying to predict along with it's accuracy factor \n",
    "y_pred = RandForest_Model.predict(X_val_scaled)\n",
    "#print(\"Predicted values :\", y_pred)\n",
    "#print(\"Actual values :\", Y_val.values)\n",
    "\n",
    "#checking the accuracy of the model:\n",
    "result = accuracy_score(y_pred, Y_val)\n",
    "error = 1 - (result)\n",
    "print(\" Accuracy for this model =\" , result*100) \n",
    "print(\" Error for this model =\" , error*100)"
   ]
  },
  {
   "cell_type": "markdown",
   "id": "85a0a87a-3ea1-4bcb-a947-4fa88f875851",
   "metadata": {},
   "source": [
    "RandomForest_Model == Overfitting ==> train score =1 [not the ideal condition] . But, the over prediction accuracy of the model seems to be good = 90% with an error of just 9.93% \n",
    "\n",
    "So to rectify this situation, I'm going to tune my model with hyper-parameters specifications to get a good/optimal fit "
   ]
  },
  {
   "cell_type": "code",
   "execution_count": 51,
   "id": "883397d8-d63e-4c42-82f4-be408add8841",
   "metadata": {},
   "outputs": [],
   "source": [
    "train = []\n",
    "test = []\n",
    "index = []\n",
    "for n_estimators in [50, 100, 200, 500]:\n",
    "    for max_features in [0.1, 0.5, 0.01]:\n",
    "        for max_samples in [0.1, 0.5, 0.01]:\n",
    "            for max_depth in [1, 2, 5, 7]:\n",
    "                RandForest_Model = RandomForestClassifier(random_state= 42, \n",
    "                                             n_estimators = n_estimators,\n",
    "                                             max_samples= max_samples, \n",
    "                                             max_features= max_features,\n",
    "                                             max_depth= max_depth)\n",
    "                RandForest_Model.fit(X_train_scaled, Y_train)\n",
    "                train.append(RandForest_Model.score(X_train_scaled, Y_train))\n",
    "                test.append(RandForest_Model.score(X_val_scaled, Y_val))\n",
    "                index.append((n_estimators, max_features, \n",
    "                              max_samples, max_depth))"
   ]
  },
  {
   "cell_type": "code",
   "execution_count": 52,
   "id": "76e54065-c324-4ec8-992d-888030672d87",
   "metadata": {},
   "outputs": [
    {
     "data": {
      "text/plain": [
       "(500, 0.5, 0.5, 7)"
      ]
     },
     "execution_count": 52,
     "metadata": {},
     "output_type": "execute_result"
    }
   ],
   "source": [
    "# Now my best paramters based of the range provided for a good fitting model are as follows: \n",
    "index[np.argmax(np.array(test))]"
   ]
  },
  {
   "cell_type": "code",
   "execution_count": 53,
   "id": "855a1315-a6c8-4c9e-ac85-435f058c90fd",
   "metadata": {},
   "outputs": [
    {
     "name": "stdout",
     "output_type": "stream",
     "text": [
      "Train score:  0.9309667461765119\n",
      "Test score:  0.9118967452300786\n"
     ]
    }
   ],
   "source": [
    "#Hence initializing my model with the best hyper-parameters:\n",
    "\n",
    "#Defining my model\n",
    "RandForest_Model = RandomForestClassifier(random_state= 42, \n",
    "                             n_estimators = 500,\n",
    "                             max_samples= 0.5, \n",
    "                             max_features= 0.5,\n",
    "                             max_depth= 7)\n",
    "#Fitting my model\n",
    "RandForest_Model.fit(X_train_scaled, Y_train)\n",
    "\n",
    "#Testing the fitting score for my model post tuning the model:\n",
    "print('Train score: ', RandForest_Model.score(X_train_scaled, Y_train))\n",
    "print('Test score: ', RandForest_Model.score(X_val_scaled, Y_val))"
   ]
  },
  {
   "cell_type": "markdown",
   "id": "cff2d6d8-b96f-43f6-9e70-2313e85a23e4",
   "metadata": {},
   "source": [
    "AMAZINGGGGG NEWS!! --- post tuning the parameters, my model is giving me a 'Good Fit'\n",
    "\n",
    "Let's test the prediction of the model now! "
   ]
  },
  {
   "cell_type": "code",
   "execution_count": 54,
   "id": "512b24f1-dc64-4993-a018-f3cf5952d3ce",
   "metadata": {},
   "outputs": [
    {
     "name": "stdout",
     "output_type": "stream",
     "text": [
      " Accuracy for this model = 91.18967452300785\n",
      " Error for this model = 8.810325476992142\n"
     ]
    }
   ],
   "source": [
    "#Trying to predict along with it's accuracy factor \n",
    "y_pred = RandForest_Model.predict(X_val_scaled)\n",
    "#print(\"Predicted values :\", y_pred)\n",
    "#print(\"Actual values :\", Y_val.values)\n",
    "\n",
    "#checking the accuracy of the model:\n",
    "result = accuracy_score(y_pred, Y_val)\n",
    "error = 1 - (result)\n",
    "print(\" Accuracy for this model =\" , result*100) \n",
    "print(\" Error for this model =\" , error*100)"
   ]
  },
  {
   "cell_type": "markdown",
   "id": "d0b4ecce-4219-46a0-a835-1347c3d0a54b",
   "metadata": {},
   "source": [
    "Random Forest Model now gives me an accuracy of a sparkling 91% and an error of wrong prediction of 8.8%. == BEST MODEL so far"
   ]
  },
  {
   "cell_type": "markdown",
   "id": "87733f50-9439-481a-a331-38186c4aa4f4",
   "metadata": {},
   "source": [
    "MODEL EVALUATION:  "
   ]
  },
  {
   "cell_type": "markdown",
   "id": "f7e2d405-ef92-4ab5-b57e-a02dd7f2d088",
   "metadata": {},
   "source": [
    "As Random Forest Classifier maybe our best model for our current e-commerce dataset, let's evaluate the model."
   ]
  },
  {
   "cell_type": "code",
   "execution_count": 55,
   "id": "021afece-eeca-401e-bcfd-ff8d38712347",
   "metadata": {},
   "outputs": [
    {
     "name": "stdout",
     "output_type": "stream",
     "text": [
      "Confusion matrix for the Model: \n",
      "[[1475  124]\n",
      " [  33  150]]\n"
     ]
    }
   ],
   "source": [
    "# Print the confusion matrix \n",
    "from sklearn.metrics import confusion_matrix\n",
    "\n",
    "print('Confusion matrix for the Model: ')\n",
    "print(confusion_matrix(y_pred, Y_val))"
   ]
  },
  {
   "cell_type": "code",
   "execution_count": 56,
   "id": "6a7013fa-1540-4414-9645-32cd67dda3cc",
   "metadata": {},
   "outputs": [
    {
     "name": "stdout",
     "output_type": "stream",
     "text": [
      "Accuracy score - Test:  0.9118967452300786\n",
      "Recall score - Test:  0.819672131147541\n",
      "Precision score - Test:  0.5474452554744526\n",
      "f1 score - Test:  0.6564551422319475\n"
     ]
    }
   ],
   "source": [
    "from sklearn.metrics import recall_score, precision_score, f1_score, accuracy_score\n",
    "\n",
    "print('Accuracy score - Test: ', accuracy_score(y_pred, Y_val))\n",
    "print('Recall score - Test: ', recall_score(y_pred, Y_val))\n",
    "print('Precision score - Test: ', precision_score(y_pred, Y_val))\n",
    "print('f1 score - Test: ', f1_score(y_pred, Y_val))"
   ]
  },
  {
   "cell_type": "code",
   "execution_count": 57,
   "id": "b0f35e1d-b561-4c83-ad8b-83764a3daa2b",
   "metadata": {},
   "outputs": [
    {
     "data": {
      "image/png": "[encoded data removed]",
      "text/plain": [
       "<Figure size 500x500 with 1 Axes>"
      ]
     },
     "metadata": {},
     "output_type": "display_data"
    }
   ],
   "source": [
    "# Now, let's run the ROC curve to evaluate our model's performance:\n",
    "from sklearn.metrics import precision_recall_curve\n",
    "\n",
    "%matplotlib inline\n",
    "plt.subplots(figsize = (5,5))\n",
    "precision, recall, thresholds = precision_recall_curve(Y_val, y_pred)\n",
    "\n",
    "# default threshold\n",
    "close_zero = np.argmin(np.abs(thresholds - 0.5))\n",
    "\n",
    "plt.plot(precision[close_zero], recall[close_zero], 'o', markersize=10,\n",
    "         label=\"threshold 0.5\", fillstyle=\"none\", c='k', mew=2)\n",
    "\n",
    "plt.plot(precision, recall, label=\"precision recall curve\")\n",
    "plt.xlabel(\"Precision\")\n",
    "plt.ylabel(\"Recall\")\n",
    "plt.legend(loc=\"best\")\n",
    "plt.grid()"
   ]
  },
  {
   "cell_type": "markdown",
   "id": "1047eca0-2d5b-424c-8cb1-f73fa9f13e88",
   "metadata": {},
   "source": [
    "We are positive that the ROC curve is greater than 0.5 >> which is a good sign!! "
   ]
  },
  {
   "cell_type": "code",
   "execution_count": 58,
   "id": "0d1fbdff-d721-4022-83aa-4259f740909a",
   "metadata": {},
   "outputs": [
    {
     "name": "stdout",
     "output_type": "stream",
     "text": [
      "Train_score:  0.9911603760347972\n",
      "Test_score:  0.8916947250280584\n",
      " Accuracy for this model = 91.18967452300785\n",
      " Error for this model = 8.810325476992142\n"
     ]
    }
   ],
   "source": [
    "#Model 3: Bagging Classifier Model\n",
    "\n",
    "from sklearn.ensemble import BaggingClassifier\n",
    "from sklearn.tree import DecisionTreeClassifier\n",
    "\n",
    "base_estimator = DecisionTreeClassifier(random_state= 42 )\n",
    "BaggingClass_Model = BaggingClassifier( base_estimator, random_state= 42 )\n",
    "\n",
    "BaggingClass_Model.fit(X_train_scaled, Y_train)\n",
    "\n",
    "#Model Fitting Analysis\n",
    "print('Train_score: ', BaggingClass_Model.score(X_train_scaled, Y_train))\n",
    "print('Test_score: ', BaggingClass_Model.score(X_val_scaled, Y_val))\n",
    "\n",
    "#Trying to understand the overall accuracy of the model\n",
    "y_pred = RandForest_Model.predict(X_val_scaled)\n",
    "#print(\"Predicted values :\", y_pred)\n",
    "#print(\"Actual values :\", Y_val.values)\n",
    "\n",
    "#Checking the accuracy of the model:\n",
    "result = accuracy_score(y_pred, Y_val)\n",
    "error = 1 - (result)\n",
    "print(\" Accuracy for this model =\" , result*100) \n",
    "print(\" Error for this model =\" , error*100)"
   ]
  },
  {
   "cell_type": "markdown",
   "id": "c1a1269b-f117-40d4-ab1d-8c5b887b30ec",
   "metadata": {},
   "source": [
    "BaggingClass_Model == Overfitting ==> train score = 99% [not the ideal condition] . But, the over prediction accuracy of the model seems to be good = 91% with an error of just 8.8% \n",
    "\n",
    "So to rectify this situation, I'm going to tune my model with hyper-parameters specifications to get a good/optimal fit >> much similar to RandomForest "
   ]
  },
  {
   "cell_type": "code",
   "execution_count": 59,
   "id": "53ef1b9b-5045-4879-8cb5-99b700826406",
   "metadata": {},
   "outputs": [],
   "source": [
    "train_score = []\n",
    "test_score = []\n",
    "index = []\n",
    "\n",
    "for max_depth in [1, 2, 3]:\n",
    "    for n_estimators in [70,100, 200, 300, 500]:\n",
    "        for max_samples in [0.05, 0.1, 0.2]:\n",
    "            for max_features in [0.05, 0.1, 0.15, 0.2]:\n",
    "                base_estimator = DecisionTreeClassifier(max_depth= max_depth, \n",
    "                                                        random_state= 42)\n",
    "                BaggingClass_Model = BaggingClassifier(base_estimator,\n",
    "                                n_estimators= n_estimators,\n",
    "                                max_samples= max_samples,\n",
    "                                max_features= max_features,\n",
    "                                random_state= 0)\n",
    "\n",
    "                BaggingClass_Model.fit(X_train_scaled, Y_train)\n",
    "                train_score.append(BaggingClass_Model.score(X_train_scaled, Y_train))\n",
    "                test_score.append(BaggingClass_Model.score(X_val_scaled, Y_val))\n",
    "                index.append((max_depth, n_estimators, max_samples, max_features))"
   ]
  },
  {
   "cell_type": "code",
   "execution_count": 60,
   "id": "f01e5f07-e257-4184-a109-e8a5d6d6fee0",
   "metadata": {},
   "outputs": [
    {
     "data": {
      "text/plain": [
       "(3, 70, 0.1, 0.2)"
      ]
     },
     "execution_count": 60,
     "metadata": {},
     "output_type": "execute_result"
    }
   ],
   "source": [
    "# Now my best paramters based of the range provided for a good fitting model are as follows: \n",
    "index[np.argmax(np.array(test))]"
   ]
  },
  {
   "cell_type": "code",
   "execution_count": 61,
   "id": "92fb5ad7-cc37-4b3f-bcfc-7abc552f2dcb",
   "metadata": {},
   "outputs": [
    {
     "name": "stdout",
     "output_type": "stream",
     "text": [
      "Train score:  0.8470604742528413\n",
      "Test score:  0.8462401795735129\n"
     ]
    }
   ],
   "source": [
    "#Hence initializing my model with the best hyper-parameters:\n",
    "\n",
    "#Defining my model\n",
    "base_estimator = DecisionTreeClassifier(random_state= 42, max_depth= 3 )\n",
    "BaggingClass_Model = BaggingClassifier(base_estimator,\n",
    "                                n_estimators= 70,\n",
    "                                max_samples= 0.1,\n",
    "                                max_features= 0.2,\n",
    "                                random_state= 42)\n",
    "#Fitting my model\n",
    "BaggingClass_Model.fit(X_train_scaled, Y_train)\n",
    "\n",
    "#Testing the fitting score for my model post tuning the model:\n",
    "print('Train score: ', BaggingClass_Model.score(X_train_scaled, Y_train))\n",
    "print('Test score: ', BaggingClass_Model.score(X_val_scaled, Y_val))"
   ]
  },
  {
   "cell_type": "markdown",
   "id": "5742dbac-0753-4e08-90c0-7a2d3ecebf46",
   "metadata": {},
   "source": [
    "Again, GREAT NEWS - My model's now a Good Fit. However, I see the accuracy has gone down to a 84% \n",
    "\n",
    "Also, note >> The classifier has a tendency of changing the outputs a little each time it's run \n",
    "* Initally my max depth was 2\n",
    "* Then it changed to 1  -- however, the model fitting doesn't seem to change - so i'm going with the same one.\n",
    "\n",
    "Testing the over all accuracy now:  "
   ]
  },
  {
   "cell_type": "code",
   "execution_count": 62,
   "id": "5a18fc7d-7e7e-48f7-a6c5-8e89553ed05a",
   "metadata": {},
   "outputs": [
    {
     "name": "stdout",
     "output_type": "stream",
     "text": [
      " Accuracy for this model = 84.6240179573513\n",
      " Error for this model = 15.375982042648706\n"
     ]
    }
   ],
   "source": [
    "#Trying to predict along with it's accuracy factor \n",
    "y_pred = BaggingClass_Model.predict(X_val_scaled)\n",
    "#print(\"Predicted values :\", y_pred)\n",
    "#print(\"Actual values :\", Y_val.values)\n",
    "\n",
    "#checking the accuracy of the model:\n",
    "result = accuracy_score(y_pred, Y_val)\n",
    "error = 1 - (result)\n",
    "print(\" Accuracy for this model =\" , result*100) \n",
    "print(\" Error for this model =\" , error*100)"
   ]
  },
  {
   "cell_type": "markdown",
   "id": "5c2822d2-7ef6-4697-bbef-3f2e1fd6b1b4",
   "metadata": {},
   "source": [
    "Bagging Classifier Model, post tuning gives me an accuracy of just 84% and an error of wrong predictions of 15%. == Not the Best Model"
   ]
  },
  {
   "cell_type": "code",
   "execution_count": 63,
   "id": "9e5a87c1-5126-44c7-9de0-0ae960074458",
   "metadata": {},
   "outputs": [
    {
     "name": "stdout",
     "output_type": "stream",
     "text": [
      "Train score:  0.8808755437070296\n",
      "Test score:  0.8731762065095399\n",
      " Accuracy for this model = 87.31762065095398\n",
      " Error for this model = 12.682379349046013\n"
     ]
    }
   ],
   "source": [
    "#Model 4: Logestic Classifier Model:\n",
    "\n",
    "#Defining my model\n",
    "LogReg_Model = LogisticRegression(multi_class=\"multinomial\",random_state = 42)\n",
    "LogReg_Model.fit(X_train_scaled, Y_train)\n",
    "\n",
    "#Testing the fitting score for my model:\n",
    "print('Train score: ', LogReg_Model.score(X_train_scaled, Y_train))\n",
    "print('Test score: ', LogReg_Model.score(X_val_scaled, Y_val))\n",
    "\n",
    "#Trying to predict along with it's accuracy factor \n",
    "y_pred = LogReg_Model.predict(X_val_scaled)\n",
    "#print(\"Predicted values :\", y_pred)\n",
    "#print(\"Actual values :\", Y_val.values)\n",
    "\n",
    "#checking the accuracy of the model:\n",
    "result = accuracy_score(y_pred, Y_val)\n",
    "error = 1 - (result)\n",
    "print(\" Accuracy for this model =\" , result*100) \n",
    "print(\" Error for this model =\" , error*100)"
   ]
  },
  {
   "cell_type": "markdown",
   "id": "fdc83ea9-1d0e-4e8b-bc45-c77a761e7cb9",
   "metadata": {},
   "source": [
    "LogisticRegression Model even without tuning is a Good Fit with an accuracy of 87% and error of wrong predictions of 12%. == Not the Best Model"
   ]
  },
  {
   "cell_type": "markdown",
   "id": "e55e7ac9-7bff-4908-9379-ddd4d7ac3c8c",
   "metadata": {},
   "source": [
    "# MODEL CHOOSING :"
   ]
  },
  {
   "cell_type": "markdown",
   "id": "730ed4c7-e485-4add-b674-490658bba40c",
   "metadata": {},
   "source": [
    "The best model among all four models will be : Model 2 - the Random Forest Classifer. Hence we will use the same model for predicting our future Revenue values."
   ]
  },
  {
   "cell_type": "markdown",
   "id": "195b4b5d-5bc8-48b2-bcbe-f90cea263484",
   "metadata": {},
   "source": [
    "Revenue Prediction based of the choose model of our test(future) data"
   ]
  },
  {
   "cell_type": "code",
   "execution_count": 64,
   "id": "bb5686b9-1ab3-43aa-b450-7cd56dcb3564",
   "metadata": {},
   "outputs": [
    {
     "data": {
      "text/plain": [
       "array([0, 0, 0, ..., 1, 0, 0])"
      ]
     },
     "execution_count": 64,
     "metadata": {},
     "output_type": "execute_result"
    }
   ],
   "source": [
    "Reven_Pred = RandForest_Model.predict(Test_data_scaled)\n",
    "Reven_Pred"
   ]
  },
  {
   "cell_type": "code",
   "execution_count": 65,
   "id": "cd0b9c2d-4197-4551-a899-e44d31063492",
   "metadata": {},
   "outputs": [
    {
     "data": {
      "text/plain": [
       "array([[6.69022485e-01, 3.30977515e-01],\n",
       "       [9.93229947e-01, 6.77005255e-03],\n",
       "       [6.24757175e-01, 3.75242825e-01],\n",
       "       ...,\n",
       "       [4.64244591e-01, 5.35755409e-01],\n",
       "       [9.99560188e-01, 4.39811974e-04],\n",
       "       [9.58311949e-01, 4.16880511e-02]])"
      ]
     },
     "execution_count": 65,
     "metadata": {},
     "output_type": "execute_result"
    }
   ],
   "source": [
    "Reven_Pred_prob = RandForest_Model.predict_proba(Test_data_scaled)\n",
    "Reven_Pred_prob"
   ]
  },
  {
   "cell_type": "code",
   "execution_count": 67,
   "id": "49736a60-9008-4563-9e52-255b42724288",
   "metadata": {},
   "outputs": [],
   "source": [
    "# Convert numpy to dataframe.\n",
    "Test_data_Pred = scaler.inverse_transform(Test_data_scaled)\n",
    "df_Test_data_Pred = pd.DataFrame(Test_data_Pred, columns = df_test_encoded.columns)\n",
    "df_Test_data_Pred['Predicted Revenue'] = Reven_Pred \n"
   ]
  },
  {
   "cell_type": "code",
   "execution_count": null,
   "id": "362c7068-4f3d-45b1-9142-330422e51496",
   "metadata": {},
   "outputs": [],
   "source": [
    "#df_Test_data_Pred.head()\n",
    "df_Test_data_Pred['Predicted Revenue'].value_counts()"
   ]
  },
  {
   "cell_type": "code",
   "execution_count": null,
   "id": "03ed05dd-61e2-44b8-a257-addac71e03dc",
   "metadata": {},
   "outputs": [],
   "source": [
    "df_Test_data_Pred.info()\n",
    "df_Test_data_Pred.describe()"
   ]
  },
  {
   "cell_type": "code",
   "execution_count": null,
   "id": "77cb1c52-c8c6-49eb-834e-f52127e00a92",
   "metadata": {},
   "outputs": [],
   "source": []
  }
 ],
 "metadata": {
  "kernelspec": {
   "display_name": "Python 3 (ipykernel)",
   "language": "python",
   "name": "python3"
  },
  "language_info": {
   "codemirror_mode": {
    "name": "ipython",
    "version": 3
   },
   "file_extension": ".py",
   "mimetype": "text/x-python",
   "name": "python",
   "nbconvert_exporter": "python",
   "pygments_lexer": "ipython3",
   "version": "3.12.1"
  }
 },
 "nbformat": 4,
 "nbformat_minor": 5
}
