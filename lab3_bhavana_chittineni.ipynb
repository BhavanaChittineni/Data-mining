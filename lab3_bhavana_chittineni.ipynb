{
 "cells": [
  {
   "cell_type": "code",
   "execution_count": 217,
   "id": "83a9957d-6af1-4913-96c3-0959cf7396a2",
   "metadata": {},
   "outputs": [
    {
     "name": "stdout",
     "output_type": "stream",
     "text": [
      "Defaulting to user installation because normal site-packages is not writeable\n",
      "Collecting numpy==1.24.3\n",
      "  Using cached numpy-1.24.3.tar.gz (10.9 MB)\n",
      "  Installing build dependencies: started\n",
      "  Installing build dependencies: finished with status 'done'\n",
      "  Getting requirements to build wheel: started\n",
      "  Getting requirements to build wheel: finished with status 'done'\n"
     ]
    },
    {
     "name": "stderr",
     "output_type": "stream",
     "text": [
      "ERROR: Exception:\n",
      "Traceback (most recent call last):\n",
      "  File \"C:\\Users\\lokna\\AppData\\Roaming\\Python\\Python312\\site-packages\\pip\\_internal\\cli\\base_command.py\", line 180, in exc_logging_wrapper\n",
      "    status = run_func(*args)\n",
      "             ^^^^^^^^^^^^^^^\n",
      "  File \"C:\\Users\\lokna\\AppData\\Roaming\\Python\\Python312\\site-packages\\pip\\_internal\\cli\\req_command.py\", line 245, in wrapper\n",
      "    return func(self, options, args)\n",
      "           ^^^^^^^^^^^^^^^^^^^^^^^^^\n",
      "  File \"C:\\Users\\lokna\\AppData\\Roaming\\Python\\Python312\\site-packages\\pip\\_internal\\commands\\install.py\", line 377, in run\n",
      "    requirement_set = resolver.resolve(\n",
      "                      ^^^^^^^^^^^^^^^^^\n",
      "  File \"C:\\Users\\lokna\\AppData\\Roaming\\Python\\Python312\\site-packages\\pip\\_internal\\resolution\\resolvelib\\resolver.py\", line 95, in resolve\n",
      "    result = self._result = resolver.resolve(\n",
      "                            ^^^^^^^^^^^^^^^^^\n",
      "  File \"C:\\Users\\lokna\\AppData\\Roaming\\Python\\Python312\\site-packages\\pip\\_vendor\\resolvelib\\resolvers.py\", line 546, in resolve\n",
      "    state = resolution.resolve(requirements, max_rounds=max_rounds)\n",
      "            ^^^^^^^^^^^^^^^^^^^^^^^^^^^^^^^^^^^^^^^^^^^^^^^^^^^^^^^\n",
      "  File \"C:\\Users\\lokna\\AppData\\Roaming\\Python\\Python312\\site-packages\\pip\\_vendor\\resolvelib\\resolvers.py\", line 397, in resolve\n",
      "    self._add_to_criteria(self.state.criteria, r, parent=None)\n",
      "  File \"C:\\Users\\lokna\\AppData\\Roaming\\Python\\Python312\\site-packages\\pip\\_vendor\\resolvelib\\resolvers.py\", line 173, in _add_to_criteria\n",
      "    if not criterion.candidates:\n",
      "           ^^^^^^^^^^^^^^^^^^^^\n",
      "  File \"C:\\Users\\lokna\\AppData\\Roaming\\Python\\Python312\\site-packages\\pip\\_vendor\\resolvelib\\structs.py\", line 156, in __bool__\n",
      "    return bool(self._sequence)\n",
      "           ^^^^^^^^^^^^^^^^^^^^\n",
      "  File \"C:\\Users\\lokna\\AppData\\Roaming\\Python\\Python312\\site-packages\\pip\\_internal\\resolution\\resolvelib\\found_candidates.py\", line 155, in __bool__\n",
      "    return any(self)\n",
      "           ^^^^^^^^^\n",
      "  File \"C:\\Users\\lokna\\AppData\\Roaming\\Python\\Python312\\site-packages\\pip\\_internal\\resolution\\resolvelib\\found_candidates.py\", line 143, in <genexpr>\n",
      "    return (c for c in iterator if id(c) not in self._incompatible_ids)\n",
      "           ^^^^^^^^^^^^^^^^^^^^^^^^^^^^^^^^^^^^^^^^^^^^^^^^^^^^^^^^^^^^\n",
      "  File \"C:\\Users\\lokna\\AppData\\Roaming\\Python\\Python312\\site-packages\\pip\\_internal\\resolution\\resolvelib\\found_candidates.py\", line 47, in _iter_built\n",
      "    candidate = func()\n",
      "                ^^^^^^\n",
      "  File \"C:\\Users\\lokna\\AppData\\Roaming\\Python\\Python312\\site-packages\\pip\\_internal\\resolution\\resolvelib\\factory.py\", line 182, in _make_candidate_from_link\n",
      "    base: Optional[BaseCandidate] = self._make_base_candidate_from_link(\n",
      "                                    ^^^^^^^^^^^^^^^^^^^^^^^^^^^^^^^^^^^^\n",
      "  File \"C:\\Users\\lokna\\AppData\\Roaming\\Python\\Python312\\site-packages\\pip\\_internal\\resolution\\resolvelib\\factory.py\", line 228, in _make_base_candidate_from_link\n",
      "    self._link_candidate_cache[link] = LinkCandidate(\n",
      "                                       ^^^^^^^^^^^^^^\n",
      "  File \"C:\\Users\\lokna\\AppData\\Roaming\\Python\\Python312\\site-packages\\pip\\_internal\\resolution\\resolvelib\\candidates.py\", line 290, in __init__\n",
      "    super().__init__(\n",
      "  File \"C:\\Users\\lokna\\AppData\\Roaming\\Python\\Python312\\site-packages\\pip\\_internal\\resolution\\resolvelib\\candidates.py\", line 156, in __init__\n",
      "    self.dist = self._prepare()\n",
      "                ^^^^^^^^^^^^^^^\n",
      "  File \"C:\\Users\\lokna\\AppData\\Roaming\\Python\\Python312\\site-packages\\pip\\_internal\\resolution\\resolvelib\\candidates.py\", line 222, in _prepare\n",
      "    dist = self._prepare_distribution()\n",
      "           ^^^^^^^^^^^^^^^^^^^^^^^^^^^^\n",
      "  File \"C:\\Users\\lokna\\AppData\\Roaming\\Python\\Python312\\site-packages\\pip\\_internal\\resolution\\resolvelib\\candidates.py\", line 301, in _prepare_distribution\n",
      "    return preparer.prepare_linked_requirement(self._ireq, parallel_builds=True)\n",
      "           ^^^^^^^^^^^^^^^^^^^^^^^^^^^^^^^^^^^^^^^^^^^^^^^^^^^^^^^^^^^^^^^^^^^^^\n",
      "  File \"C:\\Users\\lokna\\AppData\\Roaming\\Python\\Python312\\site-packages\\pip\\_internal\\operations\\prepare.py\", line 525, in prepare_linked_requirement\n",
      "    return self._prepare_linked_requirement(req, parallel_builds)\n",
      "           ^^^^^^^^^^^^^^^^^^^^^^^^^^^^^^^^^^^^^^^^^^^^^^^^^^^^^^\n",
      "  File \"C:\\Users\\lokna\\AppData\\Roaming\\Python\\Python312\\site-packages\\pip\\_internal\\operations\\prepare.py\", line 640, in _prepare_linked_requirement\n",
      "    dist = _get_prepared_distribution(\n",
      "           ^^^^^^^^^^^^^^^^^^^^^^^^^^^\n",
      "  File \"C:\\Users\\lokna\\AppData\\Roaming\\Python\\Python312\\site-packages\\pip\\_internal\\operations\\prepare.py\", line 71, in _get_prepared_distribution\n",
      "    abstract_dist.prepare_distribution_metadata(\n",
      "  File \"C:\\Users\\lokna\\AppData\\Roaming\\Python\\Python312\\site-packages\\pip\\_internal\\distributions\\sdist.py\", line 54, in prepare_distribution_metadata\n",
      "    self._install_build_reqs(finder)\n",
      "  File \"C:\\Users\\lokna\\AppData\\Roaming\\Python\\Python312\\site-packages\\pip\\_internal\\distributions\\sdist.py\", line 124, in _install_build_reqs\n",
      "    build_reqs = self._get_build_requires_wheel()\n",
      "                 ^^^^^^^^^^^^^^^^^^^^^^^^^^^^^^^^\n",
      "  File \"C:\\Users\\lokna\\AppData\\Roaming\\Python\\Python312\\site-packages\\pip\\_internal\\distributions\\sdist.py\", line 101, in _get_build_requires_wheel\n",
      "    return backend.get_requires_for_build_wheel()\n",
      "           ^^^^^^^^^^^^^^^^^^^^^^^^^^^^^^^^^^^^^^\n",
      "  File \"C:\\Users\\lokna\\AppData\\Roaming\\Python\\Python312\\site-packages\\pip\\_internal\\utils\\misc.py\", line 745, in get_requires_for_build_wheel\n",
      "    return super().get_requires_for_build_wheel(config_settings=cs)\n",
      "           ^^^^^^^^^^^^^^^^^^^^^^^^^^^^^^^^^^^^^^^^^^^^^^^^^^^^^^^^\n",
      "  File \"C:\\Users\\lokna\\AppData\\Roaming\\Python\\Python312\\site-packages\\pip\\_vendor\\pyproject_hooks\\_impl.py\", line 166, in get_requires_for_build_wheel\n",
      "    return self._call_hook('get_requires_for_build_wheel', {\n",
      "           ^^^^^^^^^^^^^^^^^^^^^^^^^^^^^^^^^^^^^^^^^^^^^^^^^\n",
      "  File \"C:\\Users\\lokna\\AppData\\Roaming\\Python\\Python312\\site-packages\\pip\\_vendor\\pyproject_hooks\\_impl.py\", line 321, in _call_hook\n",
      "    raise BackendUnavailable(data.get('traceback', ''))\n",
      "pip._vendor.pyproject_hooks._impl.BackendUnavailable: Traceback (most recent call last):\n",
      "  File \"C:\\Users\\lokna\\AppData\\Roaming\\Python\\Python312\\site-packages\\pip\\_vendor\\pyproject_hooks\\_in_process\\_in_process.py\", line 77, in _build_backend\n",
      "    obj = import_module(mod_path)\n",
      "          ^^^^^^^^^^^^^^^^^^^^^^^\n",
      "  File \"C:\\Program Files\\Python312\\Lib\\importlib\\__init__.py\", line 90, in import_module\n",
      "    return _bootstrap._gcd_import(name[level:], package, level)\n",
      "           ^^^^^^^^^^^^^^^^^^^^^^^^^^^^^^^^^^^^^^^^^^^^^^^^^^^^\n",
      "  File \"<frozen importlib._bootstrap>\", line 1387, in _gcd_import\n",
      "  File \"<frozen importlib._bootstrap>\", line 1360, in _find_and_load\n",
      "  File \"<frozen importlib._bootstrap>\", line 1310, in _find_and_load_unlocked\n",
      "  File \"<frozen importlib._bootstrap>\", line 488, in _call_with_frames_removed\n",
      "  File \"<frozen importlib._bootstrap>\", line 1387, in _gcd_import\n",
      "  File \"<frozen importlib._bootstrap>\", line 1360, in _find_and_load\n",
      "  File \"<frozen importlib._bootstrap>\", line 1331, in _find_and_load_unlocked\n",
      "  File \"<frozen importlib._bootstrap>\", line 935, in _load_unlocked\n",
      "  File \"<frozen importlib._bootstrap_external>\", line 994, in exec_module\n",
      "  File \"<frozen importlib._bootstrap>\", line 488, in _call_with_frames_removed\n",
      "  File \"C:\\Users\\lokna\\AppData\\Local\\Temp\\pip-build-env-205sg9_j\\overlay\\Lib\\site-packages\\setuptools\\__init__.py\", line 10, in <module>\n",
      "    import distutils.core\n",
      "ModuleNotFoundError: No module named 'distutils'\n",
      "\n"
     ]
    },
    {
     "name": "stdout",
     "output_type": "stream",
     "text": [
      "Defaulting to user installation because normal site-packages is not writeable\n",
      "Requirement already satisfied: pandas==2.2.0 in c:\\users\\lokna\\appdata\\roaming\\python\\python312\\site-packages (2.2.0)\n",
      "Requirement already satisfied: numpy<2,>=1.26.0 in c:\\users\\lokna\\appdata\\roaming\\python\\python312\\site-packages (from pandas==2.2.0) (1.26.3)\n",
      "Requirement already satisfied: python-dateutil>=2.8.2 in c:\\users\\lokna\\appdata\\roaming\\python\\python312\\site-packages (from pandas==2.2.0) (2.8.2)\n",
      "Requirement already satisfied: pytz>=2020.1 in c:\\users\\lokna\\appdata\\roaming\\python\\python312\\site-packages (from pandas==2.2.0) (2023.3.post1)\n",
      "Requirement already satisfied: tzdata>=2022.7 in c:\\users\\lokna\\appdata\\roaming\\python\\python312\\site-packages (from pandas==2.2.0) (2023.4)\n",
      "Requirement already satisfied: six>=1.5 in c:\\users\\lokna\\appdata\\roaming\\python\\python312\\site-packages (from python-dateutil>=2.8.2->pandas==2.2.0) (1.16.0)\n",
      "Defaulting to user installation because normal site-packages is not writeable\n",
      "Requirement already satisfied: scikit-learn==1.4.1.post1 in c:\\users\\lokna\\appdata\\roaming\\python\\python312\\site-packages (1.4.1.post1)\n",
      "Requirement already satisfied: numpy<2.0,>=1.19.5 in c:\\users\\lokna\\appdata\\roaming\\python\\python312\\site-packages (from scikit-learn==1.4.1.post1) (1.26.3)\n",
      "Requirement already satisfied: scipy>=1.6.0 in c:\\users\\lokna\\appdata\\roaming\\python\\python312\\site-packages (from scikit-learn==1.4.1.post1) (1.11.4)\n",
      "Requirement already satisfied: joblib>=1.2.0 in c:\\users\\lokna\\appdata\\roaming\\python\\python312\\site-packages (from scikit-learn==1.4.1.post1) (1.3.2)\n",
      "Requirement already satisfied: threadpoolctl>=2.0.0 in c:\\users\\lokna\\appdata\\roaming\\python\\python312\\site-packages (from scikit-learn==1.4.1.post1) (3.2.0)\n"
     ]
    }
   ],
   "source": [
    "!pip install --upgrade numpy==1.24.3\n",
    "!pip install --upgrade pandas==2.2.0\n",
    "!pip install --upgrade scikit-learn==1.4.1.post1"
   ]
  },
  {
   "cell_type": "code",
   "execution_count": 218,
   "id": "bab31ef1-cd6a-4431-80d0-05a24af60d7f",
   "metadata": {},
   "outputs": [
    {
     "name": "stdout",
     "output_type": "stream",
     "text": [
      "<class 'pandas.core.frame.DataFrame'>\n",
      "RangeIndex: 1338 entries, 0 to 1337\n",
      "Data columns (total 18 columns):\n",
      " #   Column               Non-Null Count  Dtype  \n",
      "---  ------               --------------  -----  \n",
      " 0   age                  1338 non-null   float64\n",
      " 1   sex                  1338 non-null   int64  \n",
      " 2   bmi                  1338 non-null   float64\n",
      " 3   children             1338 non-null   float64\n",
      " 4   smoker               1338 non-null   int64  \n",
      " 5   charges              1338 non-null   float64\n",
      " 6   avg_steps_per_day    1338 non-null   float64\n",
      " 7   gym_frequency        1338 non-null   int64  \n",
      " 8   time_spent_in_gym    1338 non-null   int64  \n",
      " 9   region_northeast     1338 non-null   bool   \n",
      " 10  region_northwest     1338 non-null   bool   \n",
      " 11  region_southeast     1338 non-null   bool   \n",
      " 12  region_southwest     1338 non-null   bool   \n",
      " 13  occupation_Artist    1338 non-null   bool   \n",
      " 14  occupation_Doctor    1338 non-null   bool   \n",
      " 15  occupation_Engineer  1338 non-null   bool   \n",
      " 16  occupation_Other     1338 non-null   bool   \n",
      " 17  occupation_Teacher   1338 non-null   bool   \n",
      "dtypes: bool(9), float64(5), int64(4)\n",
      "memory usage: 106.0 KB\n"
     ]
    }
   ],
   "source": [
    "import pandas as pd\n",
    "df = pd.read_csv('C:\\\\Users\\\\lokna\\\\updated_insurance.csv')\n",
    "df.info()"
   ]
  },
  {
   "cell_type": "code",
   "execution_count": 219,
   "id": "4ad9c5ce-af75-4666-ad05-8a77c9c9a811",
   "metadata": {},
   "outputs": [
    {
     "name": "stdout",
     "output_type": "stream",
     "text": [
      "<class 'pandas.core.frame.DataFrame'>\n",
      "RangeIndex: 1338 entries, 0 to 1337\n",
      "Data columns (total 17 columns):\n",
      " #   Column               Non-Null Count  Dtype  \n",
      "---  ------               --------------  -----  \n",
      " 0   age                  1338 non-null   float64\n",
      " 1   sex                  1338 non-null   int64  \n",
      " 2   bmi                  1338 non-null   float64\n",
      " 3   children             1338 non-null   float64\n",
      " 4   smoker               1338 non-null   int64  \n",
      " 5   avg_steps_per_day    1338 non-null   float64\n",
      " 6   gym_frequency        1338 non-null   int64  \n",
      " 7   time_spent_in_gym    1338 non-null   int64  \n",
      " 8   region_northeast     1338 non-null   bool   \n",
      " 9   region_northwest     1338 non-null   bool   \n",
      " 10  region_southeast     1338 non-null   bool   \n",
      " 11  region_southwest     1338 non-null   bool   \n",
      " 12  occupation_Artist    1338 non-null   bool   \n",
      " 13  occupation_Doctor    1338 non-null   bool   \n",
      " 14  occupation_Engineer  1338 non-null   bool   \n",
      " 15  occupation_Other     1338 non-null   bool   \n",
      " 16  occupation_Teacher   1338 non-null   bool   \n",
      "dtypes: bool(9), float64(4), int64(4)\n",
      "memory usage: 95.5 KB\n",
      "None\n",
      "<class 'pandas.core.series.Series'>\n",
      "RangeIndex: 1338 entries, 0 to 1337\n",
      "Series name: charges\n",
      "Non-Null Count  Dtype  \n",
      "--------------  -----  \n",
      "1338 non-null   float64\n",
      "dtypes: float64(1)\n",
      "memory usage: 10.6 KB\n",
      "None\n"
     ]
    }
   ],
   "source": [
    "X= df.drop('charges', axis=1)\n",
    "y= df['charges']\n",
    "print(X.info())\n",
    "print(y.info())"
   ]
  },
  {
   "cell_type": "code",
   "execution_count": 220,
   "id": "fa870af4-6fa8-4de9-93a6-65d2f963acd9",
   "metadata": {},
   "outputs": [
    {
     "name": "stdout",
     "output_type": "stream",
     "text": [
      "(1338, 18)\n",
      "39.16151545363908\n"
     ]
    }
   ],
   "source": [
    "#1st question\n",
    "import pandas as pd\n",
    "import numpy as np\n",
    "from sklearn.model_selection import train_test_split\n",
    " \n",
    "print(df.shape)\n",
    "X_train, X_test, y_train, y_test = train_test_split(\n",
    "  X,y , random_state=0,test_size=0.25)\n",
    "mean_age = X_train['age'].mean()\n",
    "print(mean_age)\n"
   ]
  },
  {
   "cell_type": "code",
   "execution_count": 221,
   "id": "3c4200be-7a55-4613-a961-feaffd87809b",
   "metadata": {},
   "outputs": [
    {
     "name": "stdout",
     "output_type": "stream",
     "text": [
      "           age  sex       bmi  children  smoker  avg_steps_per_day  \\\n",
      "0     0.304348  0.0  0.366694       0.2     1.0           0.827160   \n",
      "1     0.934783  0.0  0.163573       0.0     1.0           0.604938   \n",
      "2     0.021739  1.0  0.232446       0.2     1.0           0.728395   \n",
      "3     0.043478  0.0  0.227603       0.0     0.0           0.740741   \n",
      "4     0.173913  0.0  0.168684       0.0     1.0           0.864198   \n",
      "...        ...  ...       ...       ...     ...                ...   \n",
      "998   0.195652  1.0  0.270917       0.0     1.0           0.592593   \n",
      "999   0.521739  1.0  0.538337       0.4     1.0           0.481481   \n",
      "1000  0.478261  1.0  0.245359       0.0     1.0           0.728395   \n",
      "1001  0.021739  1.0  0.526500       0.0     1.0           0.913580   \n",
      "1002  0.326087  0.0  0.068335       0.2     1.0           0.703704   \n",
      "\n",
      "      gym_frequency  time_spent_in_gym  region_northeast  region_northwest  \\\n",
      "0          0.666667               0.50               0.0               0.0   \n",
      "1          0.666667               0.75               0.0               0.0   \n",
      "2          1.000000               0.75               0.0               0.0   \n",
      "3          0.666667               0.50               0.0               0.0   \n",
      "4          1.000000               0.75               0.0               1.0   \n",
      "...             ...                ...               ...               ...   \n",
      "998        0.666667               0.50               1.0               0.0   \n",
      "999        0.666667               0.75               0.0               0.0   \n",
      "1000       0.666667               0.75               0.0               0.0   \n",
      "1001       0.666667               0.50               0.0               1.0   \n",
      "1002       1.000000               1.00               0.0               0.0   \n",
      "\n",
      "      region_southeast  region_southwest  occupation_Artist  \\\n",
      "0                  1.0               0.0                0.0   \n",
      "1                  1.0               0.0                0.0   \n",
      "2                  0.0               1.0                0.0   \n",
      "3                  1.0               0.0                0.0   \n",
      "4                  0.0               0.0                0.0   \n",
      "...                ...               ...                ...   \n",
      "998                0.0               0.0                0.0   \n",
      "999                1.0               0.0                0.0   \n",
      "1000               1.0               0.0                0.0   \n",
      "1001               0.0               0.0                0.0   \n",
      "1002               0.0               1.0                0.0   \n",
      "\n",
      "      occupation_Doctor  occupation_Engineer  occupation_Other  \\\n",
      "0                   0.0                  0.0               1.0   \n",
      "1                   0.0                  0.0               1.0   \n",
      "2                   1.0                  0.0               0.0   \n",
      "3                   0.0                  1.0               0.0   \n",
      "4                   0.0                  0.0               0.0   \n",
      "...                 ...                  ...               ...   \n",
      "998                 0.0                  0.0               1.0   \n",
      "999                 0.0                  1.0               0.0   \n",
      "1000                0.0                  0.0               0.0   \n",
      "1001                0.0                  0.0               0.0   \n",
      "1002                0.0                  0.0               1.0   \n",
      "\n",
      "      occupation_Teacher  \n",
      "0                    0.0  \n",
      "1                    0.0  \n",
      "2                    0.0  \n",
      "3                    0.0  \n",
      "4                    1.0  \n",
      "...                  ...  \n",
      "998                  0.0  \n",
      "999                  0.0  \n",
      "1000                 1.0  \n",
      "1001                 1.0  \n",
      "1002                 0.0  \n",
      "\n",
      "[1003 rows x 17 columns]\n",
      "0.46398442569759896\n"
     ]
    }
   ],
   "source": [
    "#2nd question\n",
    "from sklearn.preprocessing import MinMaxScaler\n",
    "scaler = MinMaxScaler()\n",
    "scaler.fit(X_train)\n",
    "# transform both the training and testing data\n",
    "X_train_scaled = scaler.transform(X_train)\n",
    "X_test_scaled = scaler.transform(X_test)\n",
    "# convert scaled numpy arrays to dataframes with the same feature names as X\n",
    "X_train_scaled = pd.DataFrame(X_train_scaled, columns=X_train.columns)\n",
    "print(X_train_scaled)\n",
    "X_test_scaled = pd.DataFrame(X_test_scaled, columns=X_test.columns)\n",
    "#perform mean age on X_test dataframe\n",
    "mean_age = X_test_scaled['age'].mean()\n",
    "print(mean_age) \n",
    "\n",
    "\n"
   ]
  },
  {
   "cell_type": "code",
   "execution_count": 222,
   "id": "2c77a3c6-abbe-4039-82a0-c91fb567bc94",
   "metadata": {},
   "outputs": [
    {
     "name": "stdout",
     "output_type": "stream",
     "text": [
      "-0.7\n"
     ]
    }
   ],
   "source": [
    "#3rd question\n",
    "from scipy.stats import pearsonr\n",
    "corr, _ = pearsonr(X_train_scaled['smoker'], y_train)\n",
    "print(round(corr, 2))\n",
    "#The reason we use corr, _ instead of just corr is because pearsonr returns two values, and if we only provide one variable to receive the output, we will get a ValueError since there are two values to unpack. By using corr, _, \n",
    "#we are telling Python to assign the first value returned by pearsonr to corr and the second value to _, which we are not using."
   ]
  },
  {
   "cell_type": "raw",
   "id": "db4ef796-2d17-4be7-9e5c-54211ea5599d",
   "metadata": {},
   "source": [
    "#4th question\n",
    "1.The resulting SLR model may have limited predictive power and may not provide accurate or meaningful predictions.\n",
    "\n",
    "\n",
    "2.The SLR's predictions could be scattered around the observed data points, and it may not effectively capture the variability in the response variable based on changes in the predictor variable.\n",
    "\n",
    "\n",
    "3.The Pearson correlation coefficient indicates a moderate correlation between the predictor variable and the response variable in an SLR context.\n",
    "\n"
   ]
  },
  {
   "cell_type": "code",
   "execution_count": 223,
   "id": "8475d5c0-2b93-4b0d-8737-9f3e421cfba1",
   "metadata": {},
   "outputs": [
    {
     "name": "stdout",
     "output_type": "stream",
     "text": [
      "R2 score: 0.49\n"
     ]
    }
   ],
   "source": [
    "#5th question\n",
    "from sklearn.linear_model import LinearRegression\n",
    "from sklearn.metrics import r2_score\n",
    "model = LinearRegression(fit_intercept = True)\n",
    "model.fit(X_train_scaled[['smoker']], y_train)\n",
    "y_pred = model.predict(X_train_scaled[['smoker']])\n",
    "r2 = r2_score(y_train, y_pred )\n",
    "print('R2 score:', round(r2, 2))"
   ]
  },
  {
   "cell_type": "code",
   "execution_count": 224,
   "id": "5328aac2-4369-4d32-810d-99a8349d44be",
   "metadata": {},
   "outputs": [
    {
     "name": "stdout",
     "output_type": "stream",
     "text": [
      "                  Results: Ordinary least squares\n",
      "===================================================================\n",
      "Model:              OLS              Adj. R-squared:     0.491     \n",
      "Dependent Variable: charges          AIC:                21005.9939\n",
      "Date:               2024-04-01 09:17 BIC:                21015.8154\n",
      "No. Observations:   1003             Log-Likelihood:     -10501.   \n",
      "Df Model:           1                F-statistic:        967.6     \n",
      "Df Residuals:       1001             Prob (F-statistic): 3.55e-149 \n",
      "R-squared:          0.492            Scale:              7.2805e+07\n",
      "-------------------------------------------------------------------\n",
      "          Coef.    Std.Err.    t     P>|t|     [0.025      0.975]  \n",
      "-------------------------------------------------------------------\n",
      "const   31196.6378 637.7553  48.9163 0.0000  29945.1471  32448.1285\n",
      "smoker -21886.7923 703.6245 -31.1058 0.0000 -23267.5405 -20506.0441\n",
      "-------------------------------------------------------------------\n",
      "Omnibus:             334.064       Durbin-Watson:          1.989   \n",
      "Prob(Omnibus):       0.000         Jarque-Bera (JB):       1230.608\n",
      "Skew:                1.576         Prob(JB):               0.000   \n",
      "Kurtosis:            7.417         Condition No.:          5       \n",
      "===================================================================\n",
      "Notes:\n",
      "[1] Standard Errors assume that the covariance matrix of the errors\n",
      "is correctly specified.\n"
     ]
    }
   ],
   "source": [
    "#6th question\n",
    "import statsmodels.api as sm\n",
    "X_train_smo = sm.add_constant(X_train_scaled[['smoker']])\n",
    "# Reset index of y_train and X_train_smoker\n",
    "y_train = y_train.reset_index(drop=True)\n",
    "X_train_smo = X_train_smo.reset_index(drop=True)\n",
    "\n",
    "cc_sm = sm.OLS(y_train, X_train_smo)\n",
    "results = cc_sm.fit()\n",
    "print(results.summary2())"
   ]
  },
  {
   "cell_type": "raw",
   "id": "5c7215f7-275d-4e6a-a611-f9988f903a62",
   "metadata": {},
   "source": [
    "#7th question \n",
    "The R-squared value ranges from 0 to 1, with a value of 0 indicating that the independent variable **does not explain any of the variability** in the dependent variable, and a value of 1 indicating that the independent variable **explains all of the variability** in the dependent variable.\n",
    "\n",
    "Typically, an R-squared value of less than 0.25 indicates weak explanatory power, while an R-squared value of 0.25 to 0.50 indicates moderate explanatory power, and an R-squared value of 0.50 or higher indicates strong explanatory power. However, these thresholds can vary depending on the context and the field of study.\n",
    "##The model shows a statistically significant relationship between the independent variable smoker and the dependent variable charges, with a moderate explanatory power."
   ]
  },
  {
   "cell_type": "raw",
   "id": "bea9cf23-ed40-4c45-a868-fb7931886712",
   "metadata": {},
   "source": [
    "\n",
    "#8th question \n",
    " Yes, the skewness value in the SLR model summary is 1.576, which is greater than 1. This indicates that the distribution is highly right-skewed, which may violate the normality assumption of the regression model.\n",
    "\n",
    "Therefore, the correct statement is:\n",
    "\n",
    "Based on the calculated skewness, the distribution is highly right-skewed, so it's violating normality assumption.\n",
    "\n",
    "High skewness may affect the performance of certain statistical analyses, such as regression models, by violating assumptions of normality.       \n"
   ]
  },
  {
   "cell_type": "raw",
   "id": "e6b3b50e-802b-4450-b951-eac4c7df6f89",
   "metadata": {},
   "source": [
    "#9th question\n",
    "corrmatrix = X_train_scaled.corr()\n",
    "# Set the correlation threshold\n",
    "threshold = 0.7\n",
    "# Find the columns to remove based on the correlation matrix\n",
    "columns_to_remove = []\n",
    "for i in range(len(corrmatrix.columns)):\n",
    "    for j in range(i+1, len(corrmatrix.columns)):\n",
    "        if np.abs(corrmatrix.iloc[i,j]) >= threshold:\n",
    "            if i < j:\n",
    "                columns_to_remove.append(corrmatrix.columns[j])\n",
    "                print(f\"Correlation between {corrmatrix.columns[i]} and {corrmatrix.columns[j]} is {corrmatrix.iloc[i,j]}\")\n",
    "            else:\n",
    "                columns_to_remove.append(corrmatrix.columns[i])\n",
    "                print(f\"Correlation between {corrmatrix.columns[i]} and {corrmatrix.columns[j]} is {corrmatrix.iloc[i,j]}\")\n",
    "print(columns_to_remove)\n",
    "print(X_train)\n",
    "print(X_train_scaled)\n"
   ]
  },
  {
   "cell_type": "code",
   "execution_count": 225,
   "id": "035d7400-07a2-4dc5-8265-1991078c6caf",
   "metadata": {},
   "outputs": [
    {
     "data": {
      "text/plain": [
       "array([[ 1.00000000e+00, -1.80487924e-02,  9.59682906e-02,\n",
       "         7.55325718e-02,  2.12290994e-02, -7.06355606e-01,\n",
       "        -1.27368162e-01, -1.79012427e-01, -1.83003305e-02,\n",
       "         6.39780139e-03, -1.54896438e-03,  1.28092965e-02,\n",
       "         2.46499891e-02,  7.63689734e-02, -7.65733764e-02,\n",
       "        -8.73418832e-04, -2.18353765e-02],\n",
       "       [-1.80487924e-02,  1.00000000e+00,  4.03052423e-02,\n",
       "         1.68852103e-02, -6.16573078e-02,  3.22213711e-02,\n",
       "        -1.17639368e-02, -2.56143053e-02, -1.34700353e-02,\n",
       "        -9.60012670e-04,  4.04270383e-02, -2.76971842e-02,\n",
       "         3.00237709e-02, -2.47470357e-02, -2.59402994e-02,\n",
       "         2.02889531e-02, -3.49191110e-03],\n",
       "       [ 9.59682906e-02,  4.03052423e-02,  1.00000000e+00,\n",
       "         2.63516908e-02,  2.70730000e-02, -7.82859721e-02,\n",
       "        -4.52434293e-02, -3.29813159e-02, -1.06357738e-01,\n",
       "        -1.26645449e-01,  2.57010780e-01, -3.86479533e-02,\n",
       "        -4.54642303e-04,  5.84617805e-02, -4.62362110e-02,\n",
       "        -1.43309685e-02,  6.43259170e-03],\n",
       "       [ 7.55325718e-02,  1.68852103e-02,  2.63516908e-02,\n",
       "         1.00000000e+00, -3.69998287e-02, -3.03782818e-02,\n",
       "         1.57445432e-02, -5.26874902e-02, -1.68315354e-02,\n",
       "         2.86166267e-02, -1.70379060e-02,  5.61630612e-03,\n",
       "         6.55078583e-02, -3.94824563e-02, -7.94538595e-03,\n",
       "        -7.33748185e-03, -1.21033568e-02],\n",
       "       [ 2.12290994e-02, -6.16573078e-02,  2.70730000e-02,\n",
       "        -3.69998287e-02,  1.00000000e+00, -1.36182009e-02,\n",
       "         1.29316493e-01,  9.59517668e-02, -1.77616288e-02,\n",
       "         2.33836538e-02, -6.98272656e-02,  6.57876003e-02,\n",
       "        -2.76296418e-02, -2.02657378e-02, -1.79902030e-03,\n",
       "         3.91779019e-02,  5.22515578e-03],\n",
       "       [-7.06355606e-01,  3.22213711e-02, -7.82859721e-02,\n",
       "        -3.03782818e-02, -1.36182009e-02,  1.00000000e+00,\n",
       "         1.10882777e-01,  1.51736074e-01, -6.49030982e-03,\n",
       "         1.05577914e-03,  1.29821860e-02, -8.15987624e-03,\n",
       "        -2.77754790e-02, -8.99228937e-02,  3.50232815e-02,\n",
       "         1.16520713e-02,  6.85656332e-02],\n",
       "       [-1.27368162e-01, -1.17639368e-02, -4.52434293e-02,\n",
       "         1.57445432e-02,  1.29316493e-01,  1.10882777e-01,\n",
       "         1.00000000e+00,  5.36929074e-01, -5.36049281e-02,\n",
       "         2.02525572e-02,  2.73046891e-03,  2.85860882e-02,\n",
       "         7.38764031e-02, -4.27312787e-02, -2.53538166e-02,\n",
       "         3.47048660e-02, -4.83680371e-02],\n",
       "       [-1.79012427e-01, -2.56143053e-02, -3.29813159e-02,\n",
       "        -5.26874902e-02,  9.59517668e-02,  1.51736074e-01,\n",
       "         5.36929074e-01,  1.00000000e+00, -6.89838836e-02,\n",
       "         2.05189270e-02,  5.05489524e-03,  4.06170247e-02,\n",
       "         3.70174355e-02, -2.63790905e-02, -4.87082897e-03,\n",
       "         5.14164289e-03, -1.31617288e-02],\n",
       "       [-1.83003305e-02, -1.34700353e-02, -1.06357738e-01,\n",
       "        -1.68315354e-02, -1.77616288e-02, -6.49030982e-03,\n",
       "        -5.36049281e-02, -6.89838836e-02,  1.00000000e+00,\n",
       "        -3.01609358e-01, -3.34665796e-01, -3.16470459e-01,\n",
       "         1.96658235e-02,  1.87283700e-02,  9.79245794e-03,\n",
       "        -2.64731668e-02, -1.83308057e-02],\n",
       "       [ 6.39780139e-03, -9.60012670e-04, -1.26645449e-01,\n",
       "         2.86166267e-02,  2.33836538e-02,  1.05577914e-03,\n",
       "         2.02525572e-02,  2.05189270e-02, -3.01609358e-01,\n",
       "         1.00000000e+00, -3.49022334e-01, -3.30046452e-01,\n",
       "         1.97221352e-02, -4.09475838e-02, -2.52433779e-02,\n",
       "         5.90412570e-04,  4.53089449e-02],\n",
       "       [-1.54896438e-03,  4.04270383e-02,  2.57010780e-01,\n",
       "        -1.70379060e-02, -6.98272656e-02,  1.29821860e-02,\n",
       "         2.73046891e-03,  5.05489524e-03, -3.34665796e-01,\n",
       "        -3.49022334e-01,  1.00000000e+00, -3.66219600e-01,\n",
       "        -8.06850050e-03,  8.36827577e-03, -2.70628200e-02,\n",
       "         4.75899258e-02, -2.72881748e-02],\n",
       "       [ 1.28092965e-02, -2.76971842e-02, -3.86479533e-02,\n",
       "         5.61630612e-03,  6.57876003e-02, -8.15987624e-03,\n",
       "         2.85860882e-02,  4.06170247e-02, -3.16470459e-01,\n",
       "        -3.30046452e-01, -3.66219600e-01,  1.00000000e+00,\n",
       "        -2.97371524e-02,  1.35067100e-02,  4.30677927e-02,\n",
       "        -2.41524148e-02,  1.27376353e-03],\n",
       "       [ 2.46499891e-02,  3.00237709e-02, -4.54642303e-04,\n",
       "         6.55078583e-02, -2.76296418e-02, -2.77754790e-02,\n",
       "         7.38764031e-02,  3.70174355e-02,  1.96658235e-02,\n",
       "         1.97221352e-02, -8.06850050e-03, -2.97371524e-02,\n",
       "         1.00000000e+00, -2.25065529e-01, -2.36717478e-01,\n",
       "        -2.95888679e-01, -2.28188972e-01],\n",
       "       [ 7.63689734e-02, -2.47470357e-02,  5.84617805e-02,\n",
       "        -3.94824563e-02, -2.02657378e-02, -8.99228937e-02,\n",
       "        -4.27312787e-02, -2.63790905e-02,  1.87283700e-02,\n",
       "        -4.09475838e-02,  8.36827577e-03,  1.35067100e-02,\n",
       "        -2.25065529e-01,  1.00000000e+00, -2.20757801e-01,\n",
       "        -2.75939633e-01, -2.12804293e-01],\n",
       "       [-7.65733764e-02, -2.59402994e-02, -4.62362110e-02,\n",
       "        -7.94538595e-03, -1.79902030e-03,  3.50232815e-02,\n",
       "        -2.53538166e-02, -4.87082897e-03,  9.79245794e-03,\n",
       "        -2.52433779e-02, -2.70628200e-02,  4.30677927e-02,\n",
       "        -2.36717478e-01, -2.20757801e-01,  1.00000000e+00,\n",
       "        -2.90225403e-01, -2.23821461e-01],\n",
       "       [-8.73418832e-04,  2.02889531e-02, -1.43309685e-02,\n",
       "        -7.33748185e-03,  3.91779019e-02,  1.16520713e-02,\n",
       "         3.47048660e-02,  5.14164289e-03, -2.64731668e-02,\n",
       "         5.90412570e-04,  4.75899258e-02, -2.41524148e-02,\n",
       "        -2.95888679e-01, -2.75939633e-01, -2.90225403e-01,\n",
       "         1.00000000e+00, -2.79769103e-01],\n",
       "       [-2.18353765e-02, -3.49191110e-03,  6.43259170e-03,\n",
       "        -1.21033568e-02,  5.22515578e-03,  6.85656332e-02,\n",
       "        -4.83680371e-02, -1.31617288e-02, -1.83308057e-02,\n",
       "         4.53089449e-02, -2.72881748e-02,  1.27376353e-03,\n",
       "        -2.28188972e-01, -2.12804293e-01, -2.23821461e-01,\n",
       "        -2.79769103e-01,  1.00000000e+00]])"
      ]
     },
     "execution_count": 225,
     "metadata": {},
     "output_type": "execute_result"
    }
   ],
   "source": [
    "#9th question\n",
    "corr_matrix = np.corrcoef(X_train_scaled.T)\n",
    "corr_matrix "
   ]
  },
  {
   "cell_type": "code",
   "execution_count": 226,
   "id": "90a23c1d-45d4-40ac-8de5-d32a47bdca0c",
   "metadata": {},
   "outputs": [
    {
     "data": {
      "image/png": "[encoded data removed]",
      "text/plain": [
       "<Figure size 640x480 with 2 Axes>"
      ]
     },
     "metadata": {},
     "output_type": "display_data"
    }
   ],
   "source": [
    "import matplotlib.pyplot as plt\n",
    "import numpy as np\n",
    "%matplotlib inline\n",
    "\n",
    "plt.imshow(np.abs(corr_matrix))\n",
    "plt.colorbar()\n",
    "plt.xticks(range(X_train_scaled.shape[1]), X_train_scaled.columns)\n",
    "plt.yticks(range(X_train_scaled.shape[1]), X_train_scaled.columns)\n",
    "plt.show()"
   ]
  },
  {
   "cell_type": "code",
   "execution_count": 227,
   "id": "fa0610ff-3c92-4524-806d-44fae1f38b48",
   "metadata": {},
   "outputs": [
    {
     "name": "stdout",
     "output_type": "stream",
     "text": [
      "           age  sex       bmi  children  smoker  gym_frequency  \\\n",
      "0     0.304348  0.0  0.366694       0.2     1.0       0.666667   \n",
      "1     0.934783  0.0  0.163573       0.0     1.0       0.666667   \n",
      "2     0.021739  1.0  0.232446       0.2     1.0       1.000000   \n",
      "3     0.043478  0.0  0.227603       0.0     0.0       0.666667   \n",
      "4     0.173913  0.0  0.168684       0.0     1.0       1.000000   \n",
      "...        ...  ...       ...       ...     ...            ...   \n",
      "998   0.195652  1.0  0.270917       0.0     1.0       0.666667   \n",
      "999   0.521739  1.0  0.538337       0.4     1.0       0.666667   \n",
      "1000  0.478261  1.0  0.245359       0.0     1.0       0.666667   \n",
      "1001  0.021739  1.0  0.526500       0.0     1.0       0.666667   \n",
      "1002  0.326087  0.0  0.068335       0.2     1.0       1.000000   \n",
      "\n",
      "      time_spent_in_gym  region_northeast  region_northwest  region_southeast  \\\n",
      "0                  0.50               0.0               0.0               1.0   \n",
      "1                  0.75               0.0               0.0               1.0   \n",
      "2                  0.75               0.0               0.0               0.0   \n",
      "3                  0.50               0.0               0.0               1.0   \n",
      "4                  0.75               0.0               1.0               0.0   \n",
      "...                 ...               ...               ...               ...   \n",
      "998                0.50               1.0               0.0               0.0   \n",
      "999                0.75               0.0               0.0               1.0   \n",
      "1000               0.75               0.0               0.0               1.0   \n",
      "1001               0.50               0.0               1.0               0.0   \n",
      "1002               1.00               0.0               0.0               0.0   \n",
      "\n",
      "      region_southwest  occupation_Artist  occupation_Doctor  \\\n",
      "0                  0.0                0.0                0.0   \n",
      "1                  0.0                0.0                0.0   \n",
      "2                  1.0                0.0                1.0   \n",
      "3                  0.0                0.0                0.0   \n",
      "4                  0.0                0.0                0.0   \n",
      "...                ...                ...                ...   \n",
      "998                0.0                0.0                0.0   \n",
      "999                0.0                0.0                0.0   \n",
      "1000               0.0                0.0                0.0   \n",
      "1001               0.0                0.0                0.0   \n",
      "1002               1.0                0.0                0.0   \n",
      "\n",
      "      occupation_Engineer  occupation_Other  occupation_Teacher  \n",
      "0                     0.0               1.0                 0.0  \n",
      "1                     0.0               1.0                 0.0  \n",
      "2                     0.0               0.0                 0.0  \n",
      "3                     1.0               0.0                 0.0  \n",
      "4                     0.0               0.0                 1.0  \n",
      "...                   ...               ...                 ...  \n",
      "998                   0.0               1.0                 0.0  \n",
      "999                   1.0               0.0                 0.0  \n",
      "1000                  0.0               0.0                 1.0  \n",
      "1001                  0.0               0.0                 1.0  \n",
      "1002                  0.0               1.0                 0.0  \n",
      "\n",
      "[1003 rows x 16 columns]\n"
     ]
    }
   ],
   "source": [
    "X_train_ols = X_train_scaled.drop('avg_steps_per_day', axis = 1)\n",
    "print(X_train_ols)"
   ]
  },
  {
   "cell_type": "code",
   "execution_count": 228,
   "id": "e768368a-4946-41ca-902b-fb070ec5c953",
   "metadata": {},
   "outputs": [
    {
     "name": "stdout",
     "output_type": "stream",
     "text": [
      "0.6153315379930815\n"
     ]
    }
   ],
   "source": [
    "#10th question\n",
    "import statsmodels.api as sm\n",
    "\n",
    "X_train_ols= sm.add_constant(X_train_ols)\n",
    "\n",
    "model = sm.OLS(y_train,X_train_ols).fit() \n",
    "r2 = model.rsquared\n",
    "print(r2)"
   ]
  },
  {
   "cell_type": "code",
   "execution_count": 229,
   "id": "6e951ce4-049b-4244-8d15-2d01ad6b1803",
   "metadata": {},
   "outputs": [
    {
     "name": "stdout",
     "output_type": "stream",
     "text": [
      "[5.279970080417351e-83, 3.65234378190898e-33, 0.5751848411434759, 9.425073369138654e-17, 0.015479839231789975, 1.0210564724090395e-173, 0.035323231980750595, 0.0958864566020479, 1.2481632051919416e-20, 1.8460082332370808e-18, 1.26741547229672e-15, 1.4618445203145584e-12, 0.00015184929444121456, 5.147983176690596e-07, 1.813712923992731e-11, 4.835826601329779e-14, 1.2789229938897865e-13]\n",
      "['sex', 'time_spent_in_gym']\n",
      "      const       age       bmi  children  smoker  gym_frequency  \\\n",
      "0       1.0  0.304348  0.366694       0.2     1.0       0.666667   \n",
      "1       1.0  0.934783  0.163573       0.0     1.0       0.666667   \n",
      "2       1.0  0.021739  0.232446       0.2     1.0       1.000000   \n",
      "3       1.0  0.043478  0.227603       0.0     0.0       0.666667   \n",
      "4       1.0  0.173913  0.168684       0.0     1.0       1.000000   \n",
      "...     ...       ...       ...       ...     ...            ...   \n",
      "998     1.0  0.195652  0.270917       0.0     1.0       0.666667   \n",
      "999     1.0  0.521739  0.538337       0.4     1.0       0.666667   \n",
      "1000    1.0  0.478261  0.245359       0.0     1.0       0.666667   \n",
      "1001    1.0  0.021739  0.526500       0.0     1.0       0.666667   \n",
      "1002    1.0  0.326087  0.068335       0.2     1.0       1.000000   \n",
      "\n",
      "      region_northeast  region_northwest  region_southeast  region_southwest  \\\n",
      "0                  0.0               0.0               1.0               0.0   \n",
      "1                  0.0               0.0               1.0               0.0   \n",
      "2                  0.0               0.0               0.0               1.0   \n",
      "3                  0.0               0.0               1.0               0.0   \n",
      "4                  0.0               1.0               0.0               0.0   \n",
      "...                ...               ...               ...               ...   \n",
      "998                1.0               0.0               0.0               0.0   \n",
      "999                0.0               0.0               1.0               0.0   \n",
      "1000               0.0               0.0               1.0               0.0   \n",
      "1001               0.0               1.0               0.0               0.0   \n",
      "1002               0.0               0.0               0.0               1.0   \n",
      "\n",
      "      occupation_Artist  occupation_Doctor  occupation_Engineer  \\\n",
      "0                   0.0                0.0                  0.0   \n",
      "1                   0.0                0.0                  0.0   \n",
      "2                   0.0                1.0                  0.0   \n",
      "3                   0.0                0.0                  1.0   \n",
      "4                   0.0                0.0                  0.0   \n",
      "...                 ...                ...                  ...   \n",
      "998                 0.0                0.0                  0.0   \n",
      "999                 0.0                0.0                  1.0   \n",
      "1000                0.0                0.0                  0.0   \n",
      "1001                0.0                0.0                  0.0   \n",
      "1002                0.0                0.0                  0.0   \n",
      "\n",
      "      occupation_Other  occupation_Teacher  \n",
      "0                  1.0                 0.0  \n",
      "1                  1.0                 0.0  \n",
      "2                  0.0                 0.0  \n",
      "3                  0.0                 0.0  \n",
      "4                  0.0                 1.0  \n",
      "...                ...                 ...  \n",
      "998                1.0                 0.0  \n",
      "999                0.0                 0.0  \n",
      "1000               0.0                 1.0  \n",
      "1001               0.0                 1.0  \n",
      "1002               1.0                 0.0  \n",
      "\n",
      "[1003 rows x 15 columns]\n"
     ]
    }
   ],
   "source": [
    "#11th question \n",
    "import statsmodels.api as sm\n",
    "ols_lnr = sm.OLS(y_train, X_train_ols)\n",
    "model_ols = ols_lnr.fit()\n",
    " #getting p_value for each column using .pvalue function\n",
    "p_values = [val for val in model_ols.pvalues]\n",
    "print(p_values)\n",
    "#or\n",
    "#p_values = [val for val in result_ols.pvalues]\n",
    "\n",
    "# non-significant values which p_value is greater than 0.05 \n",
    "non_significant_cols = []\n",
    "for col, pval in zip(X_train_ols.columns, p_values):\n",
    "  if pval > 0.05:\n",
    "      non_significant_cols.append(col)\n",
    "#non_significant_cols = [col for col, pval in zip(X_train_ols.columns, p_values) if pval > 0.05] \n",
    "print(non_significant_cols) \n",
    "\n",
    "X_train_ols = X_train_ols.drop(non_significant_cols, axis=1)\n",
    "print(X_train_ols)\n"
   ]
  },
  {
   "cell_type": "code",
   "execution_count": 230,
   "id": "3bdfb96e-d0d7-4e83-bdf6-7305d5ac73bd",
   "metadata": {},
   "outputs": [
    {
     "name": "stdout",
     "output_type": "stream",
     "text": [
      "                         Results: Ordinary least squares\n",
      "=================================================================================\n",
      "Model:                    OLS                  Adj. R-squared:         0.609     \n",
      "Dependent Variable:       charges              AIC:                    20751.2698\n",
      "Date:                     2024-04-01 09:18     BIC:                    20815.1096\n",
      "No. Observations:         1003                 Log-Likelihood:         -10363.   \n",
      "Df Model:                 12                   F-statistic:            131.3     \n",
      "Df Residuals:             990                  Prob (F-statistic):     4.47e-195 \n",
      "R-squared:                0.614                Scale:                  5.5865e+07\n",
      "---------------------------------------------------------------------------------\n",
      "                       Coef.     Std.Err.    t     P>|t|     [0.025      0.975]  \n",
      "---------------------------------------------------------------------------------\n",
      "const                15135.3644  678.5602  22.3051 0.0000  13803.7828  16466.9460\n",
      "age                  10694.0167  838.2487  12.7576 0.0000   9049.0685  12338.9650\n",
      "bmi                  13143.5962 1548.8956   8.4858 0.0000  10104.1007  16183.0917\n",
      "children              2486.2390  978.6759   2.5404 0.0112    565.7216   4406.7564\n",
      "smoker              -21876.7518  626.3711 -34.9262 0.0000 -23105.9193 -20647.5842\n",
      "gym_frequency        -2320.8218  667.0900  -3.4790 0.0005  -3629.8947  -1011.7490\n",
      "region_northeast      4258.0791  446.2810   9.5413 0.0000   3382.3137   5133.8445\n",
      "region_northwest      3980.6110  446.6071   8.9130 0.0000   3104.2056   4857.0163\n",
      "region_southeast      3740.6705  460.4669   8.1236 0.0000   2837.0673   4644.2737\n",
      "region_southwest      3156.0038  445.4319   7.0853 0.0000   2281.9047   4030.1029\n",
      "occupation_Artist     1906.5932  506.5255   3.7641 0.0002    912.6063   2900.5801\n",
      "occupation_Doctor     2623.9689  526.7802   4.9811 0.0000   1590.2348   3657.7029\n",
      "occupation_Engineer   3349.1645  497.1420   6.7368 0.0000   2373.5914   4324.7375\n",
      "occupation_Other      3422.5037  447.0903   7.6551 0.0000   2545.1501   4299.8573\n",
      "occupation_Teacher    3833.1341  513.6565   7.4624 0.0000   2825.1536   4841.1146\n",
      "---------------------------------------------------------------------------------\n",
      "Omnibus:               420.013         Durbin-Watson:            2.025           \n",
      "Prob(Omnibus):         0.000           Jarque-Bera (JB):         1946.053        \n",
      "Skew:                  1.935           Prob(JB):                 0.000           \n",
      "Kurtosis:              8.621           Condition No.:            8799064036389943\n",
      "=================================================================================\n",
      "Notes:\n",
      "[1] Standard Errors assume that the covariance matrix of the errors is correctly\n",
      "specified.\n",
      "[2] The smallest eigenvalue is 3.9e-29. This might indicate that\n",
      "there are strong multicollinearity problems or that the design\n",
      "matrix is singular.\n",
      "0.614\n"
     ]
    }
   ],
   "source": [
    "#12th question \n",
    "import statsmodels.api as sm \n",
    "\n",
    "X_train_ols= sm.add_constant(X_train_ols) \n",
    "model = sm.OLS(y_train, X_train_ols).fit() \n",
    "print(model.summary2())\n",
    "\n",
    "r_squared = model.rsquared \n",
    "print(format(r_squared, '.3f'))\n"
   ]
  },
  {
   "cell_type": "raw",
   "id": "d389f018-9b94-48df-9187-b8bafa24580c",
   "metadata": {},
   "source": [
    "#13th question\n",
    "\n",
    "The statements \"The mean of all residuals is approximately zero\" \n",
    "The first statement is a requirement for OLS models, and in this case, it seems to be met as the residuals in the plot are scattered around the horizontal axis with an average close to zero.\n",
    "\n"
   ]
  },
  {
   "cell_type": "raw",
   "id": "975c53ec-3b73-4d13-be3a-39b400b7e05b",
   "metadata": {},
   "source": [
    "\n",
    "#14th question \n",
    "\n",
    "1.All the predictors included in the model are statistically significant, as suggested by their p-values.\n",
    "2.In the given OLS regression results, the R-squared value is 0.614, which means that the model explains approximately 61.4% of the variance in the dependent variable charges.\n",
    "3.This value indicates that the model explains over 60% of the variance in the dependent variable charges, which is generally considered a relatively strong fit, given that R-squared values can range from 0 to 1.\n",
    "\n",
    "\n",
    "\n",
    "\n"
   ]
  },
  {
   "cell_type": "code",
   "execution_count": 231,
   "id": "d0cf5944-1925-4876-b747-a3ca76ec0993",
   "metadata": {},
   "outputs": [
    {
     "name": "stdout",
     "output_type": "stream",
     "text": [
      "R2 score: 0.62\n"
     ]
    }
   ],
   "source": [
    "#15th question\n",
    "from sklearn.linear_model import LinearRegression\n",
    "from sklearn.metrics import r2_score\n",
    "model = LinearRegression(fit_intercept = True)\n",
    "model.fit(X_train_scaled, y_train)\n",
    "y_pred = model.predict(X_train_scaled)\n",
    "r2 = r2_score(y_train, y_pred )\n",
    "print('R2 score:', round(r2, 2))\n"
   ]
  },
  {
   "cell_type": "code",
   "execution_count": 232,
   "id": "75ed32ac-6341-458f-a311-554065de2779",
   "metadata": {},
   "outputs": [
    {
     "data": {
      "text/plain": [
       "0.7"
      ]
     },
     "execution_count": 232,
     "metadata": {},
     "output_type": "execute_result"
    }
   ],
   "source": [
    "#16th question\n",
    "y_pred2 = model.predict(X_test_scaled)\n",
    "print(X_test_scaled.shape)\n",
    "print(y_test.shape)\n",
    "round(r2_score(y_test, y_pred2),2)"
   ]
  },
  {
   "cell_type": "raw",
   "id": "3604580f-74e6-48da-a442-8ccc1476fbbf",
   "metadata": {},
   "source": [
    "#17 th question\n",
    "Based on the r2-score computed in the previous two lab questions, this model is a good fit considering the available train and test datasets.\n"
   ]
  },
  {
   "cell_type": "code",
   "execution_count": 233,
   "id": "5e349661-b793-4c1b-8885-1b556677496a",
   "metadata": {},
   "outputs": [
    {
     "name": "stderr",
     "output_type": "stream",
     "text": [
      "C:\\Users\\lokna\\AppData\\Roaming\\Python\\Python312\\site-packages\\sklearn\\linear_model\\_stochastic_gradient.py:1575: ConvergenceWarning: Maximum number of iteration reached before convergence. Consider increasing max_iter to improve the fit.\n",
      "  warnings.warn(\n"
     ]
    }
   ],
   "source": [
    "#18th question\n",
    "train_score = []\n",
    "validation_score = []\n",
    "index = []\n",
    "\n",
    "for max_iter in [10,100,1000]:\n",
    "    \n",
    "        sgd = SGDRegressor(random_state = 0, max_iter = max_iter)\n",
    "        sgd.fit(X_train_scaled, y_train)\n",
    "        train_score.append(sgd.score(X_train_scaled, y_train))\n",
    "        validation_score.append(sgd.score(X_test_scaled, y_test))\n",
    "        index.append((max_iter))\n"
   ]
  },
  {
   "cell_type": "code",
   "execution_count": 234,
   "id": "59051818-50b9-4241-8ea5-81c8e19cdcbe",
   "metadata": {},
   "outputs": [
    {
     "data": {
      "image/png": "[encoded data removed]",
      "text/plain": [
       "<Figure size 2000x500 with 1 Axes>"
      ]
     },
     "metadata": {},
     "output_type": "display_data"
    }
   ],
   "source": [
    "%matplotlib inline\n",
    "\n",
    "plt.subplots(figsize = (20,5))\n",
    "plt.plot(range(len(index)),  train_score, label = 'Train score')\n",
    "plt.plot(range(len(index)), validation_score, label = 'Test score')\n",
    "plt.xticks(range(len(index)), index, rotation = 90)\n",
    "plt.legend()\n",
    "plt.show()"
   ]
  },
  {
   "cell_type": "raw",
   "id": "c2cdba54-0a18-4aaa-9673-b4f540c2ff74",
   "metadata": {},
   "source": [
    "so based on this graph the sgregressor increases while increasing max inter \n",
    "the performance of the SGDRegressor machine learning model improves as the value of the max_iter parameter is increased during training"
   ]
  },
  {
   "cell_type": "code",
   "execution_count": 235,
   "id": "9e729a5d-a532-4844-993a-ef585a386bfe",
   "metadata": {},
   "outputs": [
    {
     "name": "stdout",
     "output_type": "stream",
     "text": [
      "0.6173757314736862\n",
      "0.7024001346521549\n"
     ]
    }
   ],
   "source": [
    "#19th question\n",
    "from sklearn.linear_model import SGDRegressor\n",
    "\n",
    "# Create a SGDRegressor model with a specified learning_rate value\n",
    "sgd_reg = SGDRegressor(learning_rate='adaptive', eta0=0.2, max_iter=1000, random_state=0)\n",
    "\n",
    "# Fit the model to the training data\n",
    "sgd_reg.fit(X_train_scaled, y_train) \n",
    "\n",
    "\n",
    "# Evaluate the model's performance on the training data\n",
    "train_score = sgd_reg.score(X_train_scaled, y_train)\n",
    "test_score = sgd_reg.score(X_test_scaled, y_test)\n",
    "\n",
    "print(train_score)\n",
    "print(test_score)"
   ]
  },
  {
   "cell_type": "code",
   "execution_count": 236,
   "id": "af540ad5-927c-4b9e-81a7-5449fd2f40a0",
   "metadata": {},
   "outputs": [
    {
     "name": "stdout",
     "output_type": "stream",
     "text": [
      "0.19882164139058478\n",
      "0.33946134685353035\n"
     ]
    }
   ],
   "source": [
    "from sklearn.linear_model import SGDRegressor\n",
    "\n",
    "# Create a SGDRegressor model with a specified learning_rate value\n",
    "sgd_reg = SGDRegressor(learning_rate='constant', eta0=0.2, max_iter=1000, random_state=0)\n",
    "\n",
    "# Fit the model to the training data\n",
    "sgd_reg.fit(X_train_scaled, y_train) \n",
    "\n",
    "\n",
    "# Evaluate the model's performance on the training data\n",
    "train_score = sgd_reg.score(X_train_scaled, y_train)\n",
    "test_score = sgd_reg.score(X_test_scaled, y_test)\n",
    "\n",
    "print(train_score)\n",
    "print(test_score)"
   ]
  },
  {
   "cell_type": "code",
   "execution_count": 237,
   "id": "7bd537e1-c45e-4821-bb88-75b6d552b80a",
   "metadata": {},
   "outputs": [
    {
     "name": "stdout",
     "output_type": "stream",
     "text": [
      "-1850437.9977592689\n",
      "-1430965.563662917\n"
     ]
    }
   ],
   "source": [
    "from sklearn.linear_model import SGDRegressor\n",
    "\n",
    "# Create a SGDRegressor model with a specified learning_rate value\n",
    "sgd_reg = SGDRegressor(learning_rate='optimal', eta0=0.2, max_iter=1000, random_state=0)\n",
    "\n",
    "# Fit the model to the training data\n",
    "sgd_reg.fit(X_train_scaled, y_train) \n",
    "\n",
    "\n",
    "# Evaluate the model's performance on the training data\n",
    "train_score = sgd_reg.score(X_train_scaled, y_train)\n",
    "test_score = sgd_reg.score(X_test_scaled, y_test)\n",
    "\n",
    "print(train_score)\n",
    "print(test_score)"
   ]
  },
  {
   "cell_type": "code",
   "execution_count": 238,
   "id": "42f7fb35-e30c-410f-9523-9ca407b35dd4",
   "metadata": {},
   "outputs": [
    {
     "name": "stdout",
     "output_type": "stream",
     "text": [
      "0.6130723727562541\n",
      "0.6942736922044577\n"
     ]
    }
   ],
   "source": [
    "from sklearn.linear_model import SGDRegressor\n",
    "\n",
    "# Create a SGDRegressor model with a specified learning_rate value\n",
    "sgd_reg = SGDRegressor(learning_rate='invscaling', eta0=0.2, max_iter=1000, random_state=0)\n",
    "\n",
    "# Fit the model to the training data\n",
    "sgd_reg.fit(X_train_scaled, y_train) \n",
    "\n",
    "\n",
    "# Evaluate the model's performance on the training data\n",
    "train_score = sgd_reg.score(X_train_scaled, y_train)\n",
    "test_score = sgd_reg.score(X_test_scaled, y_test)\n",
    "\n",
    "print(train_score)\n",
    "print(test_score)"
   ]
  },
  {
   "cell_type": "markdown",
   "id": "d864008c-3633-4b06-9721-2c9c2d2cff71",
   "metadata": {},
   "source": [
    "#19th question\n",
    "based on the different learning rate the  adaptive is having high score."
   ]
  }
 ],
 "metadata": {
  "kernelspec": {
   "display_name": "Python 3 (ipykernel)",
   "language": "python",
   "name": "python3"
  },
  "language_info": {
   "codemirror_mode": {
    "name": "ipython",
    "version": 3
   },
   "file_extension": ".py",
   "mimetype": "text/x-python",
   "name": "python",
   "nbconvert_exporter": "python",
   "pygments_lexer": "ipython3",
   "version": "3.12.1"
  }
 },
 "nbformat": 4,
 "nbformat_minor": 5
}
